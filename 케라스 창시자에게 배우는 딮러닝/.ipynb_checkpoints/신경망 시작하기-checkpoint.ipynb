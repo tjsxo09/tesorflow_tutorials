{
 "cells": [
  {
   "cell_type": "markdown",
   "metadata": {},
   "source": [
    "- 이진 분류, 다중 분류, 회귀 예제를 사용\n",
    "- GPU를 사용한 딮러닝 실행"
   ]
  },
  {
   "cell_type": "markdown",
   "metadata": {},
   "source": [
    "# 1. 신경망의 구조\n",
    "\n",
    "- 신경망 훈련에 관련 된 요소\n",
    "    1. 네트워크를 구성하는 층\n",
    "    2. 입력 데이터와 상응하는 타깃\n",
    "    3. 피드백 신호를 정의하는 손실 함수\n",
    "    4. 학습 진행 방식을 진행하는 옵티마이저\n",
    "    \n",
    "- 각 요소 사이의 관계\n",
    "![관계_그림_예시](./images/relation.jpg)"
   ]
  },
  {
   "cell_type": "markdown",
   "metadata": {},
   "source": [
    "## 1.1. 층: 딮러닝의 구성 단위\n",
    "\n"
   ]
  }
 ],
 "metadata": {
  "kernelspec": {
   "display_name": "keras_tutorial",
   "language": "python",
   "name": "tkeras"
  },
  "language_info": {
   "codemirror_mode": {
    "name": "ipython",
    "version": 3
   },
   "file_extension": ".py",
   "mimetype": "text/x-python",
   "name": "python",
   "nbconvert_exporter": "python",
   "pygments_lexer": "ipython3",
   "version": "3.7.7"
  }
 },
 "nbformat": 4,
 "nbformat_minor": 2
}
