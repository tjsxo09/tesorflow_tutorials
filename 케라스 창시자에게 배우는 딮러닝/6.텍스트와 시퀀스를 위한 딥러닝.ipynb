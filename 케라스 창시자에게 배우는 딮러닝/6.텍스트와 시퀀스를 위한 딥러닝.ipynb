{
 "cells": [
  {
   "cell_type": "markdown",
   "metadata": {},
   "source": [
    "- 텍스트, 시계열, 일반적인 시퀸스 데이터를 처리하는 딥러닝 모델을 살펴봄\n",
    "- 시퀸스 데이터를 처리하는 딥러닝 모델\n",
    "    1. 순환 신경망\n",
    "    2. 1D 컨브넷"
   ]
  },
  {
   "cell_type": "markdown",
   "metadata": {},
   "source": [
    "# 6.1. 텍스트 데이터 다루기\n",
    "\n",
    "- 텍스트 -> 가장 흔한 시퀸스 형태의 데이터\n",
    "- 텍스트 벡터화\n",
    "    - 텍스트를 수치형 텐서로 변환하는 과정\n",
    "    - 텍스트 벡터화 방식\n",
    "        1. 텍스트를 단어로 나누고 각 단어를 하나의 벡터로 변환\n",
    "        2. 텍스트를 문자로 나누고 각 문자를 하나의 벡터로 변환\n",
    "        3. 텍스트에서 단어나 문자의 n-gram을 추출하여 각 n-gram을 하나의 벡터로 변환\n",
    "       \n",
    "       \n",
    "- 토큰\n",
    "    - 텍스트를 나누는 단위(n-gram, 단어, 문자)\n",
    "\n",
    "\n",
    "- 토큰화\n",
    "    - 텍스트를 토큰으로 나누는 작업\n",
    "    \n",
    "    \n",
    "- 텍스트 벡터화 과정\n",
    "    1. 토큰화 적용\n",
    "    2. 토큰에 수치형 벡터를 연결\n",
    "    3. 신경망에 주입\n",
    "    \n",
    "\n",
    "- 소개하는 두 가지 방법\n",
    "    1. 원-핫 인코딩\n",
    "    2. 토큰 임베딩"
   ]
  },
  {
   "cell_type": "markdown",
   "metadata": {},
   "source": [
    "## 1.1. 단어와 문자의 원-핫 인코딩\n",
    "\n",
    "- 토큰을 벡터로 변환하는 가장 일반적이고 기본적인 방법\n",
    "\n",
    "\n",
    "### 원 핫 인코딩의 간단한 예\n",
    "1. 단어 수준 원-핫 인코딩"
   ]
  },
  {
   "cell_type": "code",
   "execution_count": 1,
   "metadata": {},
   "outputs": [],
   "source": [
    "import numpy as np\n",
    "\n",
    "# 초기 데이터 : 각 원소는 샘플\n",
    "samples = ['The cat sat on the mat.', 'The dog ate my homework.']\n",
    "\n",
    "token_index = {}\n",
    "\n",
    "for sample in samples :\n",
    "    for word in sample.split(): # split 메소드를 사용하여 샘플을 토큰으로 나눔\n",
    "        if word not in token_index:\n",
    "            token_index[word] = len(token_index) + 1 # 단어마다 인덱스를 할당\n",
    "            \n",
    "# 샘플을 벡터로 변환\n",
    "# 각 샘플에서 max_length까지 단어만 사용\n",
    "max_length = 10 \n",
    "\n",
    "results = np.zeros(shape=(len(samples),\n",
    "                         max_length,\n",
    "                         max(token_index.values()) + 1))\n",
    "\n",
    "for i, sample in enumerate(samples):\n",
    "    for j, word in list(enumerate(sample.split()))[:max_length]:\n",
    "        index = token_index.get(word)\n",
    "        results[i,j,index] = 1.\n",
    "        \n",
    "# 각 샘플은 10개의 차원을 가지고 있고 해당하는 단어에 1을 가지고 있다."
   ]
  },
  {
   "cell_type": "markdown",
   "metadata": {},
   "source": [
    "2. 문자 수준 원-핫 인코딩"
   ]
  },
  {
   "cell_type": "code",
   "execution_count": 2,
   "metadata": {},
   "outputs": [],
   "source": [
    "import string\n",
    "\n",
    "samples = ['The cat sat on the mat.', 'The dog ate my homework.']\n",
    "characters = string.printable # 출력 가능한 아스키 문자로 설정\n",
    "token_index = dict(zip(characters, range(1, len(characters) + 1))) # 토큰의 사전 -> 아스키코드 문자와 번호를 매칭한다.\n",
    "\n",
    "max_length = 50\n",
    "results = np.zeros((len(samples), max_length, max(token_index.values()) + 1))\n",
    "\n",
    "for i, sample in enumerate(samples):\n",
    "    for j, character in enumerate(sample):\n",
    "        index = token_index.get(character)\n",
    "        results[i,j,index] =1."
   ]
  },
  {
   "cell_type": "markdown",
   "metadata": {},
   "source": [
    "3. 케라스를 사용한 단어 수준 원-핫 인코딩\n",
    "    - 특수 문자 제거, 빈도가 높은 N개의 단어 선택등 여러 기능이 있다."
   ]
  },
  {
   "cell_type": "code",
   "execution_count": 3,
   "metadata": {},
   "outputs": [
    {
     "name": "stderr",
     "output_type": "stream",
     "text": [
      "Using TensorFlow backend.\n"
     ]
    },
    {
     "name": "stdout",
     "output_type": "stream",
     "text": [
      "9개의 고유한 토큰을 찾았습니다.\n"
     ]
    }
   ],
   "source": [
    "from keras.preprocessing.text import Tokenizer\n",
    "\n",
    "samples = ['The cat sat on the mat.', 'The dog ate my homework.']\n",
    "\n",
    "tokenizer = Tokenizer(num_words=1000)\n",
    "tokenizer.fit_on_texts(samples) # 단어 인덱스 구축\n",
    "\n",
    "sequences = tokenizer.texts_to_sequences(samples) # 문자열을 정수 인덱스 리스트로 변환\n",
    "\n",
    "one_hot_results = tokenizer.texts_to_matrix(samples, mode='binary') # 원-핫 인코딩 이진벡터를 구한다.\n",
    "\n",
    "word_index = tokenizer.word_index # 계산된 단어 인덱스 구하기\n",
    "\n",
    "print('{}개의 고유한 토큰을 찾았습니다.'.format(len(word_index)))"
   ]
  },
  {
   "cell_type": "markdown",
   "metadata": {},
   "source": [
    "- 해싱 기법을 사용한 단어 수준의 원-핫 인코딩\n",
    "    - 딕셔너리에 저장하는 단어가 너무 많을 때 사용"
   ]
  },
  {
   "cell_type": "code",
   "execution_count": 4,
   "metadata": {},
   "outputs": [],
   "source": [
    "samples = ['The cat sat on the mat.', 'The dog ate my homework.']\n",
    "\n",
    "dimensionality = 1000\n",
    "max_length = 10\n",
    "\n",
    "results = np.zeros((len(samples), max_length, dimensionality))\n",
    "\n",
    "for i, sample in enumerate(samples):\n",
    "    for j, word in list(enumerate(sample.split()))[:max_length]:\n",
    "        index = abs(hash(word)) % dimensionality # 단어를 해싱하여 0과 1000 사이의 램덤한 정수 인덱스로 변환\n",
    "        results[i, j, index] = 1."
   ]
  },
  {
   "cell_type": "markdown",
   "metadata": {},
   "source": [
    "## 1.2. 단어 임베딩 사용하기\n",
    "\n",
    "- 고차원인 원-핫 인코딩에 비해 저차원의 실수형 벡터이다\n",
    "- 보통 256, 512, 1024 차원을 사용한다.\n",
    "- 데이터로부터 학습됨\n",
    "\n",
    "\n",
    "- 만드는 방법\n",
    "    1. 관심 대상인 문제와 단어 임베딩을 함께 학습함, 랜덤한 단어 벡터로 시작해서 신경망을 학습하는 방식으로 학습\n",
    "    2. 다른 머신 러닝 작업에서 미리 계산된 단어 임베딩을 로드\n",
    "    \n",
    "    \n",
    "- Embedding 층을 사용하여 단어 임베딩 학습하기\n",
    "    - 문제점 : 임베딩 공간이 구조적이지 않다.(accurate와 exact는 거의 같은 뜻이지만 다른 임베딩을 가진다.)\n",
    "    - 의미   : 언어를 기하학적 공간에 매핑하는 것"
   ]
  },
  {
   "cell_type": "code",
   "execution_count": 5,
   "metadata": {},
   "outputs": [],
   "source": [
    "from keras.layers import Embedding\n",
    "\n",
    "# 적어도 2개의 매개변수를 받는다.\n",
    "# 가능한 토큰 개수 : 1000\n",
    "# 임베딩 차원 : 64\n",
    "ebedding_layer = Embedding(1000, 64) "
   ]
  },
  {
   "cell_type": "markdown",
   "metadata": {},
   "source": [
    "- Embedding층 설명\n",
    "    - (samples, sequence_length)인 2D 정수 텐서를 입력으로 받는다.\n",
    "    - 가변 길이의 시퀸스를 임베딩할 수 있다. -> 시퀸스 길이는 같아야하므로 부족할 경우 0 패딩으로 채운다.\n",
    "    - (samples, sequence_length, embedding_dimensionality)인 3D 실수형 텐서를 반환한다.\n",
    "    - 가중치는 랜덤하게 설정된다.\n",
    "    \n",
    "    \n",
    "### IMDB 데이터에 임베딩 사용해보기"
   ]
  },
  {
   "cell_type": "code",
   "execution_count": 6,
   "metadata": {},
   "outputs": [],
   "source": [
    "from keras.datasets import imdb\n",
    "from keras import preprocessing\n",
    "\n",
    "max_features =10000 # 특성으로 사용할 단어의 수\n",
    "maxlen = 20         # 사용할 텍스트의 길이(여기서는 20단어의 텍스트를 사용한다.)\n",
    "\n",
    "# imdb 데이터셋은 정수형 리스트로 로드된다.\n",
    "(x_train, y_train), (x_test, y_test) = imdb.load_data(num_words=max_features)\n",
    "\n",
    "# 리스트를 (samples, maxlen) 크기인 정수 텐서로 변환한다. \n",
    "x_train = preprocessing.sequence.pad_sequences(x_train, maxlen=maxlen)\n",
    "x_test = preprocessing.sequence.pad_sequences(x_test, maxlen=maxlen)"
   ]
  },
  {
   "cell_type": "code",
   "execution_count": 7,
   "metadata": {},
   "outputs": [
    {
     "name": "stdout",
     "output_type": "stream",
     "text": [
      "Model: \"sequential_1\"\n",
      "_________________________________________________________________\n",
      "Layer (type)                 Output Shape              Param #   \n",
      "=================================================================\n",
      "embedding_2 (Embedding)      (None, 20, 8)             80000     \n",
      "_________________________________________________________________\n",
      "flatten_1 (Flatten)          (None, 160)               0         \n",
      "_________________________________________________________________\n",
      "dense_1 (Dense)              (None, 1)                 161       \n",
      "=================================================================\n",
      "Total params: 80,161\n",
      "Trainable params: 80,161\n",
      "Non-trainable params: 0\n",
      "_________________________________________________________________\n"
     ]
    },
    {
     "name": "stderr",
     "output_type": "stream",
     "text": [
      "C:\\Users\\tjsxo\\anaconda3\\envs\\python3.6\\lib\\site-packages\\tensorflow_core\\python\\framework\\indexed_slices.py:424: UserWarning: Converting sparse IndexedSlices to a dense Tensor of unknown shape. This may consume a large amount of memory.\n",
      "  \"Converting sparse IndexedSlices to a dense Tensor of unknown shape. \"\n"
     ]
    },
    {
     "name": "stdout",
     "output_type": "stream",
     "text": [
      "Train on 20000 samples, validate on 5000 samples\n",
      "Epoch 1/10\n",
      "20000/20000 [==============================] - 3s 133us/step - loss: 0.6721 - acc: 0.6135 - val_loss: 0.6265 - val_acc: 0.6954\n",
      "Epoch 2/10\n",
      "20000/20000 [==============================] - 2s 111us/step - loss: 0.5490 - acc: 0.7495 - val_loss: 0.5297 - val_acc: 0.7310\n",
      "Epoch 3/10\n",
      "20000/20000 [==============================] - 2s 111us/step - loss: 0.4639 - acc: 0.7884 - val_loss: 0.5024 - val_acc: 0.7432\n",
      "Epoch 4/10\n",
      "20000/20000 [==============================] - 2s 114us/step - loss: 0.4204 - acc: 0.8105 - val_loss: 0.4935 - val_acc: 0.7508\n",
      "Epoch 5/10\n",
      "20000/20000 [==============================] - 2s 110us/step - loss: 0.3897 - acc: 0.8264 - val_loss: 0.4926 - val_acc: 0.7554\n",
      "Epoch 6/10\n",
      "20000/20000 [==============================] - 3s 129us/step - loss: 0.3638 - acc: 0.8410 - val_loss: 0.4962 - val_acc: 0.7554\n",
      "Epoch 7/10\n",
      "20000/20000 [==============================] - 3s 143us/step - loss: 0.3412 - acc: 0.8535 - val_loss: 0.5026 - val_acc: 0.7532\n",
      "Epoch 8/10\n",
      "20000/20000 [==============================] - 3s 129us/step - loss: 0.3202 - acc: 0.8654 - val_loss: 0.5101 - val_acc: 0.7530\n",
      "Epoch 9/10\n",
      "20000/20000 [==============================] - 3s 136us/step - loss: 0.3008 - acc: 0.8760 - val_loss: 0.5197 - val_acc: 0.7496\n",
      "Epoch 10/10\n",
      "20000/20000 [==============================] - 2s 112us/step - loss: 0.2824 - acc: 0.8845 - val_loss: 0.5304 - val_acc: 0.7460\n"
     ]
    }
   ],
   "source": [
    "from keras.models import Sequential\n",
    "from keras.layers import Flatten, Dense, Embedding\n",
    "\n",
    "model = Sequential()\n",
    "model.add(Embedding(10000, 8, input_length=maxlen))\n",
    "\n",
    "model.add(Flatten())\n",
    "model.add(Dense(1, activation='sigmoid'))\n",
    "\n",
    "model.compile(optimizer='rmsprop', loss='binary_crossentropy', metrics=['acc'])\n",
    "model.summary()\n",
    "\n",
    "history = model.fit(x_train, y_train,\n",
    "                   epochs=10,\n",
    "                   batch_size=32,\n",
    "                   validation_split=0.2) # validation_split 메서드로 훈련데이터에서 검증 셋을 분리 시킬 수 있다."
   ]
  },
  {
   "cell_type": "markdown",
   "metadata": {},
   "source": [
    "- 위 결과에서 약 75% 정도의 검증 정확도를 확인 할 수 있다.\n",
    "- 리뷰에서는 20개의 단어만 사용했지만 결과가 나쁘지 않음\n",
    "- 임베딩 시퀸스를 펼치고 하나의 Dense 층을 훈련하여서 입력 시퀸스에 있는 각 단어를 독립적을 다루었다.\n",
    "- 각 단어를 다루어서, 단어 사이의 관계나 문장 구조를 고려하지 않음\n",
    "\n",
    "\n",
    "### 사전 훈련된 단어 임베딩 사용"
   ]
  },
  {
   "cell_type": "markdown",
   "metadata": {},
   "source": [
    "- 훈련 데이터가 부족할 시 작업에 맞는 단어 임베딩을 학습할 수 없다.\n",
    "- 위 문제를 해결하기 위해 미리 계산된 임베딩 공간에서 임베딩 벡터를 로드 할 수 있다.\n",
    "- Word2vec, Glove 등이 있다."
   ]
  },
  {
   "cell_type": "markdown",
   "metadata": {},
   "source": [
    "## 1.3. 모든 내용을 적용하기: 원본 텍스트에서 단어 임베딩까지\n",
    "\n",
    "- 사전 훈련된 단어 임베딩을 사용\n",
    "- keras의 IMDB 데이터는 토큰화가 적용 되어 있다.\n",
    "- IMDB의 원본 데이터를 사용하여 훈련"
   ]
  },
  {
   "cell_type": "markdown",
   "metadata": {},
   "source": [
    "### 원본 IMDB 텍스트 내려받기\n",
    "\n",
    "- 책의 출처는 현재 사용할 수 없음\n",
    "- http://ai.stanford.edu/~amaas/data/sentiment/ 이곳에서 원본 데이터를 다운"
   ]
  },
  {
   "cell_type": "code",
   "execution_count": 8,
   "metadata": {},
   "outputs": [],
   "source": [
    "import os\n",
    "\n",
    "imdb_dir = './datasets/aclImdb'\n",
    "train_dir = os.path.join(imdb_dir, 'train')\n",
    "\n",
    "labels = []\n",
    "texts = []\n",
    "\n",
    "for label_type in ['neg', 'pos']:\n",
    "    dir_name = os.path.join(train_dir, label_type)\n",
    "    for fname in os.listdir(dir_name):\n",
    "        if fname[-4:] =='.txt': # 파일이 text 형식이라면\n",
    "            f = open(os.path.join(dir_name, fname), encoding='utf-8') # 파일을 utf-8 인코딩으로 입력한다.\n",
    "            texts.append(f.read()) # 읽은 파일의 값을 texts 리스트에 저장\n",
    "            f.close()\n",
    "            if label_type == 'neg':\n",
    "                labels.append(0) # 부정이라면 라벨에 0을 넣는다.\n",
    "            else:\n",
    "                labels.append(1)"
   ]
  },
  {
   "cell_type": "markdown",
   "metadata": {},
   "source": [
    "### 데이터 토큰화\n",
    "\n",
    "- 텍스트를 벡터로 만들고 훈련 셋과 검증 셋으로 나눔\n",
    "- 사전 훈련된 단어 임베딩의 성능을 확인하기 위해서 훈련 데이터를 200개의 샘플로 제한"
   ]
  },
  {
   "cell_type": "code",
   "execution_count": 9,
   "metadata": {},
   "outputs": [
    {
     "name": "stdout",
     "output_type": "stream",
     "text": [
      "88582개의 고유한 토큰을 찾았습니다.\n",
      "데이터 텐서의 크기: (25000, 100)\n",
      "레이블 텐서의 크기: (25000,)\n"
     ]
    }
   ],
   "source": [
    "from keras.preprocessing.text import Tokenizer\n",
    "from keras.preprocessing.sequence import pad_sequences\n",
    "import numpy as np\n",
    "\n",
    "maxlen = 100\n",
    "training_samples = 200\n",
    "validation_samples = 10000\n",
    "max_word = 10000\n",
    "\n",
    "tokenizer = Tokenizer(num_words=max_word)\n",
    "tokenizer.fit_on_texts(texts)\n",
    "sequences = tokenizer.texts_to_sequences(texts)\n",
    "\n",
    "word_index = tokenizer.word_index\n",
    "print(\"{}개의 고유한 토큰을 찾았습니다.\".format(len(word_index)))\n",
    "\n",
    "data = pad_sequences(sequences, maxlen=maxlen)\n",
    "labels = np.asarray(labels)\n",
    "print('데이터 텐서의 크기:', data.shape)\n",
    "print('레이블 텐서의 크기:', labels.shape)\n",
    "\n",
    "# 데이터를 훈련, 검증 셋으로 분리\n",
    "indices = np.arange(data.shape[0]) # 데이터 샘플 개수만큼 1간격으로 떨어진 정수 배열 생성\n",
    "np.random.shuffle(indices) # 데이터를 무작위로 섞음\n",
    "data = data[indices]\n",
    "labels = labels[indices]\n",
    "\n",
    "x_train = data[:training_samples]\n",
    "y_train = labels[:training_samples]\n",
    "x_val = data[training_samples:]\n",
    "y_val = labels[training_samples:]"
   ]
  },
  {
   "cell_type": "code",
   "execution_count": 10,
   "metadata": {},
   "outputs": [
    {
     "data": {
      "text/plain": [
       "{'the': 1,\n",
       " 'and': 2,\n",
       " 'a': 3,\n",
       " 'of': 4,\n",
       " 'to': 5,\n",
       " 'is': 6,\n",
       " 'br': 7,\n",
       " 'in': 8,\n",
       " 'it': 9,\n",
       " 'i': 10,\n",
       " 'this': 11,\n",
       " 'that': 12,\n",
       " 'was': 13,\n",
       " 'as': 14,\n",
       " 'for': 15,\n",
       " 'with': 16,\n",
       " 'movie': 17,\n",
       " 'but': 18,\n",
       " 'film': 19,\n",
       " 'on': 20,\n",
       " 'not': 21,\n",
       " 'you': 22,\n",
       " 'are': 23,\n",
       " 'his': 24,\n",
       " 'have': 25,\n",
       " 'he': 26,\n",
       " 'be': 27,\n",
       " 'one': 28,\n",
       " 'all': 29,\n",
       " 'at': 30,\n",
       " 'by': 31,\n",
       " 'an': 32,\n",
       " 'they': 33,\n",
       " 'who': 34,\n",
       " 'so': 35,\n",
       " 'from': 36,\n",
       " 'like': 37,\n",
       " 'her': 38,\n",
       " 'or': 39,\n",
       " 'just': 40,\n",
       " 'about': 41,\n",
       " \"it's\": 42,\n",
       " 'out': 43,\n",
       " 'has': 44,\n",
       " 'if': 45,\n",
       " 'some': 46,\n",
       " 'there': 47,\n",
       " 'what': 48,\n",
       " 'good': 49,\n",
       " 'more': 50,\n",
       " 'when': 51,\n",
       " 'very': 52,\n",
       " 'up': 53,\n",
       " 'no': 54,\n",
       " 'time': 55,\n",
       " 'she': 56,\n",
       " 'even': 57,\n",
       " 'my': 58,\n",
       " 'would': 59,\n",
       " 'which': 60,\n",
       " 'only': 61,\n",
       " 'story': 62,\n",
       " 'really': 63,\n",
       " 'see': 64,\n",
       " 'their': 65,\n",
       " 'had': 66,\n",
       " 'can': 67,\n",
       " 'were': 68,\n",
       " 'me': 69,\n",
       " 'well': 70,\n",
       " 'than': 71,\n",
       " 'we': 72,\n",
       " 'much': 73,\n",
       " 'been': 74,\n",
       " 'bad': 75,\n",
       " 'get': 76,\n",
       " 'will': 77,\n",
       " 'do': 78,\n",
       " 'also': 79,\n",
       " 'into': 80,\n",
       " 'people': 81,\n",
       " 'other': 82,\n",
       " 'first': 83,\n",
       " 'great': 84,\n",
       " 'because': 85,\n",
       " 'how': 86,\n",
       " 'him': 87,\n",
       " 'most': 88,\n",
       " \"don't\": 89,\n",
       " 'made': 90,\n",
       " 'its': 91,\n",
       " 'then': 92,\n",
       " 'way': 93,\n",
       " 'make': 94,\n",
       " 'them': 95,\n",
       " 'too': 96,\n",
       " 'could': 97,\n",
       " 'any': 98,\n",
       " 'movies': 99,\n",
       " 'after': 100,\n",
       " 'think': 101,\n",
       " 'characters': 102,\n",
       " 'watch': 103,\n",
       " 'two': 104,\n",
       " 'films': 105,\n",
       " 'character': 106,\n",
       " 'seen': 107,\n",
       " 'many': 108,\n",
       " 'being': 109,\n",
       " 'life': 110,\n",
       " 'plot': 111,\n",
       " 'never': 112,\n",
       " 'acting': 113,\n",
       " 'little': 114,\n",
       " 'best': 115,\n",
       " 'love': 116,\n",
       " 'over': 117,\n",
       " 'where': 118,\n",
       " 'did': 119,\n",
       " 'show': 120,\n",
       " 'know': 121,\n",
       " 'off': 122,\n",
       " 'ever': 123,\n",
       " 'does': 124,\n",
       " 'better': 125,\n",
       " 'your': 126,\n",
       " 'end': 127,\n",
       " 'still': 128,\n",
       " 'man': 129,\n",
       " 'here': 130,\n",
       " 'these': 131,\n",
       " 'say': 132,\n",
       " 'scene': 133,\n",
       " 'while': 134,\n",
       " 'why': 135,\n",
       " 'scenes': 136,\n",
       " 'go': 137,\n",
       " 'such': 138,\n",
       " 'something': 139,\n",
       " 'through': 140,\n",
       " 'should': 141,\n",
       " 'back': 142,\n",
       " \"i'm\": 143,\n",
       " 'real': 144,\n",
       " 'those': 145,\n",
       " 'watching': 146,\n",
       " 'now': 147,\n",
       " 'though': 148,\n",
       " \"doesn't\": 149,\n",
       " 'years': 150,\n",
       " 'old': 151,\n",
       " 'thing': 152,\n",
       " 'actors': 153,\n",
       " 'work': 154,\n",
       " '10': 155,\n",
       " 'before': 156,\n",
       " 'another': 157,\n",
       " \"didn't\": 158,\n",
       " 'new': 159,\n",
       " 'funny': 160,\n",
       " 'nothing': 161,\n",
       " 'actually': 162,\n",
       " 'makes': 163,\n",
       " 'director': 164,\n",
       " 'look': 165,\n",
       " 'find': 166,\n",
       " 'going': 167,\n",
       " 'few': 168,\n",
       " 'same': 169,\n",
       " 'part': 170,\n",
       " 'again': 171,\n",
       " 'every': 172,\n",
       " 'lot': 173,\n",
       " 'cast': 174,\n",
       " 'us': 175,\n",
       " 'quite': 176,\n",
       " 'down': 177,\n",
       " 'want': 178,\n",
       " 'world': 179,\n",
       " 'things': 180,\n",
       " 'pretty': 181,\n",
       " 'young': 182,\n",
       " 'seems': 183,\n",
       " 'around': 184,\n",
       " 'got': 185,\n",
       " 'horror': 186,\n",
       " 'however': 187,\n",
       " \"can't\": 188,\n",
       " 'fact': 189,\n",
       " 'take': 190,\n",
       " 'big': 191,\n",
       " 'enough': 192,\n",
       " 'long': 193,\n",
       " 'thought': 194,\n",
       " \"that's\": 195,\n",
       " 'both': 196,\n",
       " 'between': 197,\n",
       " 'series': 198,\n",
       " 'give': 199,\n",
       " 'may': 200,\n",
       " 'original': 201,\n",
       " 'action': 202,\n",
       " 'own': 203,\n",
       " \"i've\": 204,\n",
       " 'right': 205,\n",
       " 'without': 206,\n",
       " 'always': 207,\n",
       " 'times': 208,\n",
       " 'comedy': 209,\n",
       " 'point': 210,\n",
       " 'gets': 211,\n",
       " 'must': 212,\n",
       " 'come': 213,\n",
       " 'role': 214,\n",
       " \"isn't\": 215,\n",
       " 'saw': 216,\n",
       " 'almost': 217,\n",
       " 'interesting': 218,\n",
       " 'least': 219,\n",
       " 'family': 220,\n",
       " 'done': 221,\n",
       " \"there's\": 222,\n",
       " 'whole': 223,\n",
       " 'bit': 224,\n",
       " 'music': 225,\n",
       " 'script': 226,\n",
       " 'far': 227,\n",
       " 'making': 228,\n",
       " 'anything': 229,\n",
       " 'guy': 230,\n",
       " 'minutes': 231,\n",
       " 'feel': 232,\n",
       " 'last': 233,\n",
       " 'since': 234,\n",
       " 'might': 235,\n",
       " 'performance': 236,\n",
       " \"he's\": 237,\n",
       " '2': 238,\n",
       " 'probably': 239,\n",
       " 'kind': 240,\n",
       " 'am': 241,\n",
       " 'away': 242,\n",
       " 'yet': 243,\n",
       " 'rather': 244,\n",
       " 'tv': 245,\n",
       " 'worst': 246,\n",
       " 'girl': 247,\n",
       " 'day': 248,\n",
       " 'sure': 249,\n",
       " 'fun': 250,\n",
       " 'hard': 251,\n",
       " 'woman': 252,\n",
       " 'played': 253,\n",
       " 'each': 254,\n",
       " 'found': 255,\n",
       " 'anyone': 256,\n",
       " 'having': 257,\n",
       " 'although': 258,\n",
       " 'especially': 259,\n",
       " 'our': 260,\n",
       " 'course': 261,\n",
       " 'believe': 262,\n",
       " 'comes': 263,\n",
       " 'looking': 264,\n",
       " 'screen': 265,\n",
       " 'trying': 266,\n",
       " 'set': 267,\n",
       " 'goes': 268,\n",
       " 'looks': 269,\n",
       " 'place': 270,\n",
       " 'book': 271,\n",
       " 'different': 272,\n",
       " 'put': 273,\n",
       " 'ending': 274,\n",
       " 'money': 275,\n",
       " 'maybe': 276,\n",
       " 'once': 277,\n",
       " 'sense': 278,\n",
       " 'reason': 279,\n",
       " 'true': 280,\n",
       " 'actor': 281,\n",
       " 'everything': 282,\n",
       " \"wasn't\": 283,\n",
       " 'shows': 284,\n",
       " 'dvd': 285,\n",
       " 'three': 286,\n",
       " 'worth': 287,\n",
       " 'year': 288,\n",
       " 'job': 289,\n",
       " 'main': 290,\n",
       " 'someone': 291,\n",
       " 'together': 292,\n",
       " 'watched': 293,\n",
       " 'play': 294,\n",
       " 'plays': 295,\n",
       " 'american': 296,\n",
       " '1': 297,\n",
       " 'said': 298,\n",
       " 'effects': 299,\n",
       " 'later': 300,\n",
       " 'takes': 301,\n",
       " 'instead': 302,\n",
       " 'seem': 303,\n",
       " 'beautiful': 304,\n",
       " 'john': 305,\n",
       " 'himself': 306,\n",
       " 'version': 307,\n",
       " 'audience': 308,\n",
       " 'high': 309,\n",
       " 'house': 310,\n",
       " 'night': 311,\n",
       " 'during': 312,\n",
       " 'everyone': 313,\n",
       " 'left': 314,\n",
       " 'special': 315,\n",
       " 'seeing': 316,\n",
       " 'half': 317,\n",
       " 'excellent': 318,\n",
       " 'wife': 319,\n",
       " 'star': 320,\n",
       " 'shot': 321,\n",
       " 'war': 322,\n",
       " 'idea': 323,\n",
       " 'nice': 324,\n",
       " 'black': 325,\n",
       " 'less': 326,\n",
       " 'mind': 327,\n",
       " 'simply': 328,\n",
       " 'read': 329,\n",
       " 'second': 330,\n",
       " 'else': 331,\n",
       " \"you're\": 332,\n",
       " 'father': 333,\n",
       " 'fan': 334,\n",
       " 'help': 335,\n",
       " 'poor': 336,\n",
       " 'completely': 337,\n",
       " 'death': 338,\n",
       " '3': 339,\n",
       " 'used': 340,\n",
       " 'home': 341,\n",
       " 'either': 342,\n",
       " 'short': 343,\n",
       " 'line': 344,\n",
       " 'given': 345,\n",
       " 'men': 346,\n",
       " 'top': 347,\n",
       " 'dead': 348,\n",
       " 'budget': 349,\n",
       " 'try': 350,\n",
       " 'performances': 351,\n",
       " 'wrong': 352,\n",
       " 'classic': 353,\n",
       " 'boring': 354,\n",
       " 'enjoy': 355,\n",
       " 'need': 356,\n",
       " 'rest': 357,\n",
       " 'use': 358,\n",
       " 'hollywood': 359,\n",
       " 'kids': 360,\n",
       " 'low': 361,\n",
       " 'production': 362,\n",
       " 'until': 363,\n",
       " 'along': 364,\n",
       " 'full': 365,\n",
       " 'friends': 366,\n",
       " 'camera': 367,\n",
       " 'truly': 368,\n",
       " 'women': 369,\n",
       " 'awful': 370,\n",
       " 'video': 371,\n",
       " 'next': 372,\n",
       " 'tell': 373,\n",
       " 'remember': 374,\n",
       " 'couple': 375,\n",
       " 'stupid': 376,\n",
       " 'start': 377,\n",
       " 'stars': 378,\n",
       " 'perhaps': 379,\n",
       " 'mean': 380,\n",
       " 'sex': 381,\n",
       " 'came': 382,\n",
       " 'recommend': 383,\n",
       " 'let': 384,\n",
       " 'moments': 385,\n",
       " 'wonderful': 386,\n",
       " 'episode': 387,\n",
       " 'understand': 388,\n",
       " 'small': 389,\n",
       " 'face': 390,\n",
       " 'terrible': 391,\n",
       " 'playing': 392,\n",
       " 'school': 393,\n",
       " 'getting': 394,\n",
       " 'written': 395,\n",
       " 'often': 396,\n",
       " 'doing': 397,\n",
       " 'keep': 398,\n",
       " 'early': 399,\n",
       " 'name': 400,\n",
       " 'perfect': 401,\n",
       " 'style': 402,\n",
       " 'human': 403,\n",
       " 'definitely': 404,\n",
       " 'gives': 405,\n",
       " 'others': 406,\n",
       " 'itself': 407,\n",
       " 'lines': 408,\n",
       " 'live': 409,\n",
       " 'become': 410,\n",
       " 'dialogue': 411,\n",
       " 'person': 412,\n",
       " 'lost': 413,\n",
       " 'finally': 414,\n",
       " 'piece': 415,\n",
       " 'head': 416,\n",
       " 'felt': 417,\n",
       " 'case': 418,\n",
       " 'yes': 419,\n",
       " 'liked': 420,\n",
       " 'supposed': 421,\n",
       " 'title': 422,\n",
       " \"couldn't\": 423,\n",
       " 'absolutely': 424,\n",
       " 'white': 425,\n",
       " 'against': 426,\n",
       " 'boy': 427,\n",
       " 'picture': 428,\n",
       " 'sort': 429,\n",
       " 'worse': 430,\n",
       " 'certainly': 431,\n",
       " 'went': 432,\n",
       " 'entire': 433,\n",
       " 'waste': 434,\n",
       " 'cinema': 435,\n",
       " 'problem': 436,\n",
       " 'hope': 437,\n",
       " 'entertaining': 438,\n",
       " \"she's\": 439,\n",
       " 'mr': 440,\n",
       " 'overall': 441,\n",
       " 'evil': 442,\n",
       " 'called': 443,\n",
       " 'loved': 444,\n",
       " 'based': 445,\n",
       " 'oh': 446,\n",
       " 'several': 447,\n",
       " 'fans': 448,\n",
       " 'mother': 449,\n",
       " 'drama': 450,\n",
       " 'beginning': 451,\n",
       " 'killer': 452,\n",
       " 'lives': 453,\n",
       " '5': 454,\n",
       " 'direction': 455,\n",
       " 'care': 456,\n",
       " 'becomes': 457,\n",
       " 'already': 458,\n",
       " 'example': 459,\n",
       " 'laugh': 460,\n",
       " 'friend': 461,\n",
       " 'dark': 462,\n",
       " 'under': 463,\n",
       " 'despite': 464,\n",
       " 'seemed': 465,\n",
       " 'throughout': 466,\n",
       " '4': 467,\n",
       " 'turn': 468,\n",
       " 'unfortunately': 469,\n",
       " 'wanted': 470,\n",
       " \"i'd\": 471,\n",
       " '\\x96': 472,\n",
       " 'children': 473,\n",
       " 'final': 474,\n",
       " 'fine': 475,\n",
       " 'history': 476,\n",
       " 'amazing': 477,\n",
       " 'sound': 478,\n",
       " 'guess': 479,\n",
       " 'heart': 480,\n",
       " 'totally': 481,\n",
       " 'humor': 482,\n",
       " 'lead': 483,\n",
       " 'writing': 484,\n",
       " 'michael': 485,\n",
       " 'quality': 486,\n",
       " \"you'll\": 487,\n",
       " 'close': 488,\n",
       " 'son': 489,\n",
       " 'guys': 490,\n",
       " 'wants': 491,\n",
       " 'works': 492,\n",
       " 'behind': 493,\n",
       " 'tries': 494,\n",
       " 'art': 495,\n",
       " 'side': 496,\n",
       " 'game': 497,\n",
       " 'past': 498,\n",
       " 'able': 499,\n",
       " 'b': 500,\n",
       " 'days': 501,\n",
       " 'turns': 502,\n",
       " 'child': 503,\n",
       " \"they're\": 504,\n",
       " 'hand': 505,\n",
       " 'flick': 506,\n",
       " 'enjoyed': 507,\n",
       " 'act': 508,\n",
       " 'genre': 509,\n",
       " 'town': 510,\n",
       " 'favorite': 511,\n",
       " 'soon': 512,\n",
       " 'kill': 513,\n",
       " 'starts': 514,\n",
       " 'sometimes': 515,\n",
       " 'car': 516,\n",
       " 'gave': 517,\n",
       " 'run': 518,\n",
       " 'late': 519,\n",
       " 'actress': 520,\n",
       " 'etc': 521,\n",
       " 'eyes': 522,\n",
       " 'directed': 523,\n",
       " 'horrible': 524,\n",
       " \"won't\": 525,\n",
       " 'brilliant': 526,\n",
       " 'viewer': 527,\n",
       " 'parts': 528,\n",
       " 'themselves': 529,\n",
       " 'self': 530,\n",
       " 'hour': 531,\n",
       " 'expect': 532,\n",
       " 'thinking': 533,\n",
       " 'stories': 534,\n",
       " 'stuff': 535,\n",
       " 'girls': 536,\n",
       " 'obviously': 537,\n",
       " 'blood': 538,\n",
       " 'decent': 539,\n",
       " 'city': 540,\n",
       " 'voice': 541,\n",
       " 'highly': 542,\n",
       " 'myself': 543,\n",
       " 'feeling': 544,\n",
       " 'fight': 545,\n",
       " 'except': 546,\n",
       " 'slow': 547,\n",
       " 'matter': 548,\n",
       " 'type': 549,\n",
       " 'kid': 550,\n",
       " 'anyway': 551,\n",
       " 'roles': 552,\n",
       " 'heard': 553,\n",
       " 'killed': 554,\n",
       " 'says': 555,\n",
       " 'god': 556,\n",
       " 'age': 557,\n",
       " 'moment': 558,\n",
       " 'took': 559,\n",
       " 'leave': 560,\n",
       " 'writer': 561,\n",
       " 'strong': 562,\n",
       " 'cannot': 563,\n",
       " 'violence': 564,\n",
       " 'police': 565,\n",
       " 'hit': 566,\n",
       " 'happens': 567,\n",
       " 'stop': 568,\n",
       " 'particularly': 569,\n",
       " 'known': 570,\n",
       " 'involved': 571,\n",
       " 'happened': 572,\n",
       " 'extremely': 573,\n",
       " 'daughter': 574,\n",
       " 'obvious': 575,\n",
       " 'told': 576,\n",
       " 'chance': 577,\n",
       " 'living': 578,\n",
       " 'coming': 579,\n",
       " 'lack': 580,\n",
       " 'experience': 581,\n",
       " 'alone': 582,\n",
       " 'including': 583,\n",
       " \"wouldn't\": 584,\n",
       " 'murder': 585,\n",
       " 'attempt': 586,\n",
       " 's': 587,\n",
       " 'james': 588,\n",
       " 'please': 589,\n",
       " 'happen': 590,\n",
       " 'wonder': 591,\n",
       " 'crap': 592,\n",
       " 'brother': 593,\n",
       " 'ago': 594,\n",
       " \"film's\": 595,\n",
       " 'gore': 596,\n",
       " 'complete': 597,\n",
       " 'none': 598,\n",
       " 'interest': 599,\n",
       " 'score': 600,\n",
       " 'group': 601,\n",
       " 'cut': 602,\n",
       " 'simple': 603,\n",
       " 'save': 604,\n",
       " 'looked': 605,\n",
       " 'ok': 606,\n",
       " 'hell': 607,\n",
       " 'career': 608,\n",
       " 'number': 609,\n",
       " 'song': 610,\n",
       " 'possible': 611,\n",
       " 'seriously': 612,\n",
       " 'annoying': 613,\n",
       " 'exactly': 614,\n",
       " 'sad': 615,\n",
       " 'shown': 616,\n",
       " 'running': 617,\n",
       " 'serious': 618,\n",
       " 'musical': 619,\n",
       " 'yourself': 620,\n",
       " 'taken': 621,\n",
       " 'whose': 622,\n",
       " 'released': 623,\n",
       " 'cinematography': 624,\n",
       " 'david': 625,\n",
       " 'scary': 626,\n",
       " 'ends': 627,\n",
       " 'english': 628,\n",
       " 'hero': 629,\n",
       " 'usually': 630,\n",
       " 'hours': 631,\n",
       " 'reality': 632,\n",
       " 'opening': 633,\n",
       " \"i'll\": 634,\n",
       " 'across': 635,\n",
       " 'light': 636,\n",
       " 'jokes': 637,\n",
       " 'today': 638,\n",
       " 'hilarious': 639,\n",
       " 'somewhat': 640,\n",
       " 'usual': 641,\n",
       " 'body': 642,\n",
       " 'ridiculous': 643,\n",
       " 'cool': 644,\n",
       " 'started': 645,\n",
       " 'level': 646,\n",
       " 'view': 647,\n",
       " 'relationship': 648,\n",
       " 'change': 649,\n",
       " 'opinion': 650,\n",
       " 'happy': 651,\n",
       " 'middle': 652,\n",
       " 'taking': 653,\n",
       " 'wish': 654,\n",
       " 'finds': 655,\n",
       " 'husband': 656,\n",
       " 'order': 657,\n",
       " 'saying': 658,\n",
       " 'shots': 659,\n",
       " 'talking': 660,\n",
       " 'ones': 661,\n",
       " 'documentary': 662,\n",
       " 'huge': 663,\n",
       " 'novel': 664,\n",
       " 'mostly': 665,\n",
       " 'female': 666,\n",
       " 'robert': 667,\n",
       " 'power': 668,\n",
       " 'episodes': 669,\n",
       " 'room': 670,\n",
       " 'important': 671,\n",
       " 'rating': 672,\n",
       " 'talent': 673,\n",
       " 'five': 674,\n",
       " 'major': 675,\n",
       " 'turned': 676,\n",
       " 'strange': 677,\n",
       " 'word': 678,\n",
       " 'modern': 679,\n",
       " 'call': 680,\n",
       " 'apparently': 681,\n",
       " 'disappointed': 682,\n",
       " 'single': 683,\n",
       " 'events': 684,\n",
       " 'due': 685,\n",
       " 'four': 686,\n",
       " 'songs': 687,\n",
       " 'basically': 688,\n",
       " 'attention': 689,\n",
       " '7': 690,\n",
       " 'knows': 691,\n",
       " 'clearly': 692,\n",
       " 'supporting': 693,\n",
       " 'knew': 694,\n",
       " 'non': 695,\n",
       " 'comic': 696,\n",
       " 'television': 697,\n",
       " 'british': 698,\n",
       " 'fast': 699,\n",
       " 'earth': 700,\n",
       " 'country': 701,\n",
       " 'future': 702,\n",
       " 'class': 703,\n",
       " 'cheap': 704,\n",
       " 'thriller': 705,\n",
       " 'silly': 706,\n",
       " '8': 707,\n",
       " 'king': 708,\n",
       " 'problems': 709,\n",
       " \"aren't\": 710,\n",
       " 'easily': 711,\n",
       " 'words': 712,\n",
       " 'tells': 713,\n",
       " 'jack': 714,\n",
       " 'miss': 715,\n",
       " 'local': 716,\n",
       " 'sequence': 717,\n",
       " 'entertainment': 718,\n",
       " 'bring': 719,\n",
       " 'paul': 720,\n",
       " 'beyond': 721,\n",
       " 'upon': 722,\n",
       " 'whether': 723,\n",
       " 'predictable': 724,\n",
       " 'moving': 725,\n",
       " 'romantic': 726,\n",
       " 'straight': 727,\n",
       " 'similar': 728,\n",
       " 'sets': 729,\n",
       " 'review': 730,\n",
       " 'oscar': 731,\n",
       " 'falls': 732,\n",
       " 'mystery': 733,\n",
       " 'enjoyable': 734,\n",
       " 'appears': 735,\n",
       " 'talk': 736,\n",
       " 'rock': 737,\n",
       " 'needs': 738,\n",
       " 'george': 739,\n",
       " 'giving': 740,\n",
       " 'eye': 741,\n",
       " 'richard': 742,\n",
       " 'within': 743,\n",
       " 'ten': 744,\n",
       " 'animation': 745,\n",
       " 'message': 746,\n",
       " 'near': 747,\n",
       " 'theater': 748,\n",
       " 'above': 749,\n",
       " 'dull': 750,\n",
       " 'sequel': 751,\n",
       " 'nearly': 752,\n",
       " 'theme': 753,\n",
       " 'points': 754,\n",
       " 'stand': 755,\n",
       " \"'\": 756,\n",
       " 'mention': 757,\n",
       " 'bunch': 758,\n",
       " 'add': 759,\n",
       " 'lady': 760,\n",
       " 'herself': 761,\n",
       " 'feels': 762,\n",
       " 'release': 763,\n",
       " 'red': 764,\n",
       " 'team': 765,\n",
       " 'storyline': 766,\n",
       " 'surprised': 767,\n",
       " 'ways': 768,\n",
       " 'using': 769,\n",
       " 'named': 770,\n",
       " \"haven't\": 771,\n",
       " 'easy': 772,\n",
       " 'lots': 773,\n",
       " 'fantastic': 774,\n",
       " 'begins': 775,\n",
       " 'actual': 776,\n",
       " 'working': 777,\n",
       " 'effort': 778,\n",
       " 'york': 779,\n",
       " 'die': 780,\n",
       " 'hate': 781,\n",
       " 'french': 782,\n",
       " 'tale': 783,\n",
       " 'minute': 784,\n",
       " 'stay': 785,\n",
       " '9': 786,\n",
       " 'clear': 787,\n",
       " 'elements': 788,\n",
       " 'feature': 789,\n",
       " 'among': 790,\n",
       " 'follow': 791,\n",
       " 'comments': 792,\n",
       " 're': 793,\n",
       " 'viewers': 794,\n",
       " 'avoid': 795,\n",
       " 'sister': 796,\n",
       " 'typical': 797,\n",
       " 'showing': 798,\n",
       " 'editing': 799,\n",
       " 'tried': 800,\n",
       " \"what's\": 801,\n",
       " 'famous': 802,\n",
       " 'sorry': 803,\n",
       " 'dialog': 804,\n",
       " 'fall': 805,\n",
       " 'check': 806,\n",
       " 'period': 807,\n",
       " 'form': 808,\n",
       " 'season': 809,\n",
       " 'certain': 810,\n",
       " 'filmed': 811,\n",
       " 'weak': 812,\n",
       " 'soundtrack': 813,\n",
       " 'means': 814,\n",
       " 'material': 815,\n",
       " 'buy': 816,\n",
       " 'realistic': 817,\n",
       " 'somehow': 818,\n",
       " 'figure': 819,\n",
       " 'crime': 820,\n",
       " 'gone': 821,\n",
       " 'doubt': 822,\n",
       " 'peter': 823,\n",
       " 'tom': 824,\n",
       " 'viewing': 825,\n",
       " 'kept': 826,\n",
       " 't': 827,\n",
       " 'general': 828,\n",
       " 'leads': 829,\n",
       " 'greatest': 830,\n",
       " 'space': 831,\n",
       " 'lame': 832,\n",
       " 'suspense': 833,\n",
       " 'dance': 834,\n",
       " 'brought': 835,\n",
       " 'imagine': 836,\n",
       " 'third': 837,\n",
       " 'atmosphere': 838,\n",
       " 'hear': 839,\n",
       " 'particular': 840,\n",
       " 'whatever': 841,\n",
       " 'sequences': 842,\n",
       " 'parents': 843,\n",
       " 'lee': 844,\n",
       " 'move': 845,\n",
       " 'indeed': 846,\n",
       " 'eventually': 847,\n",
       " 'rent': 848,\n",
       " 'learn': 849,\n",
       " 'de': 850,\n",
       " 'note': 851,\n",
       " 'forget': 852,\n",
       " 'deal': 853,\n",
       " 'reviews': 854,\n",
       " 'wait': 855,\n",
       " 'average': 856,\n",
       " 'japanese': 857,\n",
       " 'poorly': 858,\n",
       " 'sexual': 859,\n",
       " 'okay': 860,\n",
       " 'premise': 861,\n",
       " 'surprise': 862,\n",
       " 'zombie': 863,\n",
       " 'believable': 864,\n",
       " 'stage': 865,\n",
       " 'sit': 866,\n",
       " 'possibly': 867,\n",
       " \"who's\": 868,\n",
       " 'decided': 869,\n",
       " 'expected': 870,\n",
       " \"you've\": 871,\n",
       " 'subject': 872,\n",
       " 'nature': 873,\n",
       " 'became': 874,\n",
       " 'difficult': 875,\n",
       " 'free': 876,\n",
       " 'screenplay': 877,\n",
       " 'killing': 878,\n",
       " 'truth': 879,\n",
       " 'romance': 880,\n",
       " 'dr': 881,\n",
       " 'nor': 882,\n",
       " 'reading': 883,\n",
       " 'needed': 884,\n",
       " 'question': 885,\n",
       " 'leaves': 886,\n",
       " 'street': 887,\n",
       " '20': 888,\n",
       " 'meets': 889,\n",
       " 'hot': 890,\n",
       " 'unless': 891,\n",
       " 'begin': 892,\n",
       " 'baby': 893,\n",
       " 'credits': 894,\n",
       " 'otherwise': 895,\n",
       " 'imdb': 896,\n",
       " 'superb': 897,\n",
       " 'write': 898,\n",
       " 'shame': 899,\n",
       " \"let's\": 900,\n",
       " 'situation': 901,\n",
       " 'dramatic': 902,\n",
       " 'memorable': 903,\n",
       " 'directors': 904,\n",
       " 'earlier': 905,\n",
       " 'badly': 906,\n",
       " 'meet': 907,\n",
       " 'open': 908,\n",
       " 'disney': 909,\n",
       " 'dog': 910,\n",
       " 'joe': 911,\n",
       " 'male': 912,\n",
       " 'weird': 913,\n",
       " 'forced': 914,\n",
       " 'acted': 915,\n",
       " 'laughs': 916,\n",
       " 'sci': 917,\n",
       " 'emotional': 918,\n",
       " 'older': 919,\n",
       " 'realize': 920,\n",
       " 'fi': 921,\n",
       " 'dream': 922,\n",
       " 'society': 923,\n",
       " 'writers': 924,\n",
       " 'interested': 925,\n",
       " 'footage': 926,\n",
       " 'comment': 927,\n",
       " 'forward': 928,\n",
       " 'crazy': 929,\n",
       " 'deep': 930,\n",
       " 'whom': 931,\n",
       " 'plus': 932,\n",
       " 'beauty': 933,\n",
       " 'america': 934,\n",
       " 'sounds': 935,\n",
       " 'fantasy': 936,\n",
       " 'directing': 937,\n",
       " 'keeps': 938,\n",
       " 'development': 939,\n",
       " 'ask': 940,\n",
       " 'features': 941,\n",
       " 'air': 942,\n",
       " 'quickly': 943,\n",
       " 'mess': 944,\n",
       " 'creepy': 945,\n",
       " 'towards': 946,\n",
       " 'perfectly': 947,\n",
       " 'mark': 948,\n",
       " 'worked': 949,\n",
       " 'box': 950,\n",
       " 'cheesy': 951,\n",
       " 'unique': 952,\n",
       " 'hands': 953,\n",
       " 'setting': 954,\n",
       " 'plenty': 955,\n",
       " 'previous': 956,\n",
       " 'brings': 957,\n",
       " 'result': 958,\n",
       " 'total': 959,\n",
       " 'e': 960,\n",
       " 'effect': 961,\n",
       " 'incredibly': 962,\n",
       " 'personal': 963,\n",
       " 'monster': 964,\n",
       " 'rate': 965,\n",
       " 'fire': 966,\n",
       " 'business': 967,\n",
       " 'leading': 968,\n",
       " 'apart': 969,\n",
       " 'casting': 970,\n",
       " 'admit': 971,\n",
       " 'background': 972,\n",
       " 'powerful': 973,\n",
       " 'appear': 974,\n",
       " 'joke': 975,\n",
       " 'girlfriend': 976,\n",
       " 'telling': 977,\n",
       " 'meant': 978,\n",
       " 'hardly': 979,\n",
       " 'present': 980,\n",
       " 'christmas': 981,\n",
       " 'battle': 982,\n",
       " 'potential': 983,\n",
       " 'create': 984,\n",
       " 'break': 985,\n",
       " 'bill': 986,\n",
       " 'pay': 987,\n",
       " 'masterpiece': 988,\n",
       " 'gay': 989,\n",
       " 'return': 990,\n",
       " 'political': 991,\n",
       " 'dumb': 992,\n",
       " 'fails': 993,\n",
       " 'fighting': 994,\n",
       " 'various': 995,\n",
       " 'era': 996,\n",
       " 'portrayed': 997,\n",
       " 'co': 998,\n",
       " 'cop': 999,\n",
       " 'secret': 1000,\n",
       " ...}"
      ]
     },
     "execution_count": 10,
     "metadata": {},
     "output_type": "execute_result"
    }
   ],
   "source": [
    "word_index"
   ]
  },
  {
   "cell_type": "markdown",
   "metadata": {},
   "source": [
    "### Glove 단어 임베딩 받기\n",
    "\n",
    "- https://nlp.stanford.edu/projects/glove 에서 다운로드\n",
    "- 파일 이름 : glove.6B.zip\n",
    "- datasets 폴더 아래에 압축 해제\n",
    "- 40만 개의 단어에 대한 100차원의 임베딩 벡터를 포함"
   ]
  },
  {
   "cell_type": "markdown",
   "metadata": {},
   "source": [
    "### 임베딩 전처리\n",
    "\n",
    "- 압축 해제한 파일을 파싱하여 단어와 이에 상응하는 벡터 표현을 매핑하는 인덱스르 만든다."
   ]
  },
  {
   "cell_type": "code",
   "execution_count": 11,
   "metadata": {},
   "outputs": [
    {
     "name": "stdout",
     "output_type": "stream",
     "text": [
      "400000개의 단어 벡터를 찾았습니다.\n"
     ]
    }
   ],
   "source": [
    "glove_dir = './datasets/'\n",
    "\n",
    "embeddings_index = {}\n",
    "f = open(os.path.join(glove_dir, 'glove.6B.100d.txt'), encoding='utf8')\n",
    "for line in f:\n",
    "    values = line.split()\n",
    "    word = values[0]\n",
    "    coefs = np.asarray(values[1:], dtype='float32')\n",
    "    embeddings_index[word] = coefs\n",
    "f.close()\n",
    "\n",
    "print('{}개의 단어 벡터를 찾았습니다.'.format(len(embeddings_index)))"
   ]
  },
  {
   "cell_type": "markdown",
   "metadata": {},
   "source": [
    "- 임베딩층에 주입할 수 있도록 임베딩 행렬을 만듬.\n",
    "- 행렬 설명\n",
    "    1. i번째 원소는 단어 인덱스의 i번째 단어에 상응하는 ebedding_dim차원 벡터이다.\n",
    "    2. 인덱스 0은 어떤 단어나 토큰도 아닐 경우를 나타낸다."
   ]
  },
  {
   "cell_type": "code",
   "execution_count": 12,
   "metadata": {},
   "outputs": [],
   "source": [
    "embedding_dim = 100 # 임베딩 차원은 100\n",
    "\n",
    "embedding_matrix = np.zeros((max_word, embedding_dim))\n",
    "for word, i in word_index.items():\n",
    "    if i < max_word:\n",
    "        embedding_vector = embeddings_index.get(word)\n",
    "        if embedding_vector is not None:\n",
    "            embedding_matrix[i] = embedding_vector"
   ]
  },
  {
   "cell_type": "markdown",
   "metadata": {},
   "source": [
    "### 모델 정의하기"
   ]
  },
  {
   "cell_type": "code",
   "execution_count": 13,
   "metadata": {},
   "outputs": [
    {
     "name": "stdout",
     "output_type": "stream",
     "text": [
      "Model: \"sequential_2\"\n",
      "_________________________________________________________________\n",
      "Layer (type)                 Output Shape              Param #   \n",
      "=================================================================\n",
      "embedding_3 (Embedding)      (None, 100, 100)          1000000   \n",
      "_________________________________________________________________\n",
      "flatten_2 (Flatten)          (None, 10000)             0         \n",
      "_________________________________________________________________\n",
      "dense_2 (Dense)              (None, 32)                320032    \n",
      "_________________________________________________________________\n",
      "dense_3 (Dense)              (None, 1)                 33        \n",
      "=================================================================\n",
      "Total params: 1,320,065\n",
      "Trainable params: 1,320,065\n",
      "Non-trainable params: 0\n",
      "_________________________________________________________________\n"
     ]
    }
   ],
   "source": [
    "model = Sequential()\n",
    "model.add(Embedding(max_word, embedding_dim, input_length=maxlen))\n",
    "model.add(Flatten())\n",
    "model.add(Dense(32, activation='relu'))\n",
    "model.add(Dense(1, activation='sigmoid'))\n",
    "model.summary()"
   ]
  },
  {
   "cell_type": "markdown",
   "metadata": {},
   "source": [
    "### 모델에 Glove 임베딩 로드하기"
   ]
  },
  {
   "cell_type": "code",
   "execution_count": 14,
   "metadata": {},
   "outputs": [],
   "source": [
    "model.layers[0].set_weights([embedding_matrix]) # 임베딩층에 가중치를 설정\n",
    "model.layers[0].trainable = False # 이미 사전 훈련된 가중치를 사용하므로 임베딩층을 동결시킨다."
   ]
  },
  {
   "cell_type": "markdown",
   "metadata": {},
   "source": [
    "### 모델 훈련과 평가"
   ]
  },
  {
   "cell_type": "code",
   "execution_count": 15,
   "metadata": {},
   "outputs": [
    {
     "name": "stdout",
     "output_type": "stream",
     "text": [
      "Train on 200 samples, validate on 24800 samples\n",
      "Epoch 1/10\n",
      "200/200 [==============================] - 2s 8ms/step - loss: 2.0100 - acc: 0.5150 - val_loss: 0.7700 - val_acc: 0.5033\n",
      "Epoch 2/10\n",
      "200/200 [==============================] - 1s 7ms/step - loss: 0.5594 - acc: 0.7250 - val_loss: 1.0129 - val_acc: 0.5003\n",
      "Epoch 3/10\n",
      "200/200 [==============================] - 1s 7ms/step - loss: 0.3581 - acc: 0.8600 - val_loss: 0.6983 - val_acc: 0.5516\n",
      "Epoch 4/10\n",
      "200/200 [==============================] - 1s 7ms/step - loss: 0.2398 - acc: 0.9400 - val_loss: 0.6928 - val_acc: 0.5637\n",
      "Epoch 5/10\n",
      "200/200 [==============================] - 1s 7ms/step - loss: 0.3164 - acc: 0.8800 - val_loss: 1.4100 - val_acc: 0.5009\n",
      "Epoch 6/10\n",
      "200/200 [==============================] - 1s 7ms/step - loss: 0.1935 - acc: 0.9500 - val_loss: 0.7790 - val_acc: 0.5350\n",
      "Epoch 7/10\n",
      "200/200 [==============================] - 1s 7ms/step - loss: 0.1144 - acc: 1.0000 - val_loss: 0.7498 - val_acc: 0.5557\n",
      "Epoch 8/10\n",
      "200/200 [==============================] - 1s 7ms/step - loss: 0.0720 - acc: 1.0000 - val_loss: 0.8879 - val_acc: 0.5250\n",
      "Epoch 9/10\n",
      "200/200 [==============================] - 1s 7ms/step - loss: 0.1032 - acc: 0.9650 - val_loss: 2.0398 - val_acc: 0.5009\n",
      "Epoch 10/10\n",
      "200/200 [==============================] - 1s 7ms/step - loss: 0.1056 - acc: 0.9450 - val_loss: 0.7661 - val_acc: 0.5687\n"
     ]
    }
   ],
   "source": [
    "model.compile(optimizer='rmsprop',\n",
    "             loss ='binary_crossentropy',\n",
    "             metrics=['acc'])\n",
    "\n",
    "history = model.fit(x_train, y_train,\n",
    "                   epochs=10,\n",
    "                   batch_size=32,\n",
    "                   validation_data=(x_val, y_val))\n",
    "\n",
    "model.save_weights('pre_trained_glove_model.h5')"
   ]
  },
  {
   "cell_type": "code",
   "execution_count": 16,
   "metadata": {},
   "outputs": [
    {
     "data": {
      "image/png": "[encoded data removed]",
      "text/plain": [
       "<Figure size 432x288 with 1 Axes>"
      ]
     },
     "metadata": {
      "needs_background": "light"
     },
     "output_type": "display_data"
    },
    {
     "data": {
      "image/png": "[encoded data removed]",
      "text/plain": [
       "<Figure size 432x288 with 1 Axes>"
      ]
     },
     "metadata": {
      "needs_background": "light"
     },
     "output_type": "display_data"
    }
   ],
   "source": [
    "import matplotlib.pyplot as plt\n",
    "\n",
    "acc = history.history['acc']\n",
    "val_acc = history.history['val_acc']\n",
    "loss = history.history['loss']\n",
    "val_loss = history.history['val_loss']\n",
    "\n",
    "epochs = range(1, len(acc) + 1)\n",
    "\n",
    "plt.plot(epochs, acc, 'bo', label='Training acc')\n",
    "plt.plot(epochs, val_acc, 'b', label='Validation acc')\n",
    "plt.title('Training and validation accuracy')\n",
    "plt.legend()\n",
    "\n",
    "plt.figure()\n",
    "\n",
    "plt.plot(epochs, loss, 'bo', label='Training loss')\n",
    "plt.plot(epochs, val_loss, 'b', label='Validation loss')\n",
    "plt.title('Training and validation loss')\n",
    "plt.legend()\n",
    "\n",
    "plt.show()"
   ]
  },
  {
   "cell_type": "markdown",
   "metadata": {},
   "source": [
    "- 모델의 샘플 수가 작기 때문에 과대적합이 매우 빠르게 일어난다.\n",
    "\n",
    "\n",
    "### 사전 훈련된 단어 임베딩을 사용하지 않고 같은 모델 훈련하기"
   ]
  },
  {
   "cell_type": "code",
   "execution_count": 17,
   "metadata": {},
   "outputs": [
    {
     "name": "stdout",
     "output_type": "stream",
     "text": [
      "Model: \"sequential_3\"\n",
      "_________________________________________________________________\n",
      "Layer (type)                 Output Shape              Param #   \n",
      "=================================================================\n",
      "embedding_4 (Embedding)      (None, 100, 100)          1000000   \n",
      "_________________________________________________________________\n",
      "flatten_3 (Flatten)          (None, 10000)             0         \n",
      "_________________________________________________________________\n",
      "dense_4 (Dense)              (None, 32)                320032    \n",
      "_________________________________________________________________\n",
      "dense_5 (Dense)              (None, 1)                 33        \n",
      "=================================================================\n",
      "Total params: 1,320,065\n",
      "Trainable params: 1,320,065\n",
      "Non-trainable params: 0\n",
      "_________________________________________________________________\n"
     ]
    },
    {
     "name": "stderr",
     "output_type": "stream",
     "text": [
      "C:\\Users\\tjsxo\\anaconda3\\envs\\python3.6\\lib\\site-packages\\tensorflow_core\\python\\framework\\indexed_slices.py:424: UserWarning: Converting sparse IndexedSlices to a dense Tensor of unknown shape. This may consume a large amount of memory.\n",
      "  \"Converting sparse IndexedSlices to a dense Tensor of unknown shape. \"\n"
     ]
    },
    {
     "name": "stdout",
     "output_type": "stream",
     "text": [
      "Train on 200 samples, validate on 24800 samples\n",
      "Epoch 1/10\n",
      "200/200 [==============================] - 2s 8ms/step - loss: 0.6922 - acc: 0.4850 - val_loss: 0.6917 - val_acc: 0.5212\n",
      "Epoch 2/10\n",
      "200/200 [==============================] - 1s 7ms/step - loss: 0.5000 - acc: 0.9750 - val_loss: 0.6947 - val_acc: 0.5220\n",
      "Epoch 3/10\n",
      "200/200 [==============================] - 1s 7ms/step - loss: 0.2749 - acc: 0.9850 - val_loss: 0.6984 - val_acc: 0.5198\n",
      "Epoch 4/10\n",
      "200/200 [==============================] - 1s 7ms/step - loss: 0.1205 - acc: 1.0000 - val_loss: 0.7021 - val_acc: 0.5246\n",
      "Epoch 5/10\n",
      "200/200 [==============================] - 1s 7ms/step - loss: 0.0562 - acc: 1.0000 - val_loss: 0.7121 - val_acc: 0.5236\n",
      "Epoch 6/10\n",
      "200/200 [==============================] - 1s 7ms/step - loss: 0.0288 - acc: 1.0000 - val_loss: 0.7180 - val_acc: 0.5244\n",
      "Epoch 7/10\n",
      "200/200 [==============================] - 1s 7ms/step - loss: 0.0161 - acc: 1.0000 - val_loss: 0.7311 - val_acc: 0.5242\n",
      "Epoch 8/10\n",
      "200/200 [==============================] - 1s 7ms/step - loss: 0.0094 - acc: 1.0000 - val_loss: 0.7312 - val_acc: 0.5241\n",
      "Epoch 9/10\n",
      "200/200 [==============================] - 1s 7ms/step - loss: 0.0056 - acc: 1.0000 - val_loss: 0.7367 - val_acc: 0.5243\n",
      "Epoch 10/10\n",
      "200/200 [==============================] - 1s 7ms/step - loss: 0.0035 - acc: 1.0000 - val_loss: 0.7466 - val_acc: 0.5254\n"
     ]
    }
   ],
   "source": [
    "model = Sequential()\n",
    "model.add(Embedding(max_word, embedding_dim, input_length=maxlen))\n",
    "model.add(Flatten())\n",
    "model.add(Dense(32, activation='relu'))\n",
    "model.add(Dense(1, activation='sigmoid'))\n",
    "model.summary()\n",
    "\n",
    "model.compile(optimizer='rmsprop',\n",
    "             loss ='binary_crossentropy',\n",
    "             metrics=['acc'])\n",
    "\n",
    "history = model.fit(x_train, y_train,\n",
    "                   epochs=10,\n",
    "                   batch_size=32,\n",
    "                   validation_data=(x_val, y_val))"
   ]
  },
  {
   "cell_type": "code",
   "execution_count": 18,
   "metadata": {},
   "outputs": [
    {
     "data": {
      "image/png": "[encoded data removed]",
      "text/plain": [
       "<Figure size 432x288 with 1 Axes>"
      ]
     },
     "metadata": {
      "needs_background": "light"
     },
     "output_type": "display_data"
    },
    {
     "data": {
      "image/png": "[encoded data removed]",
      "text/plain": [
       "<Figure size 432x288 with 1 Axes>"
      ]
     },
     "metadata": {
      "needs_background": "light"
     },
     "output_type": "display_data"
    }
   ],
   "source": [
    "plt.clf()\n",
    "\n",
    "acc = history.history['acc']\n",
    "val_acc = history.history['val_acc']\n",
    "loss = history.history['loss']\n",
    "val_loss = history.history['val_loss']\n",
    "\n",
    "epochs = range(1, len(acc) + 1)\n",
    "\n",
    "plt.plot(epochs, acc, 'bo', label='Training acc')\n",
    "plt.plot(epochs, val_acc, 'b', label='Validation acc')\n",
    "plt.title('Training and validation accuracy')\n",
    "plt.legend()\n",
    "\n",
    "plt.figure()\n",
    "\n",
    "plt.plot(epochs, loss, 'bo', label='Training loss')\n",
    "plt.plot(epochs, val_loss, 'b', label='Validation loss')\n",
    "plt.title('Training and validation loss')\n",
    "plt.legend()\n",
    "\n",
    "plt.show()"
   ]
  },
  {
   "cell_type": "markdown",
   "metadata": {},
   "source": [
    "- 위 결과에서 볼 수 있듯이 이 예제는 사전 훈련된 단어 임베딩을 사용하는것이 더 좋은것을 확인할 수 있다.\n",
    "\n",
    "\n",
    "### 테스트 데이터 토큰화하기"
   ]
  },
  {
   "cell_type": "code",
   "execution_count": 19,
   "metadata": {},
   "outputs": [],
   "source": [
    "test_dir = os.path.join(imdb_dir, 'test')\n",
    "\n",
    "labels = []\n",
    "texts = []\n",
    "\n",
    "for label_type in ['neg', 'pos']:\n",
    "    dir_name = os.path.join(test_dir, label_type)\n",
    "    for fname in os.listdir(dir_name):\n",
    "        if fname[-4:] =='.txt': # 파일이 text 형식이라면\n",
    "            f = open(os.path.join(dir_name, fname), encoding='utf-8') # 파일을 utf-8 인코딩으로 입력한다.\n",
    "            texts.append(f.read()) # 읽은 파일의 값을 texts 리스트에 저장\n",
    "            f.close()\n",
    "            if label_type == 'neg':\n",
    "                labels.append(0) # 부정이라면 라벨에 0을 넣는다.\n",
    "            else:\n",
    "                labels.append(1)\n",
    "                \n",
    "                \n",
    "sequences = tokenizer.texts_to_sequences(texts)\n",
    "x_test = pad_sequences(sequences, maxlen=maxlen)\n",
    "y_test = np.asarray(labels)"
   ]
  },
  {
   "cell_type": "markdown",
   "metadata": {},
   "source": [
    "### 테스트 셋에서 모델 평가"
   ]
  },
  {
   "cell_type": "code",
   "execution_count": 20,
   "metadata": {},
   "outputs": [
    {
     "name": "stdout",
     "output_type": "stream",
     "text": [
      "25000/25000 [==============================] - 2s 62us/step\n"
     ]
    },
    {
     "data": {
      "text/plain": [
       "[0.7821027842903138, 0.5625600218772888]"
      ]
     },
     "execution_count": 20,
     "metadata": {},
     "output_type": "execute_result"
    }
   ],
   "source": [
    "model.load_weights('pre_trained_glove_model.h5')\n",
    "model.evaluate(x_test, y_test)"
   ]
  },
  {
   "cell_type": "markdown",
   "metadata": {},
   "source": [
    "- 테스트 데이터에서 200개의 샘플로 훈련한 결과 약 57%의 정확도를 나타내고 있다."
   ]
  },
  {
   "cell_type": "markdown",
   "metadata": {},
   "source": [
    "# 2. 순환 신경망 이해하기\n",
    "\n",
    "- 완전 연결 네트워크, 컨브넷 -> 메모리가 없음 -> 입력 간 유지되는 상태가 존재하지 않음\n",
    "- 순환 신경망은 과거 정보를 사용하여 구축되고 새로 얻은 정보를 계속 업데이트 한다.\n",
    "- 시퀸스의 원소를 순회하면서 처리한 정보를 상태에 저장한다.\n",
    "- 네트워크는 시퀸스의 원소를 차례대로 방문"
   ]
  },
  {
   "cell_type": "markdown",
   "metadata": {},
   "source": [
    "### 간단한 RNN 정방향 계산 구현\n",
    "\n",
    "- RNN 크기 (tiemsteps, input_features)"
   ]
  },
  {
   "cell_type": "code",
   "execution_count": 21,
   "metadata": {},
   "outputs": [
    {
     "data": {
      "text/plain": [
       "'\\nstate_t = 0\\n\\nfor input_t in input_sequence:\\n    output_t = f(input_t, state_t)\\n    state_t = output_t    \\n'"
      ]
     },
     "execution_count": 21,
     "metadata": {},
     "output_type": "execute_result"
    }
   ],
   "source": [
    "# 의사 코드로 표현한 RNN\n",
    "\n",
    "'''\n",
    "state_t = 0\n",
    "\n",
    "for input_t in input_sequence:\n",
    "    output_t = f(input_t, state_t)\n",
    "    state_t = output_t    \n",
    "'''"
   ]
  },
  {
   "cell_type": "code",
   "execution_count": 22,
   "metadata": {},
   "outputs": [],
   "source": [
    "timesteps = 100\n",
    "input_features = 32\n",
    "output_features = 64\n",
    "\n",
    "inputs = np.random.random((timesteps, input_features)) # 입력 데이터 : 예제를 위해 생성한 난수\n",
    "\n",
    "state_t = np.zeros((output_features,)) # 초기상태 : 모두 0인 벡터\n",
    "\n",
    "# 랜덤한 가중치 행렬 생성\n",
    "W = np.random.random((output_features, input_features))\n",
    "U = np.random.random((output_features, output_features))\n",
    "b = np.random.random((output_features,))\n",
    "\n",
    "succesive_outputs = []\n",
    "\n",
    "for input_t in inputs:\n",
    "    output_t = np.tanh(np.dot(W, input_t) + np.dot(U, state_t) + b) # 입력과 현재 상태를 연결하여 현재 출력을 얻음\n",
    "    \n",
    "    succesive_outputs.append(output_t) # 출력을 리스트에 저장\n",
    "    \n",
    "    state_t = output_t # 네트워크의 상태 업데이트\n",
    "    \n",
    "final_output_sequence = np.stack(succesive_outputs, axis=0)"
   ]
  },
  {
   "cell_type": "markdown",
   "metadata": {},
   "source": [
    "## 2.1. 케라스의 순환 층\n",
    "\n",
    "- keras에서 사용하는 RNN 라이브러리 SimpleRNN\n",
    "- SimpleRNN은 하나의 시퀸스가 아닌 배치를 받는다.\n",
    "\n",
    "\n",
    "### 마지막 타임스텝의 출력만 얻는 예제"
   ]
  },
  {
   "cell_type": "code",
   "execution_count": 23,
   "metadata": {},
   "outputs": [
    {
     "name": "stdout",
     "output_type": "stream",
     "text": [
      "Model: \"sequential_4\"\n",
      "_________________________________________________________________\n",
      "Layer (type)                 Output Shape              Param #   \n",
      "=================================================================\n",
      "embedding_5 (Embedding)      (None, None, 32)          320000    \n",
      "_________________________________________________________________\n",
      "simple_rnn_1 (SimpleRNN)     (None, 32)                2080      \n",
      "=================================================================\n",
      "Total params: 322,080\n",
      "Trainable params: 322,080\n",
      "Non-trainable params: 0\n",
      "_________________________________________________________________\n"
     ]
    }
   ],
   "source": [
    "from keras.layers import Embedding, SimpleRNN\n",
    "\n",
    "model = Sequential()\n",
    "model.add(Embedding(10000, 32))\n",
    "model.add(SimpleRNN(32))\n",
    "model.summary()"
   ]
  },
  {
   "cell_type": "markdown",
   "metadata": {},
   "source": [
    "### 전체 상태 시퀸스를 반환하는 예제"
   ]
  },
  {
   "cell_type": "code",
   "execution_count": 24,
   "metadata": {},
   "outputs": [
    {
     "name": "stdout",
     "output_type": "stream",
     "text": [
      "Model: \"sequential_5\"\n",
      "_________________________________________________________________\n",
      "Layer (type)                 Output Shape              Param #   \n",
      "=================================================================\n",
      "embedding_6 (Embedding)      (None, None, 32)          320000    \n",
      "_________________________________________________________________\n",
      "simple_rnn_2 (SimpleRNN)     (None, None, 32)          2080      \n",
      "=================================================================\n",
      "Total params: 322,080\n",
      "Trainable params: 322,080\n",
      "Non-trainable params: 0\n",
      "_________________________________________________________________\n"
     ]
    }
   ],
   "source": [
    "model = Sequential()\n",
    "model.add(Embedding(10000, 32))\n",
    "model.add(SimpleRNN(32, return_sequences=True))\n",
    "model.summary()"
   ]
  },
  {
   "cell_type": "markdown",
   "metadata": {},
   "source": [
    "### 여러 순환 층을 차례대로 쌓는 경우\n",
    "\n",
    "- 네트워크의 표현력을 증가시키기 위해 사용\n",
    "- 중간층들이 전체 출력 시퀸스를 반환하도록 설정한다."
   ]
  },
  {
   "cell_type": "code",
   "execution_count": 25,
   "metadata": {},
   "outputs": [
    {
     "name": "stdout",
     "output_type": "stream",
     "text": [
      "Model: \"sequential_6\"\n",
      "_________________________________________________________________\n",
      "Layer (type)                 Output Shape              Param #   \n",
      "=================================================================\n",
      "embedding_7 (Embedding)      (None, None, 32)          320000    \n",
      "_________________________________________________________________\n",
      "simple_rnn_3 (SimpleRNN)     (None, None, 32)          2080      \n",
      "_________________________________________________________________\n",
      "simple_rnn_4 (SimpleRNN)     (None, None, 32)          2080      \n",
      "_________________________________________________________________\n",
      "simple_rnn_5 (SimpleRNN)     (None, None, 32)          2080      \n",
      "_________________________________________________________________\n",
      "simple_rnn_6 (SimpleRNN)     (None, 32)                2080      \n",
      "=================================================================\n",
      "Total params: 328,320\n",
      "Trainable params: 328,320\n",
      "Non-trainable params: 0\n",
      "_________________________________________________________________\n"
     ]
    }
   ],
   "source": [
    "model = Sequential()\n",
    "model.add(Embedding(10000, 32))\n",
    "model.add(SimpleRNN(32, return_sequences=True))\n",
    "model.add(SimpleRNN(32, return_sequences=True))\n",
    "model.add(SimpleRNN(32, return_sequences=True))\n",
    "model.add(SimpleRNN(32))\n",
    "model.summary()"
   ]
  },
  {
   "cell_type": "markdown",
   "metadata": {},
   "source": [
    "### IMDB 리뷰 문제에 적용\n",
    "\n",
    "\n",
    "- 데이터 전처리"
   ]
  },
  {
   "cell_type": "code",
   "execution_count": 26,
   "metadata": {},
   "outputs": [
    {
     "name": "stdout",
     "output_type": "stream",
     "text": [
      "데이터 로딩...\n",
      "25000 훈련 시퀸스\n",
      "25000 테스트 시퀸스\n",
      "시퀸스 패딩 (sample x time)\n",
      "input_train 크기: (25000, 500)\n",
      "input_test 크기: (25000, 500)\n"
     ]
    }
   ],
   "source": [
    "from keras.preprocessing import sequence\n",
    "\n",
    "max_features = 10000 # 사용할 단어의 수\n",
    "maxlen = 500\n",
    "batch_size = 32\n",
    "\n",
    "print('데이터 로딩...')\n",
    "(input_train, y_train), (input_test, y_test) = imdb.load_data(num_words=max_features)\n",
    "\n",
    "print(len(input_train), '훈련 시퀸스')\n",
    "print(len(input_test), '테스트 시퀸스')\n",
    "\n",
    "print('시퀸스 패딩 (sample x time)')\n",
    "\n",
    "# 글자가 모자란 부분에는 패딩을 넣어주어서 같은 길이의 시퀸스로 변경해준다.\n",
    "input_train = sequence.pad_sequences(input_train, maxlen=maxlen)\n",
    "input_test = sequence.pad_sequences(input_test, maxlen=maxlen)\n",
    "\n",
    "print('input_train 크기:', input_train.shape)\n",
    "print('input_test 크기:', input_test.shape)"
   ]
  },
  {
   "cell_type": "markdown",
   "metadata": {},
   "source": [
    "### Embedding 층과 SimpleRNN 층을 사용하여 간단한 순환 네트워크 훈련"
   ]
  },
  {
   "cell_type": "code",
   "execution_count": 27,
   "metadata": {},
   "outputs": [
    {
     "name": "stderr",
     "output_type": "stream",
     "text": [
      "C:\\Users\\tjsxo\\anaconda3\\envs\\python3.6\\lib\\site-packages\\tensorflow_core\\python\\framework\\indexed_slices.py:424: UserWarning: Converting sparse IndexedSlices to a dense Tensor of unknown shape. This may consume a large amount of memory.\n",
      "  \"Converting sparse IndexedSlices to a dense Tensor of unknown shape. \"\n"
     ]
    },
    {
     "name": "stdout",
     "output_type": "stream",
     "text": [
      "Train on 20000 samples, validate on 5000 samples\n",
      "Epoch 1/10\n",
      "20000/20000 [==============================] - 45s 2ms/step - loss: 0.6216 - acc: 0.6351 - val_loss: 0.5115 - val_acc: 0.7624\n",
      "Epoch 2/10\n",
      "20000/20000 [==============================] - 44s 2ms/step - loss: 0.3842 - acc: 0.8394 - val_loss: 0.4444 - val_acc: 0.8010\n",
      "Epoch 3/10\n",
      "20000/20000 [==============================] - 44s 2ms/step - loss: 0.2879 - acc: 0.8846 - val_loss: 0.3947 - val_acc: 0.8506\n",
      "Epoch 4/10\n",
      "20000/20000 [==============================] - 44s 2ms/step - loss: 0.2205 - acc: 0.9148 - val_loss: 0.5076 - val_acc: 0.8016\n",
      "Epoch 5/10\n",
      "20000/20000 [==============================] - 44s 2ms/step - loss: 0.1650 - acc: 0.9393 - val_loss: 0.6014 - val_acc: 0.7730\n",
      "Epoch 6/10\n",
      "20000/20000 [==============================] - 44s 2ms/step - loss: 0.1115 - acc: 0.9617 - val_loss: 0.4536 - val_acc: 0.8200\n",
      "Epoch 7/10\n",
      "20000/20000 [==============================] - 44s 2ms/step - loss: 0.0764 - acc: 0.9748 - val_loss: 0.5929 - val_acc: 0.7864\n",
      "Epoch 8/10\n",
      "20000/20000 [==============================] - 44s 2ms/step - loss: 0.0503 - acc: 0.9844 - val_loss: 0.5291 - val_acc: 0.8276\n",
      "Epoch 9/10\n",
      "20000/20000 [==============================] - 44s 2ms/step - loss: 0.0388 - acc: 0.9877 - val_loss: 0.6667 - val_acc: 0.8018\n",
      "Epoch 10/10\n",
      "20000/20000 [==============================] - 44s 2ms/step - loss: 0.0231 - acc: 0.9929 - val_loss: 0.9057 - val_acc: 0.7316\n"
     ]
    }
   ],
   "source": [
    "model = Sequential()\n",
    "model.add(Embedding(max_features, 32))\n",
    "model.add(SimpleRNN(32))\n",
    "model.add(Dense(1, activation='sigmoid'))\n",
    "\n",
    "model.compile(optimizer='rmsprop', loss='binary_crossentropy', metrics=['acc'])\n",
    "history = model.fit(input_train, y_train,\n",
    "                   epochs=10,\n",
    "                   batch_size=128,\n",
    "                   validation_split=0.2)"
   ]
  },
  {
   "cell_type": "markdown",
   "metadata": {},
   "source": [
    "### 훈련 검증 손실, 정확도 그래프"
   ]
  },
  {
   "cell_type": "code",
   "execution_count": 28,
   "metadata": {},
   "outputs": [
    {
     "data": {
      "image/png": "[encoded data removed]",
      "text/plain": [
       "<Figure size 432x288 with 1 Axes>"
      ]
     },
     "metadata": {
      "needs_background": "light"
     },
     "output_type": "display_data"
    },
    {
     "data": {
      "image/png": "[encoded data removed]",
      "text/plain": [
       "<Figure size 432x288 with 1 Axes>"
      ]
     },
     "metadata": {
      "needs_background": "light"
     },
     "output_type": "display_data"
    }
   ],
   "source": [
    "plt.clf()\n",
    "\n",
    "acc = history.history['acc']\n",
    "val_acc = history.history['val_acc']\n",
    "loss = history.history['loss']\n",
    "val_loss = history.history['val_loss']\n",
    "\n",
    "epochs = range(1, len(acc) + 1)\n",
    "\n",
    "plt.plot(epochs, acc, 'bo', label='Training acc')\n",
    "plt.plot(epochs, val_acc, 'b', label='Validation acc')\n",
    "plt.title('Training and validation accuracy')\n",
    "plt.legend()\n",
    "\n",
    "plt.figure()\n",
    "\n",
    "plt.plot(epochs, loss, 'bo', label='Training loss')\n",
    "plt.plot(epochs, val_loss, 'b', label='Validation loss')\n",
    "plt.title('Training and validation loss')\n",
    "plt.legend()\n",
    "\n",
    "plt.show()"
   ]
  },
  {
   "cell_type": "markdown",
   "metadata": {},
   "source": [
    "- 이전에 만들었던 IMDB 이진분류기 보다 성증이 좋지 못하다\n",
    "    - 전체 시퀸스가 아니라 앞 500개의 단어만 사용했기 때문\n",
    "    - SimpleRNN이 텍스트 같은 긴 시퀸스를 처리하는데 좋지 못하기 때문"
   ]
  },
  {
   "cell_type": "markdown",
   "metadata": {},
   "source": [
    "## 2.2. LSTM과 GRU 층 이해하기\n",
    "\n",
    "- SImpleRNN과 다른 순환 층\n",
    "- SimpleRNN은 너무 단순하기 때문에 긴 시간에 걸친 의존성은 학습할 수 없다. -> 그래디언트 소실 문제 발생\n",
    "\n",
    "\n",
    "- LSTM\n",
    "    1. 정보를 여러 타임스텝에 걸쳐 나르는 방법\n",
    "    2. 나중을 위해 정보를 저장 -> 오래된 시그널이 소실되는 것을 막아 줌\n",
    "    3. 출력 : y = activation(c_t) * activation(dot(state_t, U) + dot(input_t, W) + b) 예전 정보를 가져다 주는 c_t가 추가\n",
    "    \n",
    "\n",
    "###  LSTM 구조의 의사코드"
   ]
  },
  {
   "cell_type": "code",
   "execution_count": 29,
   "metadata": {},
   "outputs": [
    {
     "data": {
      "text/plain": [
       "'\\noutput_t = activation(c_t) * activation(dot(input_t, Wo) + dot(state_tk Uo) + bo)\\n\\ni_t = activation(dot(state_t, Ui) + dot(input_t, Wi) + bi)\\nf_t = activation(dot(state_t, Uf) + dot(input_t, Wf) + bf)\\nk_t = activation(dout(state_t, Uk) + dot(input_t, Wk) + bk)\\n\\nc_t + 1 = i_t * k_t + c_t * f_t\\n'"
      ]
     },
     "execution_count": 29,
     "metadata": {},
     "output_type": "execute_result"
    }
   ],
   "source": [
    "'''\n",
    "output_t = activation(c_t) * activation(dot(input_t, Wo) + dot(state_tk Uo) + bo)\n",
    "\n",
    "i_t = activation(dot(state_t, Ui) + dot(input_t, Wi) + bi)\n",
    "f_t = activation(dot(state_t, Uf) + dot(input_t, Wf) + bf)\n",
    "k_t = activation(dout(state_t, Uk) + dot(input_t, Wk) + bk)\n",
    "\n",
    "c_t + 1 = i_t * k_t + c_t * f_t\n",
    "'''"
   ]
  },
  {
   "cell_type": "markdown",
   "metadata": {},
   "source": [
    "- c_t와 f_t의 곱셈은 이동을 위한 데이터 흐름에서 관련이 적은 정보를 의도적을 삭제한다.\n",
    "- i_t와 k_t는 현재에 대한 정보를 제공, 이동 트랙을 새로운 정보로 업데이트\n",
    "- 과거 정보를 나중에 다시 주입하여 그래디언트 소실 문제를 해결"
   ]
  },
  {
   "cell_type": "markdown",
   "metadata": {},
   "source": [
    "## 2.3. 케라스를 사용한 LSTM 예제"
   ]
  },
  {
   "cell_type": "code",
   "execution_count": 30,
   "metadata": {},
   "outputs": [
    {
     "name": "stderr",
     "output_type": "stream",
     "text": [
      "C:\\Users\\tjsxo\\anaconda3\\envs\\python3.6\\lib\\site-packages\\tensorflow_core\\python\\framework\\indexed_slices.py:424: UserWarning: Converting sparse IndexedSlices to a dense Tensor of unknown shape. This may consume a large amount of memory.\n",
      "  \"Converting sparse IndexedSlices to a dense Tensor of unknown shape. \"\n"
     ]
    },
    {
     "name": "stdout",
     "output_type": "stream",
     "text": [
      "Train on 20000 samples, validate on 5000 samples\n",
      "Epoch 1/10\n",
      "20000/20000 [==============================] - 71s 4ms/step - loss: 0.5433 - acc: 0.7368 - val_loss: 0.4364 - val_acc: 0.7958\n",
      "Epoch 2/10\n",
      "20000/20000 [==============================] - 70s 3ms/step - loss: 0.3028 - acc: 0.8820 - val_loss: 0.3918 - val_acc: 0.8340\n",
      "Epoch 3/10\n",
      "20000/20000 [==============================] - 70s 4ms/step - loss: 0.2390 - acc: 0.9100 - val_loss: 0.2994 - val_acc: 0.8712\n",
      "Epoch 4/10\n",
      "20000/20000 [==============================] - 70s 3ms/step - loss: 0.2023 - acc: 0.9263 - val_loss: 0.2972 - val_acc: 0.8866\n",
      "Epoch 5/10\n",
      "20000/20000 [==============================] - 70s 4ms/step - loss: 0.1828 - acc: 0.9334 - val_loss: 0.3102 - val_acc: 0.8902\n",
      "Epoch 6/10\n",
      "20000/20000 [==============================] - 70s 3ms/step - loss: 0.1594 - acc: 0.9434 - val_loss: 0.3612 - val_acc: 0.8760\n",
      "Epoch 7/10\n",
      "20000/20000 [==============================] - 70s 4ms/step - loss: 0.1445 - acc: 0.9493 - val_loss: 0.3920 - val_acc: 0.8450\n",
      "Epoch 8/10\n",
      "20000/20000 [==============================] - 70s 4ms/step - loss: 0.1359 - acc: 0.9516 - val_loss: 0.3347 - val_acc: 0.8820\n",
      "Epoch 9/10\n",
      "20000/20000 [==============================] - 70s 4ms/step - loss: 0.1222 - acc: 0.9581 - val_loss: 0.3886 - val_acc: 0.8476\n",
      "Epoch 10/10\n",
      "20000/20000 [==============================] - 70s 4ms/step - loss: 0.1112 - acc: 0.9622 - val_loss: 0.4154 - val_acc: 0.8604\n"
     ]
    }
   ],
   "source": [
    "from keras.layers import LSTM\n",
    "\n",
    "model = Sequential()\n",
    "model.add(Embedding(max_features, 32))\n",
    "model.add(LSTM(32))\n",
    "model.add(Dense(1, activation='sigmoid'))\n",
    "\n",
    "model.compile(optimizer='rmsprop', loss='binary_crossentropy', metrics=['acc'])\n",
    "\n",
    "history = model.fit(input_train, y_train,\n",
    "                   epochs=10,\n",
    "                   batch_size=128,\n",
    "                   validation_split=0.2)"
   ]
  },
  {
   "cell_type": "code",
   "execution_count": 31,
   "metadata": {},
   "outputs": [
    {
     "data": {
      "image/png": "[encoded data removed]",
      "text/plain": [
       "<Figure size 432x288 with 1 Axes>"
      ]
     },
     "metadata": {
      "needs_background": "light"
     },
     "output_type": "display_data"
    },
    {
     "data": {
      "image/png": "[encoded data removed]",
      "text/plain": [
       "<Figure size 432x288 with 1 Axes>"
      ]
     },
     "metadata": {
      "needs_background": "light"
     },
     "output_type": "display_data"
    }
   ],
   "source": [
    "plt.clf()\n",
    "\n",
    "acc = history.history['acc']\n",
    "val_acc = history.history['val_acc']\n",
    "loss = history.history['loss']\n",
    "val_loss = history.history['val_loss']\n",
    "\n",
    "epochs = range(1, len(acc) + 1)\n",
    "\n",
    "plt.plot(epochs, acc, 'bo', label='Training acc')\n",
    "plt.plot(epochs, val_acc, 'b', label='Validation acc')\n",
    "plt.title('Training and validation accuracy')\n",
    "plt.legend()\n",
    "\n",
    "plt.figure()\n",
    "\n",
    "plt.plot(epochs, loss, 'bo', label='Training loss')\n",
    "plt.plot(epochs, val_loss, 'b', label='Validation loss')\n",
    "plt.title('Training and validation loss')\n",
    "plt.legend()\n",
    "\n",
    "plt.show()"
   ]
  },
  {
   "cell_type": "markdown",
   "metadata": {},
   "source": [
    "- 약 88%의 정확도 달성 이전에 했던 모델들보다 더 좋은 성능을 보임\n",
    "- 그래디언트 소실에 영향을 덜 받기 때문에 성능이 좋아졌다.\n",
    "- LSTM은 질문-응답, 기계 번역에서 좋은 성능을 발휘한다."
   ]
  },
  {
   "cell_type": "markdown",
   "metadata": {},
   "source": [
    "# 3. 순환 신경망의 고급 사용법\n",
    "\n",
    "- 순환 신경망의 성능, 일반화 능력을 향상시키기 위한 세 가지 고급 기술\n",
    "- 온도 예측 문제로 시연\n",
    "\n",
    "\n",
    "- 사용하는 기법\n",
    "    1. 순환 드롭아웃 : 순환 층에서 과대적합 방지\n",
    "    2. 스택킹 순환 층 : 네트워크의 ㅍ현 능력을 증가\n",
    "    3. 양방향 순환 층 : 순환 네트워크에 같은 정보를 다른 방향으로 주입, 정확도를 높이고 기억을 오래 유지"
   ]
  },
  {
   "cell_type": "markdown",
   "metadata": {},
   "source": [
    "## 3.1.  기온 예측 문제\n",
    "\n",
    "- 독일 에나시에 있는 막스 플랑크 생물지구화학 연구소에서 관측한 데이터\n",
    "- (기온, 기압, 습도, 풍향) 등 14개의 관측치가 10분마다 기록되어 있음\n",
    "- 2009년 ~ 2016년 사이의 데이터 사용\n",
    "- 24시간 후의 기온을 예측"
   ]
  },
  {
   "cell_type": "code",
   "execution_count": 32,
   "metadata": {},
   "outputs": [
    {
     "name": "stdout",
     "output_type": "stream",
     "text": [
      "100% [........................................................................] 13568290 / 13568290"
     ]
    },
    {
     "data": {
      "text/plain": [
       "'./datasets/jena_climate/jena_climate_2009_2016.csv (1).zip'"
      ]
     },
     "execution_count": 32,
     "metadata": {},
     "output_type": "execute_result"
    }
   ],
   "source": [
    "import wget\n",
    "\n",
    "data_dir = './datasets/jena_climate'\n",
    "\n",
    "if os.path.isdir(data_dir) is False:\n",
    "    os.mkdir(data_dir)\n",
    "    \n",
    "    \n",
    "jena_data_url = 'https://s3.amazonaws.com/keras-datasets/jena_climate_2009_2016.csv.zip'\n",
    "wget.download(jena_data_url, data_dir)"
   ]
  },
  {
   "cell_type": "code",
   "execution_count": 33,
   "metadata": {},
   "outputs": [],
   "source": [
    "# 다운받은 zip 파일을 압축해제\n",
    "import zipfile\n",
    "\n",
    "jena_data_path = os.path.join(data_dir, 'jena_climate_2009_2016.csv.zip')\n",
    "jena_data_zip = zipfile.ZipFile(jena_data_path)\n",
    "jena_data_zip.extractall(data_dir)\n",
    "jena_data_zip.close()"
   ]
  },
  {
   "cell_type": "markdown",
   "metadata": {},
   "source": [
    "### 데이터 셋 조사"
   ]
  },
  {
   "cell_type": "code",
   "execution_count": 34,
   "metadata": {},
   "outputs": [
    {
     "name": "stdout",
     "output_type": "stream",
     "text": [
      "['\"Date Time\"', '\"p (mbar)\"', '\"T (degC)\"', '\"Tpot (K)\"', '\"Tdew (degC)\"', '\"rh (%)\"', '\"VPmax (mbar)\"', '\"VPact (mbar)\"', '\"VPdef (mbar)\"', '\"sh (g/kg)\"', '\"H2OC (mmol/mol)\"', '\"rho (g/m**3)\"', '\"wv (m/s)\"', '\"max. wv (m/s)\"', '\"wd (deg)\"']\n",
      "420551\n"
     ]
    }
   ],
   "source": [
    "fname = os.path.join(data_dir, 'jena_climate_2009_2016.csv')\n",
    "\n",
    "f = open(fname)\n",
    "data = f.read()\n",
    "f.close()\n",
    "\n",
    "lines = data.split('\\n') # 개행문자를 기준으로 데이터를 split\n",
    "header = lines[0].split(',')\n",
    "lines = lines[1:]\n",
    "\n",
    "print(header)\n",
    "print(len(lines))"
   ]
  },
  {
   "cell_type": "markdown",
   "metadata": {},
   "source": [
    "- 위에서 확인할 수 있듯이 14개의 헤더로 구분되며 총 420551 개의 데이터를 가지고 있다."
   ]
  },
  {
   "cell_type": "code",
   "execution_count": 35,
   "metadata": {},
   "outputs": [],
   "source": [
    "# 데이터를 numpy 배열로 변경\n",
    "\n",
    "float_data = np.zeros((len(lines), len(header) -1))\n",
    "for i, line in enumerate(lines):\n",
    "    values = [float(x) for x in line.split(',')[1:]]\n",
    "    float_data[i, :] = values"
   ]
  },
  {
   "cell_type": "markdown",
   "metadata": {},
   "source": [
    "### 시계열 온도 그래프 그리기"
   ]
  },
  {
   "cell_type": "code",
   "execution_count": 36,
   "metadata": {},
   "outputs": [
    {
     "data": {
      "text/plain": [
       "[<matplotlib.lines.Line2D at 0x20f0c0aaf28>]"
      ]
     },
     "execution_count": 36,
     "metadata": {},
     "output_type": "execute_result"
    },
    {
     "data": {
      "image/png": "[encoded data removed]",
      "text/plain": [
       "<Figure size 432x288 with 1 Axes>"
      ]
     },
     "metadata": {
      "needs_background": "light"
     },
     "output_type": "display_data"
    }
   ],
   "source": [
    "from matplotlib import pyplot as plt\n",
    "\n",
    "# 전체 기간의 온도\n",
    "temp = float_data[:, 1] # 온도에 해당하는 데이터 뽑아내기\n",
    "plt.plot(range(len(temp)), temp)"
   ]
  },
  {
   "cell_type": "code",
   "execution_count": 37,
   "metadata": {},
   "outputs": [
    {
     "data": {
      "text/plain": [
       "[<matplotlib.lines.Line2D at 0x20f166e8ba8>]"
      ]
     },
     "execution_count": 37,
     "metadata": {},
     "output_type": "execute_result"
    },
    {
     "data": {
      "image/png": "[encoded data removed]",
      "text/plain": [
       "<Figure size 432x288 with 1 Axes>"
      ]
     },
     "metadata": {
      "needs_background": "light"
     },
     "output_type": "display_data"
    }
   ],
   "source": [
    "# 처음 10일간 온도 데이터\n",
    "# 10분마다 데이터가 기록되므로 하루에 총 144개의 데이터 포인트가 존재\n",
    "plt.plot(range(1440), temp[:1440])"
   ]
  },
  {
   "cell_type": "markdown",
   "metadata": {},
   "source": [
    "## 3.2. 데이터 준비\n",
    "\n",
    "- 문제의 정의\n",
    "    - lookback 타임스텝만큼 이전으로 돌아가서 매 steps 타임스텝마다 샘플링한다.\n",
    "    \n",
    "- 사용 번수\n",
    "    1. lookback = 1440: 10일 전 데이터로 돌아감\n",
    "    2. steps = 6: 1시간 마다 데이터 포인트 하나를 샘플링\n",
    "    3. delay = 144; 24시간이 지난 데이터가 타깃이 됨\n",
    "    \n",
    "\n",
    "- 해야하는 작업\n",
    "    1. 신경망에 주입 할 수 있는 형태로의 데이터 전처리\n",
    "    2. float_data 배열을 받아 과거 데이터의 배치와 미래 타깃 온도를 추출하는 제네레이터 생성\n",
    "    \n",
    "- 각 시계열 특성에 대해 평균을 빼고 표준 편차로 나누어 전처리"
   ]
  },
  {
   "cell_type": "code",
   "execution_count": 47,
   "metadata": {},
   "outputs": [],
   "source": [
    "# 데이터 전처리\n",
    "mean = float_data[:200000].mean(axis=0)\n",
    "float_data -= mean\n",
    "std = float_data[:200000].std(axis=0)\n",
    "float_data /= std"
   ]
  },
  {
   "cell_type": "markdown",
   "metadata": {},
   "source": [
    "- 제네레이터 매개변수\n",
    "    1. data: 부동 소수 데이터로 이루어진 원본 배열\n",
    "    2. lookback: 입력으로 사용하기 위해 거슬러 올라갈 타임스텝\n",
    "    3. delay: 타깃으로 사용할 미래의 타임스텝\n",
    "    4. min_index, max_index: 추출할 타임스텝 범위를 지정하기 위한 data 배열의 인덱스, 검증과 테스트 데이터 분리에 사용\n",
    "    5. shuffle: 샘플을 섞을지, 시간 순서대로 추출할지 결정\n",
    "    6. batch_size: 배치의 샘플 수\n",
    "    7. step: 데이터를 샘플링할 타임스텝 간격, 1시간에 하나의 데이터 포인트를 추출하기 위해서 6으로 지정"
   ]
  },
  {
   "cell_type": "code",
   "execution_count": 49,
   "metadata": {},
   "outputs": [],
   "source": [
    "def generator(data, lookback, delay, min_index, max_index, shuffle=False, batch_size=128, step=6):\n",
    "    if max_index is None:\n",
    "        max_index = len(data) - delay - 1\n",
    "    i = min_index + lookback\n",
    "    \n",
    "    while 1:\n",
    "        if shuffle:\n",
    "            rows = np.random.randint(min_index + lookback, max_index, size=batch_size)\n",
    "        else:\n",
    "            if i + batch_size >= max_index:\n",
    "                i = min_index + lookback\n",
    "            rows = np.arange(i, min(i+batch_size, max_index))\n",
    "            i += len(rows)\n",
    "            \n",
    "        samples = np.zeros((len(rows), lookback // step, data.shape[-1]))\n",
    "        targets = np.zeros((len(rows),))\n",
    "        \n",
    "        for j, row in enumerate(rows):\n",
    "            indices = range(rows[j] - lookback, rows[j], step)\n",
    "            samples[j] = data[indices]\n",
    "            targets[j] = data[rows[j] + delay][1]\n",
    "        yield samples, targets"
   ]
  },
  {
   "cell_type": "markdown",
   "metadata": {},
   "source": [
    "- 훈련, 검증, 테스트 제네레이터 준비\n",
    "    1. 각 제네레이터는 원본 데이터에서 다른 시간대를 사용\n",
    "    2. 훈련 제네레이터는 처음 20만 개 타임스템 사용\n",
    "    3. 검증 제네레이터는 다음 10만 개 사용\n",
    "    4. 테스트 제네레이터는 나머지를 사용"
   ]
  },
  {
   "cell_type": "code",
   "execution_count": 50,
   "metadata": {},
   "outputs": [],
   "source": [
    "lookback = 1440 # 10일 동안의 타임스텝을 사용\n",
    "step = 6 # 1시간 간격의 샘플을 사용\n",
    "delay = 144 # 하루(24시간)을 다음으로 설정\n",
    "batch_size = 128\n",
    "\n",
    "train_gen = generator(float_data,\n",
    "                     lookback=lookback,\n",
    "                     delay=delay,\n",
    "                      min_index = 0,\n",
    "                     max_index=200000,\n",
    "                     shuffle=True,\n",
    "                     step=step,\n",
    "                     batch_size = batch_size)\n",
    "\n",
    "val_gen = generator(float_data,\n",
    "                     lookback=lookback,\n",
    "                     delay=delay,\n",
    "                      min_index = 200001,\n",
    "                     max_index=300000,\n",
    "                     shuffle=True,\n",
    "                     step=step,\n",
    "                     batch_size = batch_size)\n",
    "\n",
    "test_gen = generator(float_data,\n",
    "                     lookback=lookback,\n",
    "                     delay=delay,\n",
    "                      min_index = 300001,\n",
    "                     max_index=None,\n",
    "                     shuffle=True,\n",
    "                     step=step,\n",
    "                     batch_size = batch_size)"
   ]
  },
  {
   "cell_type": "code",
   "execution_count": 51,
   "metadata": {},
   "outputs": [],
   "source": [
    "val_steps = (300000 - 200001 - lookback) // batch_size\n",
    "\n",
    "test_steps = (len(float_data) - 300001 - lookback) // batch_size"
   ]
  },
  {
   "cell_type": "markdown",
   "metadata": {},
   "source": [
    "## 3.3. 상식 수준의 기준점\n",
    "\n",
    "- 데이터셋에 클래스 A의 샘플이 90%, 클래스 B의 샘플이 10%있다\n",
    "- 위에 예시에 대한 상식 수준의 접근법은 항상 A라고 분류하는것이다. -> 항상 90%의 정확도!\n",
    "- 즉 90% 이상을 달성해야 유용하다고 볼 수 있다.\n",
    "\n",
    "\n",
    "- 현재 문제에서는 데이터가 연속성이 있고 일자별로 주기성이 있다고 가정\n",
    "- 상식 수준의 해결책은 지금으로부터 24시간 후 온도는 지금과 동일하다고 예측"
   ]
  },
  {
   "cell_type": "markdown",
   "metadata": {},
   "source": [
    "### 평가를 위한 반복 루프"
   ]
  },
  {
   "cell_type": "code",
   "execution_count": 53,
   "metadata": {},
   "outputs": [
    {
     "name": "stdout",
     "output_type": "stream",
     "text": [
      "0.29059522990354797\n"
     ]
    }
   ],
   "source": [
    "def evaluate_naive_method():\n",
    "    batch_maes = []\n",
    "    for step in range(val_steps):\n",
    "        samples, targets = next(val_gen)\n",
    "        preds = samples[:, -1, 1]\n",
    "        mae = np.mean(np.abs(preds - targets))\n",
    "        batch_maes.append(mae)\n",
    "    print(np.mean(batch_maes))\n",
    "    \n",
    "evaluate_naive_method()"
   ]
  },
  {
   "cell_type": "markdown",
   "metadata": {},
   "source": [
    "### MAE를 섭씨 단위로 변환"
   ]
  },
  {
   "cell_type": "code",
   "execution_count": 59,
   "metadata": {},
   "outputs": [
    {
     "name": "stdout",
     "output_type": "stream",
     "text": [
      "0.2899999999999997\n"
     ]
    }
   ],
   "source": [
    "celsius_mae = 0.29 * std[1]\n",
    "print(celsius_mae)"
   ]
  },
  {
   "cell_type": "markdown",
   "metadata": {},
   "source": [
    "## 3.4. 기본적인 머신 러닝 방법\n",
    "\n",
    "- 복잡하고 연산 비용이 많이 드는 모델을 시도하기 전에 간단하고 손쉽게 만들 수 있는 모델을 만든다."
   ]
  },
  {
   "cell_type": "code",
   "execution_count": 62,
   "metadata": {},
   "outputs": [
    {
     "name": "stdout",
     "output_type": "stream",
     "text": [
      "Epoch 1/20\n",
      "500/500 [==============================] - 13s 27ms/step - loss: 1.0170 - val_loss: 0.4532\n",
      "Epoch 2/20\n",
      "500/500 [==============================] - 13s 26ms/step - loss: 0.3610 - val_loss: 0.3527\n",
      "Epoch 3/20\n",
      "500/500 [==============================] - 13s 27ms/step - loss: 0.2831 - val_loss: 0.3398\n",
      "Epoch 4/20\n",
      "500/500 [==============================] - 13s 26ms/step - loss: 0.2649 - val_loss: 0.3298\n",
      "Epoch 5/20\n",
      "500/500 [==============================] - 13s 26ms/step - loss: 0.2518 - val_loss: 0.3261\n",
      "Epoch 6/20\n",
      "500/500 [==============================] - 13s 26ms/step - loss: 0.2430 - val_loss: 0.3205\n",
      "Epoch 7/20\n",
      "500/500 [==============================] - 13s 27ms/step - loss: 0.2374 - val_loss: 0.3483\n",
      "Epoch 8/20\n",
      "500/500 [==============================] - 13s 27ms/step - loss: 0.2323 - val_loss: 0.3214\n",
      "Epoch 9/20\n",
      "500/500 [==============================] - 13s 26ms/step - loss: 0.2279 - val_loss: 0.3318\n",
      "Epoch 10/20\n",
      "500/500 [==============================] - 13s 26ms/step - loss: 0.2248 - val_loss: 0.3194\n",
      "Epoch 11/20\n",
      "500/500 [==============================] - 13s 26ms/step - loss: 0.2207 - val_loss: 0.2853\n",
      "Epoch 12/20\n",
      "500/500 [==============================] - 13s 26ms/step - loss: 0.2173 - val_loss: 0.3547\n",
      "Epoch 13/20\n",
      "500/500 [==============================] - 13s 26ms/step - loss: 0.2141 - val_loss: 0.3684\n",
      "Epoch 14/20\n",
      "500/500 [==============================] - 13s 27ms/step - loss: 0.2115 - val_loss: 0.3339\n",
      "Epoch 15/20\n",
      "500/500 [==============================] - 13s 26ms/step - loss: 0.2093 - val_loss: 0.3220\n",
      "Epoch 16/20\n",
      "500/500 [==============================] - 13s 26ms/step - loss: 0.2060 - val_loss: 0.3355\n",
      "Epoch 17/20\n",
      "500/500 [==============================] - 13s 26ms/step - loss: 0.2057 - val_loss: 0.3756\n",
      "Epoch 18/20\n",
      "500/500 [==============================] - 13s 27ms/step - loss: 0.2042 - val_loss: 0.3104\n",
      "Epoch 19/20\n",
      "500/500 [==============================] - 13s 26ms/step - loss: 0.2023 - val_loss: 0.3149\n",
      "Epoch 20/20\n",
      "500/500 [==============================] - 14s 27ms/step - loss: 0.2017 - val_loss: 0.3455\n"
     ]
    }
   ],
   "source": [
    "from keras import layers\n",
    "from keras.optimizers import RMSprop\n",
    "\n",
    "model = Sequential()\n",
    "model.add(layers.Flatten(input_shape=(lookback // step, float_data.shape[-1]))) # (24, 14)을 입력으로 받고 펼침\n",
    "model.add(layers.Dense(32, activation='relu'))\n",
    "model.add(layers.Dense(1))\n",
    "\n",
    "model.compile(optimizer=RMSprop(), loss='mae')\n",
    "\n",
    "history = model.fit_generator(train_gen, steps_per_epoch=500,\n",
    "                             epochs=20, \n",
    "                             validation_data=val_gen,\n",
    "                             validation_steps=val_steps)"
   ]
  },
  {
   "cell_type": "code",
   "execution_count": null,
   "metadata": {},
   "outputs": [],
   "source": []
  }
 ],
 "metadata": {
  "kernelspec": {
   "display_name": "python3.6",
   "language": "python",
   "name": "python3.6"
  },
  "language_info": {
   "codemirror_mode": {
    "name": "ipython",
    "version": 3
   },
   "file_extension": ".py",
   "mimetype": "text/x-python",
   "name": "python",
   "nbconvert_exporter": "python",
   "pygments_lexer": "ipython3",
   "version": "3.6.10"
  }
 },
 "nbformat": 4,
 "nbformat_minor": 4
}
