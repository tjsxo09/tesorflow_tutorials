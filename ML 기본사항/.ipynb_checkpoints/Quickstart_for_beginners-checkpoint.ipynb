{
 "cells": [
  {
   "cell_type": "code",
   "execution_count": 1,
   "metadata": {},
   "outputs": [],
   "source": [
    "from __future__ import absolute_import, division, print_function, unicode_literals\n",
    "# 최소한 런타임 에러를 발생시키지 않게 보장한다.\n",
    "\n",
    "# division = 나누기 연산자 변경\n",
    "# absolute_import = 임포트: 복수 줄 및 절대/상대\n",
    "# print_function = print를 함수로 만듬\n",
    "# unicode_literals = 파이썬 3000의 바이트열 리터럴\n",
    "\n",
    "# tensorflow-gpu==2.0.0-rc1이 없으면 pip를 이용하여 설치\n",
    "!pip install -q tensorflow-gpu==2.0.0-rc1\n",
    "import tensorflow as tf"
   ]
  },
  {
   "cell_type": "code",
   "execution_count": null,
   "metadata": {},
   "outputs": [],
   "source": [
    "mnist = tf.keras.datasets.mnist\n",
    "\n",
    "# mnist의 훈련, 테스트 데이터를 가져옴\n",
    "(x_train, y_train), (x_test, y_test) = mnist.load.data()\n",
    "\n",
    "# 훈련 데이터와 테스트 데이터를 정규화\n",
    "x_train, x_test = x_train / 255.0, x_test / 255.0"
   ]
  }
 ],
 "metadata": {
  "kernelspec": {
   "display_name": "Python 3",
   "language": "python",
   "name": "python3"
  },
  "language_info": {
   "codemirror_mode": {
    "name": "ipython",
    "version": 3
   },
   "file_extension": ".py",
   "mimetype": "text/x-python",
   "name": "python",
   "nbconvert_exporter": "python",
   "pygments_lexer": "ipython3",
   "version": "3.7.3"
  }
 },
 "nbformat": 4,
 "nbformat_minor": 2
}
