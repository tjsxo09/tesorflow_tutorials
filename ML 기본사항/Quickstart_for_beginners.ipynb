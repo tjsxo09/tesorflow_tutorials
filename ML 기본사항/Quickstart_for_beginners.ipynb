{
 "cells": [
  {
   "cell_type": "code",
   "execution_count": 1,
   "metadata": {},
   "outputs": [],
   "source": [
    "from __future__ import absolute_import, division, print_function, unicode_literals\n",
    "# 최소한 런타임 에러를 발생시키지 않게 보장한다.\n",
    "\n",
    "# division = 나누기 연산자 변경\n",
    "# absolute_import = 임포트: 복수 줄 및 절대/상대\n",
    "# print_function = print를 함수로 만듬\n",
    "# unicode_literals = 파이썬 3000의 바이트열 리터럴\n",
    "\n",
    "# tensorflow-gpu==2.0.0-rc1이 없으면 pip를 이용하여 설치\n",
    "!pip install -q tensorflow-gpu==2.0.0-rc1\n",
    "import tensorflow as tf"
   ]
  },
  {
   "cell_type": "code",
   "execution_count": 2,
   "metadata": {},
   "outputs": [],
   "source": [
    "mnist = tf.keras.datasets.mnist\n",
    "\n",
    "# mnist의 훈련, 테스트 데이터를 가져옴\n",
    "(x_train, y_train), (x_test, y_test) = mnist.load_data()\n",
    "\n",
    "# 훈련 데이터와 테스트 데이터를 정규화\n",
    "x_train, x_test = x_train / 255.0, x_test / 255.0"
   ]
  },
  {
   "cell_type": "code",
   "execution_count": 3,
   "metadata": {},
   "outputs": [],
   "source": [
    "# keras 층 설정\n",
    "model = tf.keras.models.Sequential([\n",
    "    tf.keras.layers.Flatten(input_shape=(28,28)), # 레이어를 1차원으로 펼침\n",
    "    tf.keras.layers.Dense(128, activation='relu'), # 출력을 128로하고 활성화 함수는 relu를 사용\n",
    "    tf.keras.layers.Dropout(0.2), # 드랍아웃을 20% 시킴\n",
    "    tf.keras.layers.Dense(10, activation='softmax') # 10개의 출력물에 대해서 소프트 맥스 사용\n",
    "])\n",
    "\n",
    "# 모델 컴파일\n",
    "model.compile(optimizer='adam',# 옵티마이저를 adam으로 설정\n",
    "             loss='sparse_categorical_crossentropy', # 소프트 맥스를 사용하였으므로 cross_entropy 사용\n",
    "             metrics=['accuracy']) # 정확도를 metrics에 저장"
   ]
  },
  {
   "cell_type": "code",
   "execution_count": 5,
   "metadata": {},
   "outputs": [
    {
     "name": "stdout",
     "output_type": "stream",
     "text": [
      "Train on 60000 samples\n",
      "Epoch 1/5\n",
      "60000/60000 [==============================] - 7s 123us/sample - loss: 0.0662 - accuracy: 0.9793\n",
      "Epoch 2/5\n",
      "60000/60000 [==============================] - 7s 116us/sample - loss: 0.0577 - accuracy: 0.9814\n",
      "Epoch 3/5\n",
      "60000/60000 [==============================] - 7s 112us/sample - loss: 0.0531 - accuracy: 0.9826\n",
      "Epoch 4/5\n",
      "60000/60000 [==============================] - 7s 110us/sample - loss: 0.0486 - accuracy: 0.9836\n",
      "Epoch 5/5\n",
      "60000/60000 [==============================] - 7s 114us/sample - loss: 0.0437 - accuracy: 0.9855\n",
      "10000/1 - 1s - loss: 0.0312 - accuracy: 0.9819\n",
      "loss : 0.062223\n",
      "acc : 0.981900\n"
     ]
    }
   ],
   "source": [
    "# 모델을 학습시킴\n",
    "# 입력 데이터 x_train\n",
    "# 입력 데이터의 라벨 y_train\n",
    "model.fit(x_train, y_train, epochs=5)\n",
    "\n",
    "# 모델을 평가함\n",
    "# vervose -> 1 아무것도 표시안함, 2 프로그레스 바 생성, 3 에포크당 한줄 생성\n",
    "# loss, metric value 반환\n",
    "eval_loss, eval_acc = model.evaluate(x_test, y_test, verbose=2)\n",
    "print(\"loss : %f\"%eval_loss)\n",
    "print(\"acc : %f\"%eval_acc)"
   ]
  },
  {
   "cell_type": "code",
   "execution_count": null,
   "metadata": {},
   "outputs": [],
   "source": []
  }
 ],
 "metadata": {
  "kernelspec": {
   "display_name": "Python 3",
   "language": "python",
   "name": "python3"
  },
  "language_info": {
   "codemirror_mode": {
    "name": "ipython",
    "version": 3
   },
   "file_extension": ".py",
   "mimetype": "text/x-python",
   "name": "python",
   "nbconvert_exporter": "python",
   "pygments_lexer": "ipython3",
   "version": "3.7.3"
  }
 },
 "nbformat": 4,
 "nbformat_minor": 2
}
