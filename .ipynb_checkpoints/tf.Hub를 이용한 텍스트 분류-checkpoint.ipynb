{
 "cells": [
  {
   "cell_type": "code",
   "execution_count": 1,
   "metadata": {},
   "outputs": [],
   "source": [
    "# 영화 리뷰 텍스트를 긍정 또는 부정으로 분류\n",
    "# 이진 클래스 분류 문제\n",
    "# 텐서플로 허브와 케라스를 사용한 기초 전이학습(transfer learning)"
   ]
  },
  {
   "cell_type": "code",
   "execution_count": 2,
   "metadata": {},
   "outputs": [],
   "source": [
    "from __future__ import absolute_import, division, print_function, unicode_literals\n",
    "\n",
    "import numpy as np\n",
    "\n",
    "#!pip install \"tensorflow_hub\"\n",
    "#!pip install \"tensorflwo_datasets\""
   ]
  },
  {
   "cell_type": "code",
   "execution_count": 3,
   "metadata": {},
   "outputs": [],
   "source": [
    "import tensorflow as tf"
   ]
  },
  {
   "cell_type": "code",
   "execution_count": 4,
   "metadata": {},
   "outputs": [
    {
     "name": "stdout",
     "output_type": "stream",
     "text": [
      "버전:  2.0.0\n",
      "즉시 실행 모드:  True\n",
      "허브 버전:  0.7.0\n",
      "GPU  사용 가능\n"
     ]
    }
   ],
   "source": [
    "import tensorflow_hub as hub\n",
    "import tensorflow_datasets as tfds\n",
    "\n",
    "print(\"버전: \", tf.__version__)\n",
    "print(\"즉시 실행 모드: \", tf.executing_eagerly())\n",
    "print(\"허브 버전: \", hub.__version__)\n",
    "print(\"GPU \", \"사용 가능\" if tf.compat.v1.config.experimental.list_physical_devices(\"GPU\") else \"사용 불가능\")"
   ]
  },
  {
   "cell_type": "code",
   "execution_count": 5,
   "metadata": {},
   "outputs": [],
   "source": [
    "# tfds의 데이터를 다시 나누어서 출력 할 수 있다.\n",
    "# 스플릿 공간 설정\n",
    "# 6:4로 나눈다.\n",
    "train_validation_split = tfds.Split.TRAIN.subsplit([6,4])\n",
    "\n",
    "# 데이터 다운로드 및 할당\n",
    "# train_data, validation_data는 6:4로 나누어진다.\n",
    "(train_data, validation_data), test_data = tfds.load(\n",
    "    name=\"imdb_reviews\", \n",
    "    split=(train_validation_split, tfds.Split.TEST),\n",
    "    as_supervised=True)"
   ]
  },
  {
   "cell_type": "code",
   "execution_count": 6,
   "metadata": {},
   "outputs": [
    {
     "name": "stdout",
     "output_type": "stream",
     "text": [
      "(NamedSplit('train')(tfds.percent[0:60]), NamedSplit('train')(tfds.percent[60:100]))\n"
     ]
    }
   ],
   "source": [
    "print(train_validation_split)"
   ]
  },
  {
   "cell_type": "code",
   "execution_count": 7,
   "metadata": {},
   "outputs": [
    {
     "name": "stdout",
     "output_type": "stream",
     "text": [
      "tf.Tensor(\n",
      "[b\"As a lifelong fan of Dickens, I have invariably been disappointed by adaptations of his novels.<br /><br />Although his works presented an extremely accurate re-telling of human life at every level in Victorian Britain, throughout them all was a pervasive thread of humour that could be both playful or sarcastic as the narrative dictated. In a way, he was a literary caricaturist and cartoonist. He could be serious and hilarious in the same sentence. He pricked pride, lampooned arrogance, celebrated modesty, and empathised with loneliness and poverty. It may be a clich\\xc3\\xa9, but he was a people's writer.<br /><br />And it is the comedy that is so often missing from his interpretations. At the time of writing, Oliver Twist is being dramatised in serial form on BBC television. All of the misery and cruelty is their, but non of the humour, irony, and savage lampoonery. The result is just a dark, dismal experience: the story penned by a journalist rather than a novelist. It's not really Dickens at all.<br /><br />'Oliver!', on the other hand, is much closer to the mark. The mockery of officialdom is perfectly interpreted, from the blustering beadle to the drunken magistrate. The classic stand-off between the beadle and Mr Brownlow, in which the law is described as 'a ass, a idiot' couldn't have been better done. Harry Secombe is an ideal choice.<br /><br />But the blinding cruelty is also there, the callous indifference of the state, the cold, hunger, poverty and loneliness are all presented just as surely as The Master would have wished.<br /><br />And then there is crime. Ron Moody is a treasure as the sleazy Jewish fence, whilst Oliver Reid has Bill Sykes to perfection.<br /><br />Perhaps not surprisingly, Lionel Bart - himself a Jew from London's east-end - takes a liberty with Fagin by re-interpreting him as a much more benign fellow than was Dicken's original. In the novel, he was utterly ruthless, sending some of his own boys to the gallows in order to protect himself (though he was also caught and hanged). Whereas in the movie, he is presented as something of a wayward father-figure, a sort of charitable thief rather than a corrupter of children, the latter being a long-standing anti-semitic sentiment. Otherwise, very few liberties are taken with Dickens's original. All of the most memorable elements are included. Just enough menace and violence is retained to ensure narrative fidelity whilst at the same time allowing for children' sensibilities. Nancy is still beaten to death, Bullseye narrowly escapes drowning, and Bill Sykes gets a faithfully graphic come-uppance.<br /><br />Every song is excellent, though they do incline towards schmaltz. Mark Lester mimes his wonderfully. Both his and my favourite scene is the one in which the world comes alive to 'who will buy'. It's schmaltzy, but it's Dickens through and through.<br /><br />I could go on. I could commend the wonderful set-pieces, the contrast of the rich and poor. There is top-quality acting from more British regulars than you could shake a stick at.<br /><br />I ought to give it 10 points, but I'm feeling more like Scrooge today. Soak it up with your Christmas dinner. No original has been better realised.\"\n",
      " b\"Oh yeah! Jenna Jameson did it again! Yeah Baby! This movie rocks. It was one of the 1st movies i saw of her. And i have to say i feel in love with her, she was great in this move.<br /><br />Her performance was outstanding and what i liked the most was the scenery and the wardrobe it was amazing you can tell that they put a lot into the movie the girls cloth were amazing.<br /><br />I hope this comment helps and u can buy the movie, the storyline is awesome is very unique and i'm sure u are going to like it. Jenna amazed us once more and no wonder the movie won so many awards. Her make-up and wardrobe is very very sexy and the girls on girls scene is amazing. specially the one where she looks like an angel. It's a must see and i hope u share my interests\"\n",
      " b\"I saw this film on True Movies (which automatically made me sceptical) but actually - it was good. Why? Not because of the amazing plot twists or breathtaking dialogue (of which there is little) but because actually, despite what people say I thought the film was accurate in it's depiction of teenagers dealing with pregnancy.<br /><br />It's NOT Dawson's Creek, they're not graceful, cool witty characters who breeze through sexuality with effortless knowledge. They're kids and they act like kids would. <br /><br />They're blunt, awkward and annoyingly confused about everything. Yes, this could be by accident and they could just be bad actors but I don't think so. Dermot Mulroney gives (when not trying to be cool) a very believable performance and I loved him for it. Patricia Arquette IS whiny and annoying, but she was pregnant and a teenagers? The combination of the two isn't exactly lavender on your pillow. The plot was VERY predictable and but so what? I believed them, his stress and inability to cope - her brave, yet slightly misguided attempts to bring them closer together. I think the characters, acted by anyone else, WOULD indeed have been annoying and unbelievable but they weren't. It reflects the surreality of the situation they're in, that he's sitting in class and she walks on campus with the baby. I felt angry at her for that, I felt angry at him for being such a child and for blaming her. I felt it all.<br /><br />In the end, I loved it and would recommend it.<br /><br />Watch out for the scene where Dermot Mulroney runs from the disastrous counselling session - career performance.\"\n",
      " b'This was a wonderfully clever and entertaining movie that I shall never tire of watching many, many times. The casting was magnificent in matching up the young with the older characters. There are those of us out here who really do appreciate good actors and an intelligent story format. As for Judi Dench, she is beautiful and a gift to any kind of production in which she stars. I always make a point to see Judi Dench in all her performances. She is a superb actress and a pleasure to watch as each transformation of her character comes to life. I can only be grateful when I see such an outstanding picture for most of the motion pictures made more recently lack good characters, good scripts and good acting. The movie public needs heroes, not deviant manikins, who lack ingenuity and talent. How wonderful to see old favorites like Leslie Caron, Olympia Dukakis and Cleo Laine. I would like to see this movie win the awards it deserves. Thank you again for a tremendous night of entertainment. I congratulate the writer, director, producer, and all those who did such a fine job.'\n",
      " b'I have no idea what the other reviewer is talking about- this was a wonderful movie, and created a sense of the era that feels like time travel. The characters are truly young, Mary is a strong match for Byron, Claire is juvenile and a tad annoying, Polidori is a convincing beaten-down sycophant... all are beautiful, curious, and decadent... not the frightening wrecks they are in Gothic.<br /><br />Gothic works as an independent piece of shock film, and I loved it for different reasons, but this works like a Merchant and Ivory film, and was from my readings the best capture of what the summer must have felt like. Romantic, yes, but completely rekindles my interest in the lives of Shelley and Byron every time I think about the film. One of my all-time favorites.'\n",
      " b\"This was soul-provoking! I am an Iranian, and living in th 21st century, I didn't know that such big tribes have been living in such conditions at the time of my grandfather!<br /><br />You see that today, or even in 1925, on one side of the world a lady or a baby could have everything served for him or her clean and on-demand, but here 80 years ago, people ventured their life to go to somewhere with more grass. It's really interesting that these Persians bear those difficulties to find pasture for their sheep, but they lose many the sheep on their way.<br /><br />I praise the Americans who accompanied this tribe, they were as tough as Bakhtiari people.\"\n",
      " b'Just because someone is under the age of 10 does not mean they are stupid. If your child likes this film you\\'d better have him/her tested. I am continually amazed at how so many people can be involved in something that turns out so bad. This \"film\" is a showcase for digital wizardry AND NOTHING ELSE. The writing is horrid. I can\\'t remember when I\\'ve heard such bad dialogue. The songs are beyond wretched. The acting is sub-par but then the actors were not given much. Who decided to employ Joey Fatone? He cannot sing and he is ugly as sin.<br /><br />The worst thing is the obviousness of it all. It is as if the writers went out of their way to make it all as stupid as possible. Great children\\'s movies are wicked, smart and full of wit - films like Shrek and Toy Story in recent years, Willie Wonka and The Witches to mention two of the past. But in the continual dumbing-down of American more are flocking to dreck like Finding Nemo (yes, that\\'s right), the recent Charlie & The Chocolate Factory and eye-crossing trash like Red Riding Hood.'\n",
      " b\"I absolutely LOVED this movie when I was a kid. I cried every time I watched it. It wasn't weird to me. I totally identified with the characters. I would love to see it again (and hope I wont be disappointed!). Pufnstuf rocks!!!! I was really drawn in to the fantasy world. And to me the movie was loooong. I wonder if I ever saw the series and have confused them? The acting I thought was strong. I loved Jack Wilde. He was so dreamy to an 10 year old (when I first saw the movie, not in 1970. I can still remember the characters vividly. The flute was totally believable and I can still 'feel' the evil woods. Witchy poo was scary - I wouldn't want to cross her path.\"\n",
      " b'A very close and sharp discription of the bubbling and dynamic emotional world of specialy one 18year old guy, that makes his first experiences in his gay love to an other boy, during an vacation with a part of his family.<br /><br />I liked this film because of his extremly clear and surrogated storytelling , with all this \"Sound-close-ups\" and quiet moments wich had been full of intensive moods.<br /><br />'\n",
      " b\"This is the most depressing film I have ever seen. I first saw it as a child and even thinking about it now really upsets me. I know it was set in a time when life was hard and I know these people were poor and the crops were vital. Yes, I get all that. What I find hard to take is I can't remember one single light moment in the entire film. Maybe it was true to life, I don't know. I'm quite sure the acting was top notch and the direction and quality of filming etc etc was wonderful and I know that every film can't have a happy ending but as a family film it is dire in my opinion.<br /><br />I wouldn't recommend it to anyone who wants to be entertained by a film. I can't stress enough how this film affected me as a child. I was talking about it recently and all the sad memories came flooding back. I think it would have all but the heartless reaching for the Prozac.\"], shape=(10,), dtype=string)\n"
     ]
    }
   ],
   "source": [
    "# batch 설정 - 10개 씩 batch\n",
    "train_examples_batch, train_labels_batch = next(iter(train_data.batch(10)))\n",
    "\n",
    "# 학습 데이터는 영화 리뷰들\n",
    "# 라벨링 데이터는 리뷰에 대한 긍정, 부정 값 - 0 => 부정, 1 => 긍정\n",
    "print(train_examples_batch)"
   ]
  },
  {
   "cell_type": "code",
   "execution_count": 8,
   "metadata": {},
   "outputs": [
    {
     "name": "stdout",
     "output_type": "stream",
     "text": [
      "tf.Tensor([1 1 1 1 1 1 0 1 1 0], shape=(10,), dtype=int64)\n"
     ]
    }
   ],
   "source": [
    "print(train_labels_batch)"
   ]
  },
  {
   "cell_type": "code",
   "execution_count": 9,
   "metadata": {},
   "outputs": [],
   "source": [
    "# 층 설정\n",
    "# 신경망 구조 결정에 고려 할 사항\n",
    "# 1. 텍스트의 표현 --> 임베딩 벡터로 바꾸는 것(pretraining된 텍스트 임베딩 사용)\n",
    "# 장점\n",
    "#     1. 텍스트 전처리에 신경 쓸 필요 없음\n",
    "#     2. 전이 학습의 장점인 빠른 학습 가능\n",
    "#     3. 임베딩이 고정 크기이기 때문에 처리 과정 단순화\n",
    "\n",
    "# 2. 모델의 층 개수\n",
    "# 3. 은닉 층의 개수\n",
    "\n",
    "# 임베딩 모델로 텐서플로 허브에 있는 모델을 사용\n",
    "# 사용 가능 임베딩 모델\n",
    "# embedding = \"https://tfhub.dev/google/tf2-preview/gnews-swivel-20dim/1\"( 여기서 사용할 모델)\n",
    "# google/tf2-preview/gnews-swivel-20dim-with-oov/1 - google/tf2-preview/gnews-swivel-20dim/1\n",
    "# google/tf2-preview/nnlm-en-dim50/1\n",
    "# google/tf2-preview/nnlm-en-dim128/1"
   ]
  },
  {
   "cell_type": "code",
   "execution_count": 10,
   "metadata": {},
   "outputs": [
    {
     "data": {
      "text/plain": [
       "<tf.Tensor: id=402, shape=(3, 20), dtype=float32, numpy=\n",
       "array([[ 3.9819887 , -4.4838037 ,  5.177359  , -2.3643482 , -3.2938678 ,\n",
       "        -3.5364532 , -2.4786978 ,  2.5525482 ,  6.688532  , -2.3076782 ,\n",
       "        -1.9807833 ,  1.1315885 , -3.0339816 , -0.7604128 , -5.743445  ,\n",
       "         3.4242578 ,  4.790099  , -4.03061   , -5.992149  , -1.7297493 ],\n",
       "       [ 3.4232912 , -4.230874  ,  4.1488533 , -0.29553518, -6.802391  ,\n",
       "        -2.5163853 , -4.4002395 ,  1.905792  ,  4.7512794 , -0.40538004,\n",
       "        -4.3401685 ,  1.0361497 ,  0.9744097 ,  0.71507156, -6.2657013 ,\n",
       "         0.16533905,  4.560262  , -1.3106939 , -3.1121316 , -2.1338716 ],\n",
       "       [ 3.8508697 , -5.003031  ,  4.8700504 , -0.04324996, -5.893603  ,\n",
       "        -5.2983093 , -4.004676  ,  4.1236343 ,  6.267754  ,  0.11632943,\n",
       "        -3.5934832 ,  0.8023905 ,  0.56146765,  0.9192484 , -7.3066816 ,\n",
       "         2.8202746 ,  6.2000837 , -3.5709393 , -4.564525  , -2.305622  ]],\n",
       "      dtype=float32)>"
      ]
     },
     "execution_count": 10,
     "metadata": {},
     "output_type": "execute_result"
    }
   ],
   "source": [
    "# 임베딩 데이터 주소 \n",
    "embedding = \"https://tfhub.dev/google/tf2-preview/gnews-swivel-20dim/1\"\n",
    "\n",
    "# hub를 사용한 레이어 설정\n",
    "# 정해지지 않은 크기의 string 데이터를 입력받아 크기가 20인 임베딩 데이터로 바꿈\n",
    "hub_layer = hub.KerasLayer(embedding, input_shape=[],\n",
    "                          dtype=tf.string, trainable=True)\n",
    "hub_layer(train_examples_batch[:3])"
   ]
  },
  {
   "cell_type": "code",
   "execution_count": 11,
   "metadata": {},
   "outputs": [
    {
     "name": "stdout",
     "output_type": "stream",
     "text": [
      "Model: \"sequential\"\n",
      "_________________________________________________________________\n",
      "Layer (type)                 Output Shape              Param #   \n",
      "=================================================================\n",
      "keras_layer (KerasLayer)     (None, 20)                400020    \n",
      "_________________________________________________________________\n",
      "dense (Dense)                (None, 16)                336       \n",
      "_________________________________________________________________\n",
      "dense_1 (Dense)              (None, 1)                 17        \n",
      "=================================================================\n",
      "Total params: 400,373\n",
      "Trainable params: 400,373\n",
      "Non-trainable params: 0\n",
      "_________________________________________________________________\n"
     ]
    }
   ],
   "source": [
    "# 전체 모델 생성\n",
    "model = tf.keras.Sequential()\n",
    "model.add(hub_layer) # 텍스트를 임베딩 데이터로 만들어주는 layer\n",
    "model.add(tf.keras.layers.Dense(16, activation='relu')) # 1개의 은닉층\n",
    "model.add(tf.keras.layers.Dense(1, activation='sigmoid')) # 출력은 0,1이므로 1개이다.\n",
    "\n",
    "model.summary()"
   ]
  },
  {
   "cell_type": "code",
   "execution_count": 12,
   "metadata": {},
   "outputs": [],
   "source": [
    "# 손실 함수 및 옵티마이저\n",
    "# 손실 함수는 0,1을 구하는 문제이므로 binary_crossentropy를 사용한다.\n",
    "\n",
    "model.compile(optimizer='adam',\n",
    "             loss='binary_crossentropy',\n",
    "             metrics=['accuracy'])"
   ]
  },
  {
   "cell_type": "code",
   "execution_count": 13,
   "metadata": {},
   "outputs": [
    {
     "name": "stdout",
     "output_type": "stream",
     "text": [
      "Epoch 1/20\n",
      "30/30 [==============================] - 6s 212ms/step - loss: 0.7093 - accuracy: 0.5869 - val_loss: 0.0000e+00 - val_accuracy: 0.0000e+00\n",
      "Epoch 2/20\n",
      "30/30 [==============================] - 5s 156ms/step - loss: 0.6375 - accuracy: 0.6525 - val_loss: 0.6016 - val_accuracy: 0.6775\n",
      "Epoch 3/20\n",
      "30/30 [==============================] - 5s 155ms/step - loss: 0.5766 - accuracy: 0.7095 - val_loss: 0.5548 - val_accuracy: 0.7270\n",
      "Epoch 4/20\n",
      "30/30 [==============================] - 4s 149ms/step - loss: 0.5301 - accuracy: 0.7492 - val_loss: 0.5194 - val_accuracy: 0.7555\n",
      "Epoch 5/20\n",
      "30/30 [==============================] - 5s 153ms/step - loss: 0.4936 - accuracy: 0.7769 - val_loss: 0.4890 - val_accuracy: 0.7777\n",
      "Epoch 6/20\n",
      "30/30 [==============================] - 4s 148ms/step - loss: 0.4580 - accuracy: 0.8007 - val_loss: 0.4617 - val_accuracy: 0.7921\n",
      "Epoch 7/20\n",
      "30/30 [==============================] - 5s 157ms/step - loss: 0.4255 - accuracy: 0.8209 - val_loss: 0.4361 - val_accuracy: 0.8080\n",
      "Epoch 8/20\n",
      "30/30 [==============================] - 4s 148ms/step - loss: 0.3955 - accuracy: 0.8378 - val_loss: 0.4134 - val_accuracy: 0.8206\n",
      "Epoch 9/20\n",
      "30/30 [==============================] - 5s 158ms/step - loss: 0.3697 - accuracy: 0.8537 - val_loss: 0.3927 - val_accuracy: 0.8339\n",
      "Epoch 10/20\n",
      "30/30 [==============================] - 5s 152ms/step - loss: 0.3436 - accuracy: 0.8659 - val_loss: 0.3752 - val_accuracy: 0.8413\n",
      "Epoch 11/20\n",
      "30/30 [==============================] - 5s 154ms/step - loss: 0.3164 - accuracy: 0.8749 - val_loss: 0.3592 - val_accuracy: 0.8468\n",
      "Epoch 12/20\n",
      "30/30 [==============================] - 5s 153ms/step - loss: 0.2995 - accuracy: 0.8862 - val_loss: 0.3466 - val_accuracy: 0.8545\n",
      "Epoch 13/20\n",
      "30/30 [==============================] - 5s 153ms/step - loss: 0.2771 - accuracy: 0.8936 - val_loss: 0.3348 - val_accuracy: 0.8602\n",
      "Epoch 14/20\n",
      "30/30 [==============================] - 5s 157ms/step - loss: 0.2586 - accuracy: 0.9029 - val_loss: 0.3256 - val_accuracy: 0.8624\n",
      "Epoch 15/20\n",
      "30/30 [==============================] - 5s 155ms/step - loss: 0.2415 - accuracy: 0.9097 - val_loss: 0.3187 - val_accuracy: 0.8648\n",
      "Epoch 16/20\n",
      "30/30 [==============================] - 5s 153ms/step - loss: 0.2264 - accuracy: 0.9171 - val_loss: 0.3118 - val_accuracy: 0.8682\n",
      "Epoch 17/20\n",
      "30/30 [==============================] - 5s 162ms/step - loss: 0.2109 - accuracy: 0.9243 - val_loss: 0.3064 - val_accuracy: 0.8717\n",
      "Epoch 18/20\n",
      "30/30 [==============================] - 5s 154ms/step - loss: 0.1963 - accuracy: 0.9306 - val_loss: 0.3034 - val_accuracy: 0.8703\n",
      "Epoch 19/20\n",
      "30/30 [==============================] - 5s 159ms/step - loss: 0.1847 - accuracy: 0.9352 - val_loss: 0.3002 - val_accuracy: 0.8720\n",
      "Epoch 20/20\n",
      "30/30 [==============================] - 5s 157ms/step - loss: 0.1724 - accuracy: 0.9411 - val_loss: 0.2992 - val_accuracy: 0.8722\n"
     ]
    }
   ],
   "source": [
    "# 모델 훈련\n",
    "# 512개의 데이터로 이루어진 미니 배치를 훈련셋 10000개를 무작위로 섞은뒤 뽑는다.\n",
    "history = model.fit(train_data.shuffle(10000).batch(512),\n",
    "                   epochs=20,\n",
    "                   validation_data=validation_data.batch(512),\n",
    "                   verbose=1)"
   ]
  },
  {
   "cell_type": "code",
   "execution_count": 14,
   "metadata": {},
   "outputs": [
    {
     "name": "stdout",
     "output_type": "stream",
     "text": [
      "49/49 - 4s - loss: 0.3226 - accuracy: 0.8632\n",
      "loss: 0.323\n",
      "accuracy: 0.863\n"
     ]
    }
   ],
   "source": [
    "# 모델의 평가 \n",
    "# 테스트 데이터를 가지고 학습된 모델을 평가함\n",
    "results = model.evaluate(test_data.batch(512), verbose=2)\n",
    "for name, value in zip(model.metrics_names, results):\n",
    "    print(\"%s: %.3f\"%(name, value))"
   ]
  },
  {
   "cell_type": "code",
   "execution_count": null,
   "metadata": {},
   "outputs": [],
   "source": []
  }
 ],
 "metadata": {
  "kernelspec": {
   "display_name": "tutorial",
   "language": "python",
   "name": "tutorial"
  },
  "language_info": {
   "codemirror_mode": {
    "name": "ipython",
    "version": 3
   },
   "file_extension": ".py",
   "mimetype": "text/x-python",
   "name": "python",
   "nbconvert_exporter": "python",
   "pygments_lexer": "ipython3",
   "version": "3.7.5"
  }
 },
 "nbformat": 4,
 "nbformat_minor": 2
}
