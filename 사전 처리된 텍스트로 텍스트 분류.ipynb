{
 "cells": [
  {
   "cell_type": "code",
   "execution_count": 1,
   "metadata": {},
   "outputs": [],
   "source": [
    "# 영화 리뷰 텍스트 분류기\n",
    "# 긍정인지 부정인지 분류\n",
    "# IMDB 데이터셋 사용 -> 25,000 훈련 25,000 테스트"
   ]
  },
  {
   "cell_type": "code",
   "execution_count": 2,
   "metadata": {},
   "outputs": [],
   "source": [
    "from __future__ import absolute_import, division, print_function, unicode_literals"
   ]
  },
  {
   "cell_type": "code",
   "execution_count": 3,
   "metadata": {},
   "outputs": [],
   "source": [
    "import tensorflow as tf\n",
    "from tensorflow import keras"
   ]
  },
  {
   "cell_type": "code",
   "execution_count": 4,
   "metadata": {},
   "outputs": [
    {
     "name": "stdout",
     "output_type": "stream",
     "text": [
      "2.0.0\n"
     ]
    }
   ],
   "source": [
    "import numpy as np\n",
    "\n",
    "print(tf.__version__)"
   ]
  },
  {
   "cell_type": "code",
   "execution_count": 5,
   "metadata": {},
   "outputs": [],
   "source": [
    "# IMDB 데이터셋 다운로드\n",
    "# 각 단어는 전치리 되어 정수로 변환 되어 있다.\n",
    "# 각 정수는 단어 사전의 특정 단어\n",
    "\n",
    "# 가장 많이 사용되는 상위 10,000개의 단어를 선택하여 다운\n",
    "imdb = keras.datasets.imdb\n",
    "\n",
    "(train_data, train_labels), (test_data, test_labels) = imdb.load_data(num_words=10000)"
   ]
  },
  {
   "cell_type": "code",
   "execution_count": 6,
   "metadata": {},
   "outputs": [
    {
     "name": "stdout",
     "output_type": "stream",
     "text": [
      "훈련 샘플: 25000, 레이블: 25000\n"
     ]
    }
   ],
   "source": [
    "# 데이터 형태 알아보기\n",
    "# 데이터--> 문장, 라벨 --> 0(부정), 1(긍정) \n",
    "print(\"훈련 샘플: {}, 레이블: {}\".format(len(train_data), len(train_labels)))"
   ]
  },
  {
   "cell_type": "code",
   "execution_count": 7,
   "metadata": {},
   "outputs": [
    {
     "name": "stdout",
     "output_type": "stream",
     "text": [
      "[1, 14, 22, 16, 43, 530, 973, 1622, 1385, 65, 458, 4468, 66, 3941, 4, 173, 36, 256, 5, 25, 100, 43, 838, 112, 50, 670, 2, 9, 35, 480, 284, 5, 150, 4, 172, 112, 167, 2, 336, 385, 39, 4, 172, 4536, 1111, 17, 546, 38, 13, 447, 4, 192, 50, 16, 6, 147, 2025, 19, 14, 22, 4, 1920, 4613, 469, 4, 22, 71, 87, 12, 16, 43, 530, 38, 76, 15, 13, 1247, 4, 22, 17, 515, 17, 12, 16, 626, 18, 2, 5, 62, 386, 12, 8, 316, 8, 106, 5, 4, 2223, 5244, 16, 480, 66, 3785, 33, 4, 130, 12, 16, 38, 619, 5, 25, 124, 51, 36, 135, 48, 25, 1415, 33, 6, 22, 12, 215, 28, 77, 52, 5, 14, 407, 16, 82, 2, 8, 4, 107, 117, 5952, 15, 256, 4, 2, 7, 3766, 5, 723, 36, 71, 43, 530, 476, 26, 400, 317, 46, 7, 4, 2, 1029, 13, 104, 88, 4, 381, 15, 297, 98, 32, 2071, 56, 26, 141, 6, 194, 7486, 18, 4, 226, 22, 21, 134, 476, 26, 480, 5, 144, 30, 5535, 18, 51, 36, 28, 224, 92, 25, 104, 4, 226, 65, 16, 38, 1334, 88, 12, 16, 283, 5, 16, 4472, 113, 103, 32, 15, 16, 5345, 19, 178, 32]\n"
     ]
    }
   ],
   "source": [
    "print(train_data[0])"
   ]
  },
  {
   "cell_type": "code",
   "execution_count": 8,
   "metadata": {},
   "outputs": [
    {
     "data": {
      "text/plain": [
       "(218, 189)"
      ]
     },
     "execution_count": 8,
     "metadata": {},
     "output_type": "execute_result"
    }
   ],
   "source": [
    "# 영화 리뷰들의 글자 길이 --> 다르다\n",
    "len(train_data[0]), len(train_data[1])"
   ]
  },
  {
   "cell_type": "code",
   "execution_count": 9,
   "metadata": {},
   "outputs": [],
   "source": [
    "# 정수를 단어로 변환\n",
    "# 정수와 문자열을 매핑한 딕셔너리 객체에 질의하는 헬퍼 함수 생성\n",
    "word_index = imdb.get_word_index()\n",
    "\n",
    "# 처음 몇 개 인덱스는 사전에 정의되어 있음\n",
    "# 앞에 3개를 정의하기 때문에 사전에 번호는 3번부터 시작하게 생성\n",
    "word_index = {k:(v+3) for k,v in word_index.items()}\n",
    "word_index[\"<PAD>\"] = 0\n",
    "word_index[\"<START>\"] = 1\n",
    "word_index[\"<UNK>\"] = 2  # unknown\n",
    "word_index[\"<UNUSED>\"] = 3"
   ]
  },
  {
   "cell_type": "code",
   "execution_count": 10,
   "metadata": {},
   "outputs": [],
   "source": [
    "# 값과 키를 역전시킴\n",
    "reverse_word_index = dict([(value, key) for (key, value) in word_index.items()])"
   ]
  },
  {
   "cell_type": "code",
   "execution_count": 11,
   "metadata": {},
   "outputs": [],
   "source": [
    "def decode_review(text):\n",
    "    return ' '.join([reverse_word_index.get(i, '?') for i in text])"
   ]
  },
  {
   "cell_type": "code",
   "execution_count": 12,
   "metadata": {},
   "outputs": [
    {
     "data": {
      "text/plain": [
       "\"<START> this film was just brilliant casting location scenery story direction everyone's really suited the part they played and you could just imagine being there robert <UNK> is an amazing actor and now the same being director <UNK> father came from the same scottish island as myself so i loved the fact there was a real connection with this film the witty remarks throughout the film were great it was just brilliant so much that i bought the film as soon as it was released for <UNK> and would recommend it to everyone to watch and the fly fishing was amazing really cried at the end it was so sad and you know what they say if you cry at a film it must have been good and this definitely was also <UNK> to the two little boy's that played the <UNK> of norman and paul they were just brilliant children are often left out of the <UNK> list i think because the stars that play them all grown up are such a big profile for the whole film but these children are amazing and should be praised for what they have done don't you think the whole story was so lovely because it was true and was someone's life after all that was shared with us all\""
      ]
     },
     "execution_count": 12,
     "metadata": {},
     "output_type": "execute_result"
    }
   ],
   "source": [
    "decode_review(train_data[0])"
   ]
  },
  {
   "cell_type": "code",
   "execution_count": 13,
   "metadata": {},
   "outputs": [],
   "source": [
    "# 데이터 준비\n",
    "# 데이터의 길이를 256으로 모두 같게 패딩을 넣어준다.\n",
    "train_data = keras.preprocessing.sequence.pad_sequences(train_data,\n",
    "                                                        value=word_index[\"<PAD>\"],\n",
    "                                                        padding='post',\n",
    "                                                        maxlen=256)\n",
    "\n",
    "test_data = keras.preprocessing.sequence.pad_sequences(test_data,\n",
    "                                                       value=word_index[\"<PAD>\"],\n",
    "                                                       padding='post',\n",
    "                                                       maxlen=256)"
   ]
  },
  {
   "cell_type": "code",
   "execution_count": 14,
   "metadata": {},
   "outputs": [
    {
     "data": {
      "text/plain": [
       "(256, 256)"
      ]
     },
     "execution_count": 14,
     "metadata": {},
     "output_type": "execute_result"
    }
   ],
   "source": [
    "len(train_data[0]), len(train_data[1]) # 모든 문장이 같은 문장이 되었다."
   ]
  },
  {
   "cell_type": "code",
   "execution_count": 15,
   "metadata": {},
   "outputs": [
    {
     "name": "stdout",
     "output_type": "stream",
     "text": [
      "[   1   14   22   16   43  530  973 1622 1385   65  458 4468   66 3941\n",
      "    4  173   36  256    5   25  100   43  838  112   50  670    2    9\n",
      "   35  480  284    5  150    4  172  112  167    2  336  385   39    4\n",
      "  172 4536 1111   17  546   38   13  447    4  192   50   16    6  147\n",
      " 2025   19   14   22    4 1920 4613  469    4   22   71   87   12   16\n",
      "   43  530   38   76   15   13 1247    4   22   17  515   17   12   16\n",
      "  626   18    2    5   62  386   12    8  316    8  106    5    4 2223\n",
      " 5244   16  480   66 3785   33    4  130   12   16   38  619    5   25\n",
      "  124   51   36  135   48   25 1415   33    6   22   12  215   28   77\n",
      "   52    5   14  407   16   82    2    8    4  107  117 5952   15  256\n",
      "    4    2    7 3766    5  723   36   71   43  530  476   26  400  317\n",
      "   46    7    4    2 1029   13  104   88    4  381   15  297   98   32\n",
      " 2071   56   26  141    6  194 7486   18    4  226   22   21  134  476\n",
      "   26  480    5  144   30 5535   18   51   36   28  224   92   25  104\n",
      "    4  226   65   16   38 1334   88   12   16  283    5   16 4472  113\n",
      "  103   32   15   16 5345   19  178   32    0    0    0    0    0    0\n",
      "    0    0    0    0    0    0    0    0    0    0    0    0    0    0\n",
      "    0    0    0    0    0    0    0    0    0    0    0    0    0    0\n",
      "    0    0    0    0]\n"
     ]
    }
   ],
   "source": [
    "print(train_data[0]) # 원래 없던 부분에는 0으로 채워준다."
   ]
  },
  {
   "cell_type": "code",
   "execution_count": 16,
   "metadata": {},
   "outputs": [],
   "source": [
    "# 모델 구성\n",
    "# 입력 크기는 영화 리뷰 데이터셋에 적용된 어휘 사전 크기\n",
    "vocab_size = 10000"
   ]
  },
  {
   "cell_type": "code",
   "execution_count": 17,
   "metadata": {},
   "outputs": [],
   "source": [
    "model = keras.Sequential()\n",
    "# 모델의 첫 층은 문장을 16개로 임베딩해준다.\n",
    "model.add(keras.layers.Embedding(vocab_size, 16, input_shape=(None,)))\n",
    "model.add(keras.layers.GlobalAveragePooling1D()) # 256개의 단어의 평균을 구해줌\n",
    "model.add(keras.layers.Dense(16, activation='relu'))\n",
    "model.add(keras.layers.Dense(1, activation='sigmoid')) # 0~1사이의 값을 출력하게 만든다"
   ]
  },
  {
   "cell_type": "code",
   "execution_count": 18,
   "metadata": {},
   "outputs": [
    {
     "name": "stdout",
     "output_type": "stream",
     "text": [
      "Model: \"sequential\"\n",
      "_________________________________________________________________\n",
      "Layer (type)                 Output Shape              Param #   \n",
      "=================================================================\n",
      "embedding (Embedding)        (None, None, 16)          160000    \n",
      "_________________________________________________________________\n",
      "global_average_pooling1d (Gl (None, 16)                0         \n",
      "_________________________________________________________________\n",
      "dense (Dense)                (None, 16)                272       \n",
      "_________________________________________________________________\n",
      "dense_1 (Dense)              (None, 1)                 17        \n",
      "=================================================================\n",
      "Total params: 160,289\n",
      "Trainable params: 160,289\n",
      "Non-trainable params: 0\n",
      "_________________________________________________________________\n"
     ]
    }
   ],
   "source": [
    "model.summary()"
   ]
  },
  {
   "cell_type": "code",
   "execution_count": 19,
   "metadata": {},
   "outputs": [],
   "source": [
    "# 손실 함수, 옵티마이저 설정\n",
    "model.compile(optimizer='adam',\n",
    "              loss='binary_crossentropy',\n",
    "              metrics=['accuracy'])"
   ]
  },
  {
   "cell_type": "code",
   "execution_count": 20,
   "metadata": {},
   "outputs": [],
   "source": [
    "# 검증 셋 생성\n",
    "# 검증 셋은 10000개로 설정\n",
    "x_val = train_data[:10000]\n",
    "partial_x_train = train_data[10000:]\n",
    "\n",
    "y_val = train_labels[:10000]\n",
    "partial_y_train = train_labels[10000:]"
   ]
  },
  {
   "cell_type": "code",
   "execution_count": 21,
   "metadata": {},
   "outputs": [
    {
     "name": "stdout",
     "output_type": "stream",
     "text": [
      "Train on 15000 samples, validate on 10000 samples\n",
      "Epoch 1/40\n",
      "15000/15000 [==============================] - 3s 180us/sample - loss: 0.6928 - accuracy: 0.5588 - val_loss: 1.0038 - val_accuracy: 0.6529\n",
      "Epoch 2/40\n",
      "15000/15000 [==============================] - 1s 65us/sample - loss: 0.6917 - accuracy: 0.6525 - val_loss: 1.0023 - val_accuracy: 0.6307\n",
      "Epoch 3/40\n",
      "15000/15000 [==============================] - 1s 70us/sample - loss: 0.6903 - accuracy: 0.6646 - val_loss: 1.0002 - val_accuracy: 0.6934\n",
      "Epoch 4/40\n",
      "15000/15000 [==============================] - 1s 70us/sample - loss: 0.6885 - accuracy: 0.7221 - val_loss: 0.9975 - val_accuracy: 0.7120\n",
      "Epoch 5/40\n",
      "15000/15000 [==============================] - 1s 66us/sample - loss: 0.6858 - accuracy: 0.7379 - val_loss: 0.9924 - val_accuracy: 0.7230\n",
      "Epoch 6/40\n",
      "15000/15000 [==============================] - 1s 68us/sample - loss: 0.6819 - accuracy: 0.7443 - val_loss: 0.9872 - val_accuracy: 0.7353\n",
      "Epoch 7/40\n",
      "15000/15000 [==============================] - 1s 69us/sample - loss: 0.6773 - accuracy: 0.7575 - val_loss: 0.9805 - val_accuracy: 0.7430\n",
      "Epoch 8/40\n",
      "15000/15000 [==============================] - 1s 70us/sample - loss: 0.6718 - accuracy: 0.7661 - val_loss: 0.9726 - val_accuracy: 0.7526\n",
      "Epoch 9/40\n",
      "15000/15000 [==============================] - 1s 70us/sample - loss: 0.6652 - accuracy: 0.7674 - val_loss: 0.9632 - val_accuracy: 0.7537\n",
      "Epoch 10/40\n",
      "15000/15000 [==============================] - 1s 72us/sample - loss: 0.6575 - accuracy: 0.7753 - val_loss: 0.9523 - val_accuracy: 0.7585\n",
      "Epoch 11/40\n",
      "15000/15000 [==============================] - 1s 72us/sample - loss: 0.6486 - accuracy: 0.7777 - val_loss: 0.9398 - val_accuracy: 0.7626\n",
      "Epoch 12/40\n",
      "15000/15000 [==============================] - 1s 80us/sample - loss: 0.6386 - accuracy: 0.7857 - val_loss: 0.9260 - val_accuracy: 0.7712\n",
      "Epoch 13/40\n",
      "15000/15000 [==============================] - 1s 73us/sample - loss: 0.6271 - accuracy: 0.7923 - val_loss: 0.9102 - val_accuracy: 0.7711\n",
      "Epoch 14/40\n",
      "15000/15000 [==============================] - 1s 77us/sample - loss: 0.6147 - accuracy: 0.7968 - val_loss: 0.8935 - val_accuracy: 0.7817\n",
      "Epoch 15/40\n",
      "15000/15000 [==============================] - 1s 87us/sample - loss: 0.6012 - accuracy: 0.8049 - val_loss: 0.8752 - val_accuracy: 0.7844\n",
      "Epoch 16/40\n",
      "15000/15000 [==============================] - 1s 79us/sample - loss: 0.5868 - accuracy: 0.8079 - val_loss: 0.8563 - val_accuracy: 0.7917\n",
      "Epoch 17/40\n",
      "15000/15000 [==============================] - 1s 72us/sample - loss: 0.5717 - accuracy: 0.8164 - val_loss: 0.8361 - val_accuracy: 0.7966\n",
      "Epoch 18/40\n",
      "15000/15000 [==============================] - 1s 76us/sample - loss: 0.5559 - accuracy: 0.8214 - val_loss: 0.8155 - val_accuracy: 0.8007\n",
      "Epoch 19/40\n",
      "15000/15000 [==============================] - 1s 68us/sample - loss: 0.5399 - accuracy: 0.8284 - val_loss: 0.7947 - val_accuracy: 0.8089\n",
      "Epoch 20/40\n",
      "15000/15000 [==============================] - 1s 68us/sample - loss: 0.5235 - accuracy: 0.8339 - val_loss: 0.7734 - val_accuracy: 0.8121\n",
      "Epoch 21/40\n",
      "15000/15000 [==============================] - 1s 67us/sample - loss: 0.5071 - accuracy: 0.8400 - val_loss: 0.7529 - val_accuracy: 0.8177\n",
      "Epoch 22/40\n",
      "15000/15000 [==============================] - 1s 66us/sample - loss: 0.4909 - accuracy: 0.8455 - val_loss: 0.7319 - val_accuracy: 0.8225\n",
      "Epoch 23/40\n",
      "15000/15000 [==============================] - 1s 69us/sample - loss: 0.4749 - accuracy: 0.8519 - val_loss: 0.7123 - val_accuracy: 0.8267\n",
      "Epoch 24/40\n",
      "15000/15000 [==============================] - 1s 68us/sample - loss: 0.4595 - accuracy: 0.8549 - val_loss: 0.6926 - val_accuracy: 0.8308\n",
      "Epoch 25/40\n",
      "15000/15000 [==============================] - 1s 69us/sample - loss: 0.4444 - accuracy: 0.8605 - val_loss: 0.6743 - val_accuracy: 0.8346\n",
      "Epoch 26/40\n",
      "15000/15000 [==============================] - 1s 69us/sample - loss: 0.4301 - accuracy: 0.8637 - val_loss: 0.6565 - val_accuracy: 0.8372\n",
      "Epoch 27/40\n",
      "15000/15000 [==============================] - 1s 67us/sample - loss: 0.4164 - accuracy: 0.8693 - val_loss: 0.6400 - val_accuracy: 0.8405\n",
      "Epoch 28/40\n",
      "15000/15000 [==============================] - 1s 71us/sample - loss: 0.4032 - accuracy: 0.8724 - val_loss: 0.6243 - val_accuracy: 0.8432\n",
      "Epoch 29/40\n",
      "15000/15000 [==============================] - 1s 79us/sample - loss: 0.3907 - accuracy: 0.8765 - val_loss: 0.6097 - val_accuracy: 0.8474\n",
      "Epoch 30/40\n",
      "15000/15000 [==============================] - 1s 75us/sample - loss: 0.3791 - accuracy: 0.8797 - val_loss: 0.5961 - val_accuracy: 0.8501\n",
      "Epoch 31/40\n",
      "15000/15000 [==============================] - 1s 74us/sample - loss: 0.3680 - accuracy: 0.8825 - val_loss: 0.5835 - val_accuracy: 0.8516\n",
      "Epoch 32/40\n",
      "15000/15000 [==============================] - 1s 76us/sample - loss: 0.3575 - accuracy: 0.8837 - val_loss: 0.5723 - val_accuracy: 0.8537\n",
      "Epoch 33/40\n",
      "15000/15000 [==============================] - 1s 72us/sample - loss: 0.3475 - accuracy: 0.8877 - val_loss: 0.5606 - val_accuracy: 0.8568\n",
      "Epoch 34/40\n",
      "15000/15000 [==============================] - 1s 65us/sample - loss: 0.3381 - accuracy: 0.8910 - val_loss: 0.5508 - val_accuracy: 0.8583\n",
      "Epoch 35/40\n",
      "15000/15000 [==============================] - 1s 73us/sample - loss: 0.3292 - accuracy: 0.8927 - val_loss: 0.5408 - val_accuracy: 0.8610\n",
      "Epoch 36/40\n",
      "15000/15000 [==============================] - 1s 70us/sample - loss: 0.3204 - accuracy: 0.8954 - val_loss: 0.5323 - val_accuracy: 0.8621\n",
      "Epoch 37/40\n",
      "15000/15000 [==============================] - 1s 70us/sample - loss: 0.3124 - accuracy: 0.8973 - val_loss: 0.5237 - val_accuracy: 0.8650\n",
      "Epoch 38/40\n",
      "15000/15000 [==============================] - 1s 71us/sample - loss: 0.3048 - accuracy: 0.9005 - val_loss: 0.5160 - val_accuracy: 0.8666\n",
      "Epoch 39/40\n",
      "15000/15000 [==============================] - 1s 69us/sample - loss: 0.2974 - accuracy: 0.9024 - val_loss: 0.5089 - val_accuracy: 0.8673\n",
      "Epoch 40/40\n",
      "15000/15000 [==============================] - 1s 70us/sample - loss: 0.2903 - accuracy: 0.9041 - val_loss: 0.5022 - val_accuracy: 0.8686\n"
     ]
    }
   ],
   "source": [
    "history = model.fit(partial_x_train,\n",
    "                   partial_y_train,\n",
    "                   steps_per_epoch=10,\n",
    "                   epochs=40,\n",
    "                   validation_data=(x_val,y_val),\n",
    "                    validation_steps=10,\n",
    "                   verbose=1)"
   ]
  },
  {
   "cell_type": "code",
   "execution_count": 22,
   "metadata": {},
   "outputs": [
    {
     "name": "stdout",
     "output_type": "stream",
     "text": [
      "25000/1 - 3s - loss: 0.3963 - accuracy: 0.8582\n",
      "[0.359166596698761, 0.85816]\n"
     ]
    }
   ],
   "source": [
    "# 모델 측정\n",
    "results = model.evaluate(test_data,  test_labels, verbose=2)\n",
    "\n",
    "print(results)"
   ]
  },
  {
   "cell_type": "code",
   "execution_count": 23,
   "metadata": {},
   "outputs": [
    {
     "data": {
      "text/plain": [
       "dict_keys(['loss', 'accuracy', 'val_loss', 'val_accuracy'])"
      ]
     },
     "execution_count": 23,
     "metadata": {},
     "output_type": "execute_result"
    }
   ],
   "source": [
    "# 정확도 손실 그래프\n",
    "history_dict = history.history\n",
    "history_dict.keys()"
   ]
  },
  {
   "cell_type": "code",
   "execution_count": 24,
   "metadata": {},
   "outputs": [
    {
     "data": {
      "image/png": "[encoded data removed]",
      "text/plain": [
       "<Figure size 432x288 with 1 Axes>"
      ]
     },
     "metadata": {
      "needs_background": "light"
     },
     "output_type": "display_data"
    }
   ],
   "source": [
    "import matplotlib.pyplot as plt\n",
    "\n",
    "acc = history_dict['accuracy']\n",
    "val_acc = history_dict['val_accuracy']\n",
    "loss = history_dict['loss']\n",
    "val_loss = history_dict['val_loss']\n",
    "\n",
    "epochs = range(1, len(acc) + 1)\n",
    "\n",
    "# \"bo\"는 \"파란색 점\"입니다\n",
    "plt.plot(epochs, loss, 'bo', label='Training loss')\n",
    "# b는 \"파란 실선\"입니다\n",
    "plt.plot(epochs, val_loss, 'b', label='Validation loss')\n",
    "plt.title('Training and validation loss')\n",
    "plt.xlabel('Epochs')\n",
    "plt.ylabel('Loss')\n",
    "plt.legend()\n",
    "\n",
    "plt.show()"
   ]
  },
  {
   "cell_type": "code",
   "execution_count": 25,
   "metadata": {},
   "outputs": [
    {
     "data": {
      "image/png": "[encoded data removed]",
      "text/plain": [
       "<Figure size 432x288 with 1 Axes>"
      ]
     },
     "metadata": {
      "needs_background": "light"
     },
     "output_type": "display_data"
    }
   ],
   "source": [
    "plt.clf()   # 그림을 초기화합니다\n",
    "\n",
    "plt.plot(epochs, acc, 'bo', label='Training acc')\n",
    "plt.plot(epochs, val_acc, 'b', label='Validation acc')\n",
    "plt.title('Training and validation accuracy')\n",
    "plt.xlabel('Epochs')\n",
    "plt.ylabel('Accuracy')\n",
    "plt.legend()\n",
    "\n",
    "plt.show()"
   ]
  },
  {
   "cell_type": "code",
   "execution_count": null,
   "metadata": {},
   "outputs": [],
   "source": []
  }
 ],
 "metadata": {
  "kernelspec": {
   "display_name": "tutorial",
   "language": "python",
   "name": "tutorial"
  },
  "language_info": {
   "codemirror_mode": {
    "name": "ipython",
    "version": 3
   },
   "file_extension": ".py",
   "mimetype": "text/x-python",
   "name": "python",
   "nbconvert_exporter": "python",
   "pygments_lexer": "ipython3",
   "version": "3.7.5"
  }
 },
 "nbformat": 4,
 "nbformat_minor": 2
}
