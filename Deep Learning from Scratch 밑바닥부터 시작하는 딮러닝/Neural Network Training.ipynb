{
 "cells": [
  {
   "cell_type": "markdown",
   "metadata": {},
   "source": [
    "# 1. 학습이란?\n",
    "\n",
    "- 훈련 데이터로부터 가중치 최적값을 자동으로 획득하는 것\n",
    "- Neural network가 학습할 수 있도록 손실 함수를 사용한다. -> 손실 함수가 가장 작게 되는것이 최적값이다."
   ]
  },
  {
   "cell_type": "markdown",
   "metadata": {},
   "source": [
    "# 2. 훈련 데이터와 시험 데이터\n",
    "\n",
    "- 기계학습에서는 보통 학습 데이터와 시험 데이터를 나누어서 사용한다.\n",
    "- 둘을 나누어서 사용하는 이유는 학습한 가중치값이 다른 예에서도 제대로 작동하는지 확인하는것이다."
   ]
  },
  {
   "cell_type": "markdown",
   "metadata": {},
   "source": [
    "# 3. 손실 함수\n",
    "\n",
    "- 하나의 지표로서 얼마나 학습 데이터에 학습이 잘 되었는지 판단한다.\n",
    "- 일반적으로는 평균 제곱 오차(MSE), 교차 엔트로피 오차를 사용한다.\n",
    "\n",
    "## 3.1. 평균 제곱 오차(Mean Squared Error)\n",
    "- MSE의 수식\n",
    "$$\n",
    "E = \\frac{1}{2}\\sum_k(y_k - t_k)^2\n",
    "$$\n",
    "여기서 y<sub>k</sub>는 신경망의 출력, t<sub>k</sub>는 정답 레이블, k는 데이터의 차원수를 나타낸다.\n",
    "\n",
    "- MSE는 신경망의 출력과 정답 레이블이 얼마나 다른지를 판별한다고 할 수 있다."
   ]
  },
  {
   "cell_type": "code",
   "execution_count": 1,
   "metadata": {},
   "outputs": [],
   "source": [
    "import numpy as np\n",
    "\n",
    "# MSE의 구현\n",
    "def mean_squared_error(y, t):\n",
    "    return 0.5 * np.sum((y-t)**2)"
   ]
  },
  {
   "cell_type": "code",
   "execution_count": 2,
   "metadata": {},
   "outputs": [
    {
     "name": "stdout",
     "output_type": "stream",
     "text": [
      "첫 번째 출력 값에 대한 손실 함수 값: 0.098\n",
      "두 번째 출력 값에 대한 손실 함수 값: 0.5975\n"
     ]
    }
   ],
   "source": [
    "# 정답 레이블과 출력값을 정해놓고 MSE를 사용해보기\n",
    "# 정답 레이블은 원한 인코딩을 사용\n",
    "\n",
    "# 정답 레이블\n",
    "t = np.array([0, 0 ,1 ,0, 0, 0, 0, 0, 0, 0]) \n",
    "\n",
    "# 첫번째 출력 값(소프트 맥스를 사용한 값)\n",
    "y = np.array([0.1, 0.05, 0.6, 0.0, 0.05, 0.1, 0.0, 0.1, 0.0, 0.0])\n",
    "print(\"첫 번째 출력 값에 대한 손실 함수 값: {:1.2}\".format(mean_squared_error(y, t)))\n",
    "\n",
    "# 두번째 출력 값\n",
    "y = np.array([0.1, 0.05, 0.1, 0.0, 0.05, 0.1, 0.0, 0.6, 0.0, 0.0])\n",
    "print(\"두 번째 출력 값에 대한 손실 함수 값: {}\".format(mean_squared_error(y, t)))"
   ]
  },
  {
   "cell_type": "markdown",
   "metadata": {},
   "source": [
    "위의 결과를 보아 출력 값과 정답 레이블이 비슷할 수록 손실 함수값이 작아지는것을 확인할 수 있다."
   ]
  },
  {
   "cell_type": "markdown",
   "metadata": {},
   "source": [
    "## 3.2. 교차 엔트로피 오차(Cross Entropy Error)\n",
    "- CEE의 수식\n",
    "$$\n",
    "E = -\\sum_k t_klogy_k\n",
    "$$\n",
    "t<sub>k</sub>는 정답일 때만 1이고 나머지는 0이기에, 정답일 떄의 자연로그 값을 계산하는 식이다.\n",
    "\n",
    "\n",
    "![logx_그래프](./images/logx.png)\n",
    "\n",
    "logx의 그래프를 보면 -logx의 값이 1에 가까워질 수록, 0에 가까워지고 0에 가까울 수록 값이 커진다는것을 알 수 있다.\n",
    "따라서 출력값이 1에 가까워질 수록 최적화가 된다는것을 알 수 있다."
   ]
  },
  {
   "cell_type": "code",
   "execution_count": 3,
   "metadata": {},
   "outputs": [],
   "source": [
    "# CEE 구현\n",
    "def cross_entropy_error(y,t):\n",
    "    # log0은 무한대이기 때문에 아주 작은 값인 delta값을 설정한다.\n",
    "    delta = 1e-7\n",
    "    return -np.sum(t*np.log(y + delta))"
   ]
  },
  {
   "cell_type": "markdown",
   "metadata": {},
   "source": [
    "# 4. 미니배치 학습\n",
    "\n",
    "- 작은 데이터 집합(미니 배치)들을 여러개로 하여서 훈련을 하는 것\n",
    "- 미니 배치로 CEE를 적용한 수식\n",
    "$$\n",
    "E = - \\frac{1}{N} \\sum_n \\sum_k t_{nk}logy_{nk}\n",
    "$$\n",
    "\n",
    "- n개의 데이터를 가지고 손실함수 값을 구하여 평균을 낸다."
   ]
  },
  {
   "cell_type": "markdown",
   "metadata": {},
   "source": [
    "## 4.1. mnist 데이터를 미니배치로 학습\n",
    "\n",
    "- 60,000개의 데이터에서 100장을 뽑아서 미니배치를 만들어 학습"
   ]
  },
  {
   "cell_type": "code",
   "execution_count": 4,
   "metadata": {},
   "outputs": [],
   "source": [
    "# mnist 학습 데이터를 1차원으로 변환 및 label을 one_hot으로 변환\n",
    "\n",
    "import tensorflow as tf\n",
    "\n",
    "mnist = tf.keras.datasets.mnist\n",
    "\n",
    "(x_train, t_train), (x_test, t_test) = mnist.load_data()\n",
    "\n",
    "# 훈련데이터의 28*28을 784로 바꾸어주는 함수\n",
    "def trans_flatten(train):\n",
    "    train = train.reshape(train.shape[0], train.shape[1]*train.shape[2])\n",
    "    \n",
    "    return train\n",
    "\n",
    "# 라벨을 one_hot 인코딩을 바꾸어주는 함수\n",
    "def trans_one_hot(labels):\n",
    "    one_labels = []\n",
    "    \n",
    "    for label in labels:\n",
    "        one_hot = [0,0,0,0,0,0,0,0,0,0]\n",
    "        one_hot[label] = 1\n",
    "    \n",
    "        one_labels.append(one_hot)\n",
    "        \n",
    "    one_labels = np.array(one_labels)\n",
    "        \n",
    "    return one_labels\n",
    "\n",
    "x_train = trans_flatten(x_train)\n",
    "x_test = trans_flatten(x_test)\n",
    "\n",
    "t_train = trans_one_hot(t_train)\n",
    "t_test = trans_one_hot(t_test)"
   ]
  },
  {
   "cell_type": "code",
   "execution_count": 5,
   "metadata": {},
   "outputs": [],
   "source": [
    "# 배치 데이터 생성\n",
    "train_size = x_train.shape[0]\n",
    "batch_size = 10\n",
    "\n",
    "# np.random.choice는 첫 번째 인자까지의 숫자 사이에서 두 번째 인자의 개수만큼 무작위로 index를 정한다.\n",
    "batch_mask = np.random.choice(train_size, batch_size)\n",
    "x_batch = x_train[batch_mask]\n",
    "t_batch = t_train[batch_mask]"
   ]
  },
  {
   "cell_type": "markdown",
   "metadata": {},
   "source": [
    "## 4.2 (배치용) 교차 엔트로피 오차 구현"
   ]
  },
  {
   "cell_type": "code",
   "execution_count": 6,
   "metadata": {},
   "outputs": [],
   "source": [
    "def cross_entropy_error(y, t):\n",
    "    if y.ndim == 1:\n",
    "        t = t.reshape(1, t.size)\n",
    "        y = y.reshape(1, y.size)\n",
    "        \n",
    "    if t.size == y.size:\n",
    "        t = t.argmax(axis=1)\n",
    "             \n",
    "    batch_size = y.shape[0]\n",
    "    return -np.sum(np.log(y[np.arange(batch_size), t] + 1e-7)) / batch_size"
   ]
  },
  {
   "cell_type": "markdown",
   "metadata": {},
   "source": [
    "## 4.3. 손실 함수를 설정하는 이유?\n",
    "\n",
    "- 학습을 할 때 미분을 이용하여 값을 변화시킨다.\n",
    "- 정확도를 지표로 학습을하게 되면 대부분의 장소에서 0이 되기 때문에 정확도를 지표로 삼을 수 없다."
   ]
  },
  {
   "cell_type": "markdown",
   "metadata": {},
   "source": [
    "# 5. 수치 미분\n",
    "\n",
    "## 5.1. 미분\n",
    "\n",
    "- 미분은 한순간의 변화량을 표시한 것\n",
    "- 수식\n",
    "$$\n",
    "\\frac{df(x)}{dx} = \\lim_{h\\rightarrow 0} \\frac{f(x+h) - f(x)}{h}\n",
    "$$"
   ]
  },
  {
   "cell_type": "code",
   "execution_count": 7,
   "metadata": {},
   "outputs": [],
   "source": [
    "# 미분의 구현 예 1\n",
    "# 수치 미분\n",
    "def numerical_diff(f, x):\n",
    "    h = 10e-50\n",
    "    return (f(x+h) - f(x)) / h"
   ]
  },
  {
   "cell_type": "markdown",
   "metadata": {},
   "source": [
    "하지만 위의 방법은 반올림 오차 문제를 일으킨다.(h로 너무 작은 값을 사용하였기 때문에)"
   ]
  },
  {
   "cell_type": "code",
   "execution_count": 8,
   "metadata": {},
   "outputs": [
    {
     "data": {
      "text/plain": [
       "0.0"
      ]
     },
     "execution_count": 8,
     "metadata": {},
     "output_type": "execute_result"
    }
   ],
   "source": [
    "# 반올림 오차의 예\n",
    "# 본래는 1e-50을 출력해야하지만 반올림 오차로 0을 출력한다.\n",
    "np.float32(1e-50)"
   ]
  },
  {
   "cell_type": "code",
   "execution_count": 9,
   "metadata": {},
   "outputs": [],
   "source": [
    "# 수치 미분에는 오차가 포함된다.\n",
    "# 중심 차분의 구현\n",
    "def numerical_diff(f,x):\n",
    "    # 보통 1e-4 정도면 좋은 결과를 얻는다고 알려져있다.\n",
    "    h = 1e-4\n",
    "    return (f(x+h) - f(x-h)) / (2*h)"
   ]
  },
  {
   "cell_type": "code",
   "execution_count": 10,
   "metadata": {},
   "outputs": [],
   "source": [
    "# 수치 미분 예\n",
    "def function_1(x):\n",
    "    return 0.01*x**2 + 0.1*x"
   ]
  },
  {
   "cell_type": "code",
   "execution_count": 11,
   "metadata": {},
   "outputs": [
    {
     "data": {
      "image/png": "[encoded data removed]",
      "text/plain": [
       "<Figure size 432x288 with 1 Axes>"
      ]
     },
     "metadata": {
      "needs_background": "light"
     },
     "output_type": "display_data"
    }
   ],
   "source": [
    "import matplotlib.pylab as plt\n",
    "\n",
    "x = np.arange(0.0, 20.0 , 0.1)\n",
    "y = function_1(x)\n",
    "plt.xlabel(\"x\")\n",
    "plt.ylabel(\"f(x)\")\n",
    "plt.plot(x, y)\n",
    "plt.show()"
   ]
  },
  {
   "cell_type": "code",
   "execution_count": 12,
   "metadata": {},
   "outputs": [
    {
     "data": {
      "text/plain": [
       "0.1999999999990898"
      ]
     },
     "execution_count": 12,
     "metadata": {},
     "output_type": "execute_result"
    }
   ],
   "source": [
    "numerical_diff(function_1, 5)"
   ]
  },
  {
   "cell_type": "code",
   "execution_count": 13,
   "metadata": {},
   "outputs": [
    {
     "data": {
      "text/plain": [
       "0.2999999999986347"
      ]
     },
     "execution_count": 13,
     "metadata": {},
     "output_type": "execute_result"
    }
   ],
   "source": [
    "numerical_diff(function_1, 10)"
   ]
  },
  {
   "cell_type": "markdown",
   "metadata": {},
   "source": [
    "## 5.2. 편미분\n",
    "\n",
    "- 변수가 두개인 함수의 미분\n",
    "\n",
    "$$\n",
    "f(x_0, x_1) = x^2_0 + x^2_1\n",
    "$$"
   ]
  },
  {
   "cell_type": "code",
   "execution_count": 14,
   "metadata": {},
   "outputs": [],
   "source": [
    "def function_2(x):\n",
    "    return x[0]**2 + x[1]**2"
   ]
  },
  {
   "cell_type": "markdown",
   "metadata": {},
   "source": [
    "x<sub>0</sub> = 3, x<sub>1</sub> = 4 일때 x<sub>0</sub>에 대한 x<sub>0</sub>에 대한 편미분"
   ]
  },
  {
   "cell_type": "code",
   "execution_count": 15,
   "metadata": {},
   "outputs": [
    {
     "data": {
      "text/plain": [
       "6.00000000000378"
      ]
     },
     "execution_count": 15,
     "metadata": {},
     "output_type": "execute_result"
    }
   ],
   "source": [
    "def function_tmp1(x0):\n",
    "    return x0*x0 + 4.0**2.0\n",
    "\n",
    "numerical_diff(function_tmp1, 3.0)"
   ]
  },
  {
   "cell_type": "markdown",
   "metadata": {},
   "source": [
    "x<sub>0</sub> = 3, x<sub>1</sub> = 4 일때 x<sub>0</sub>에 대한 x<sub>1</sub>에 대한 편미분"
   ]
  },
  {
   "cell_type": "code",
   "execution_count": 16,
   "metadata": {},
   "outputs": [
    {
     "data": {
      "text/plain": [
       "7.999999999999119"
      ]
     },
     "execution_count": 16,
     "metadata": {},
     "output_type": "execute_result"
    }
   ],
   "source": [
    "def function_tmp2(x1):\n",
    "    return 3.0**2.0 + x1*x1\n",
    "\n",
    "numerical_diff(function_tmp2, 4.0)"
   ]
  },
  {
   "cell_type": "markdown",
   "metadata": {},
   "source": [
    "## 5.3. 기울기(gradient)\n",
    "\n",
    "- 편미분에서 모든 변수의 편미분을 벡터로 정리한 것"
   ]
  },
  {
   "cell_type": "code",
   "execution_count": 17,
   "metadata": {},
   "outputs": [],
   "source": [
    "def numerical_gradient(f,x):\n",
    "    h = 1e-4\n",
    "    grad = np.zeros_like(x) # x와 모양이 같지만 내용은 모두 0인 배열을 생성\n",
    "    \n",
    "    for idx in range(x.size):\n",
    "        # idx 번째의 편미분\n",
    "        tmp_val = x[idx]\n",
    "        \n",
    "        # x+h 계산\n",
    "        x[idx] = tmp_val + h \n",
    "        fxh1 = f(x)\n",
    "        \n",
    "        # x-h 계산\n",
    "        x[idx] = tmp_val - h\n",
    "        fxh2 = f(x)\n",
    "        \n",
    "        grad[idx] = (fxh1 - fxh2) / (2*h)\n",
    "        x[idx] = tmp_val # 값을 복원\n",
    "        \n",
    "    return grad"
   ]
  },
  {
   "cell_type": "code",
   "execution_count": 18,
   "metadata": {},
   "outputs": [
    {
     "name": "stdout",
     "output_type": "stream",
     "text": [
      "[6. 8.]\n",
      "[0. 4.]\n",
      "[6. 0.]\n"
     ]
    }
   ],
   "source": [
    "# fucntion_2의 (3,4), (0,2), (3,0)에서의 기울기 계산\n",
    "print(numerical_gradient(function_2, np.array([3.0, 4.0])))\n",
    "print(numerical_gradient(function_2, np.array([0.0, 2.0])))\n",
    "print(numerical_gradient(function_2, np.array([3.0, 0.0])))"
   ]
  },
  {
   "cell_type": "markdown",
   "metadata": {},
   "source": [
    "기울기는 각 지점에서 낮아지는 방향을 가리키는 것으로 함수의 출력 값을 가장 크게 줄이는 방법이다.\n",
    "\n",
    "따라서 손실 함수는 기울기를 가지고서 최소값으로 향할 수 있다."
   ]
  },
  {
   "cell_type": "markdown",
   "metadata": {},
   "source": [
    "### 5.3.1. 경사법(경사 하강법)\n",
    "\n",
    "- 기울기를 이용하여 함수의 최솟값을 찾으려는 방법\n",
    "- 기울기 방향으로 일정 보폭을 움직이게하여 적절한 가중치의 값을 찾는다.\n",
    "\n",
    "\n",
    "- 경사법 수식\n",
    "\n",
    "\n",
    "$$\n",
    "x_0 = x_0 - \\eta \\frac{\\delta f}{\\delta x_0}\n",
    "$$\n",
    "\n",
    "\n",
    "$$\n",
    "x_1 = x_1 - \\eta \\frac{\\delta f}{\\delta x_1}\n",
    "$$\n",
    "\n",
    "\n",
    "- 여기서 η 기호는 학습률을 나타낸다.\n",
    "- 학습률은 0.01이나 0.001 등 미리 특정 값으로 정해 둔다.\n"
   ]
  },
  {
   "cell_type": "code",
   "execution_count": 19,
   "metadata": {},
   "outputs": [],
   "source": [
    "# 경사 하강법 구현\n",
    "def gradient_descent(f, init_x, lr=0.01, step_num=100):\n",
    "    x = init_x\n",
    "\n",
    "    for i in range(step_num):\n",
    "        grad = numerical_gradient(f, x) # 기울기를 구함\n",
    "        x -= lr * grad # 원본에서 학습률 * 기울기 만큼 이동함\n",
    "        \n",
    "    return x"
   ]
  },
  {
   "cell_type": "code",
   "execution_count": 20,
   "metadata": {},
   "outputs": [
    {
     "name": "stdout",
     "output_type": "stream",
     "text": [
      "경사 하강법으로 구한 최솟값 : [-6.11110793e-10  8.14814391e-10]\n"
     ]
    }
   ],
   "source": [
    "# 경사 하강법으로 function_2의 최솟값을 구하기\n",
    "init_x = np.array([-3.0, 4.0])\n",
    "\n",
    "print(\"경사 하강법으로 구한 최솟값 : {}\".format(gradient_descent(function_2, init_x, lr=0.1)))"
   ]
  },
  {
   "cell_type": "code",
   "execution_count": 21,
   "metadata": {},
   "outputs": [
    {
     "name": "stdout",
     "output_type": "stream",
     "text": [
      "학습률이 너무 큰 경우 : [-2.58983747e+13 -1.29524862e+12]\n"
     ]
    }
   ],
   "source": [
    "# 학습률이 너무 큰 경우\n",
    "init_x = np.array([-3.0, 4.0])\n",
    "print(\"학습률이 너무 큰 경우 : {}\".format(gradient_descent(function_2, init_x, lr=10.0)))"
   ]
  },
  {
   "cell_type": "code",
   "execution_count": 22,
   "metadata": {},
   "outputs": [
    {
     "name": "stdout",
     "output_type": "stream",
     "text": [
      "학습률이 너무 작은 경우 : [-2.99999994  3.99999992]\n"
     ]
    }
   ],
   "source": [
    "# 학습률이 너무 작은 경우\n",
    "init_x = np.array([-3.0, 4.0])\n",
    "print(\"학습률이 너무 작은 경우 : {}\".format(gradient_descent(function_2, init_x, lr=1e-10)))"
   ]
  },
  {
   "cell_type": "markdown",
   "metadata": {},
   "source": [
    "### 5.3.2. 신경망에서의 기울기\n",
    "\n",
    "<p>$$\n",
    "W = \n",
    "\\begin{pmatrix}\n",
    "w_{11} & w_{12} & w_{13} \\\\\n",
    "w_{21} & w_{22} & w_{23}\n",
    "\\end{pmatrix}\n",
    "$$</p>\n",
    "\n",
    "\n",
    "<p>$$\n",
    "\\frac {\\delta L}{\\delta W} = \n",
    "\\begin{pmatrix}\n",
    "\\frac {\\delta L}{\\delta W_{11}} &\\frac {\\delta L}{\\delta W_{12}} & \\frac {\\delta L}{\\delta W_{13}} \\\\\n",
    "\\frac {\\delta L}{\\delta W_{21}} &\\frac {\\delta L}{\\delta W_{22}} & \\frac {\\delta L}{\\delta W_{23}}\n",
    "\\end{pmatrix}\n",
    "$$</p>"
   ]
  },
  {
   "cell_type": "code",
   "execution_count": 23,
   "metadata": {},
   "outputs": [],
   "source": [
    "# 실제로 기울기를 구하는 코드\n",
    "def softmax(a):\n",
    "    c = np.max(a)\n",
    "    exp_a = np.exp(a - c)\n",
    "    sum_exp_a = np.sum(exp_a)\n",
    "    y = exp_a / sum_exp_a\n",
    "    \n",
    "    return y\n",
    "\n",
    "# 책에서 제공해주는 여러 차원에서 모두 적용 가능한 기울기 구하기\n",
    "def numerical_gradient(f, x):\n",
    "    h = 1e-4 # 0.0001\n",
    "    grad = np.zeros_like(x)\n",
    "    \n",
    "    it = np.nditer(x, flags=['multi_index'], op_flags=['readwrite'])\n",
    "    while not it.finished:\n",
    "        idx = it.multi_index\n",
    "        tmp_val = x[idx]\n",
    "        x[idx] = tmp_val + h\n",
    "        fxh1 = f(x) # f(x+h)\n",
    "        \n",
    "        x[idx] = tmp_val - h \n",
    "        fxh2 = f(x) # f(x-h)\n",
    "        grad[idx] = (fxh1 - fxh2) / (2*h)\n",
    "        \n",
    "        x[idx] = tmp_val # 値を元に戻す\n",
    "        it.iternext()   \n",
    "        \n",
    "    return grad\n",
    "\n",
    "class simpleNet:\n",
    "    def __init__(self):\n",
    "        self.W = np.random.randn(2,3) # W를 정규분포로 초기화한다.\n",
    "    \n",
    "    def predict(self, x):\n",
    "        return np.dot(x, self.W)\n",
    "    \n",
    "    def loss(self, x, t):\n",
    "        z = self.predict(x)\n",
    "        y = softmax(z)\n",
    "        loss = cross_entropy_error(y, t)\n",
    "        \n",
    "        return loss"
   ]
  },
  {
   "cell_type": "code",
   "execution_count": 24,
   "metadata": {},
   "outputs": [
    {
     "name": "stdout",
     "output_type": "stream",
     "text": [
      "정규분포로 초기화한 가중치 값 : [[ 0.09462367 -1.70722258 -0.24131288]\n",
      " [-0.71649073  1.14291117  1.86236315]]\n",
      "\n",
      "츨력 값 : [-0.58806746  0.00428651  1.5313391 ]\n",
      "출력 값중 가장 큰 값 : 2\n",
      "\n",
      "loss 값 : 0.29063585244520235\n"
     ]
    }
   ],
   "source": [
    "net = simpleNet()\n",
    "print(\"정규분포로 초기화한 가중치 값 : {}\".format(net.W), end=\"\\n\\n\") # 정규분포에서 초기화된 가중치\n",
    "\n",
    "x = np.array([0.6, 0.9])\n",
    "p = net.predict(x)\n",
    "print(\"츨력 값 : {}\".format(p))\n",
    "print(\"출력 값중 가장 큰 값 : {}\".format(np.argmax(p)), end=\"\\n\\n\")\n",
    "\n",
    "t = np.array([0, 0, 1]) # 정답 레이블\n",
    "print(\"loss 값 : {}\".format(net.loss(x,t)))"
   ]
  },
  {
   "cell_type": "code",
   "execution_count": 25,
   "metadata": {},
   "outputs": [
    {
     "name": "stdout",
     "output_type": "stream",
     "text": [
      "W의 기울기 : [[ 0.05388688  0.0974404  -0.15132728]\n",
      " [ 0.08083032  0.1461606  -0.22699092]]\n"
     ]
    }
   ],
   "source": [
    "# 로스 함수를 설정(CEE)\n",
    "def f(W):\n",
    "    return net.loss(x, t)\n",
    "\n",
    "# W의 기울기를 구함\n",
    "dW = numerical_gradient(f, net.W)\n",
    "print(\"W의 기울기 : {}\".format(dW))"
   ]
  },
  {
   "cell_type": "markdown",
   "metadata": {},
   "source": [
    "## 5.4. 학습 알고리즘 구현\n",
    "\n",
    "1. 미니배치\n",
    "    - 훈련 데이터 중 일부를 무작위로 가져옴\n",
    "2. 기울기 산출\n",
    "    - 각 가중치 매개변수 기울기를 구함\n",
    "3. 배개변수 갱신\n",
    "    - 가중치 매개변수를 기울기 방향으로 갱신\n",
    "4. 반복\n",
    "    - 1~3을 반복"
   ]
  },
  {
   "cell_type": "markdown",
   "metadata": {},
   "source": [
    "### 5.4.1. 2층 신경망 클래스 구현"
   ]
  },
  {
   "cell_type": "code",
   "execution_count": 26,
   "metadata": {},
   "outputs": [],
   "source": [
    "# coding: utf-8\n",
    "import numpy as np\n",
    "\n",
    "\n",
    "def identity_function(x):\n",
    "    return x\n",
    "\n",
    "\n",
    "def step_function(x):\n",
    "    return np.array(x > 0, dtype=np.int)\n",
    "\n",
    "\n",
    "def sigmoid(x):\n",
    "    return 1 / (1 + np.exp(-x))    \n",
    "\n",
    "\n",
    "def sigmoid_grad(x):\n",
    "    return (1.0 - sigmoid(x)) * sigmoid(x)\n",
    "    \n",
    "\n",
    "def relu(x):\n",
    "    return np.maximum(0, x)\n",
    "\n",
    "\n",
    "def relu_grad(x):\n",
    "    grad = np.zeros_like(x)\n",
    "    grad[x>=0] = 1\n",
    "    return grad\n",
    "    \n",
    "\n",
    "def softmax(x):\n",
    "    x = x - np.max(x, axis=-1, keepdims=True)   # オーバーフロー対策\n",
    "    return np.exp(x) / np.sum(np.exp(x), axis=-1, keepdims=True)\n",
    "\n",
    "\n",
    "def sum_squared_error(y, t):\n",
    "    return 0.5 * np.sum((y-t)**2)\n",
    "\n",
    "\n",
    "def cross_entropy_error(y, t):\n",
    "    if y.ndim == 1:\n",
    "        t = t.reshape(1, t.size)\n",
    "        y = y.reshape(1, y.size)\n",
    "        \n",
    "    # 教師データがone-hot-vectorの場合、正解ラベルのインデックスに変換\n",
    "    if t.size == y.size:\n",
    "        t = t.argmax(axis=1)\n",
    "             \n",
    "    batch_size = y.shape[0]\n",
    "    return -np.sum(np.log(y[np.arange(batch_size), t] + 1e-7)) / batch_size\n",
    "\n",
    "\n",
    "def softmax_loss(X, t):\n",
    "    y = softmax(X)\n",
    "    return cross_entropy_error(y, t)"
   ]
  },
  {
   "cell_type": "code",
   "execution_count": 27,
   "metadata": {},
   "outputs": [],
   "source": [
    "class TwoLayerNet:\n",
    "\n",
    "    def __init__(self, input_size, hidden_size, output_size, weight_init_std=0.01):\n",
    "        self.params = {}\n",
    "        self.params['W1'] = weight_init_std * np.random.randn(input_size, hidden_size)\n",
    "        self.params['b1'] = np.zeros(hidden_size)\n",
    "        self.params['W2'] = weight_init_std * np.random.randn(hidden_size, output_size)\n",
    "        self.params['b2'] = np.zeros(output_size)\n",
    "\n",
    "    def predict(self, x):\n",
    "        W1, W2 = self.params['W1'], self.params['W2']\n",
    "        b1, b2 = self.params['b1'], self.params['b2']\n",
    "    \n",
    "        a1 = np.dot(x, W1) + b1\n",
    "        z1 = sigmoid(a1)\n",
    "        a2 = np.dot(z1, W2) + b2\n",
    "        y = softmax(a2)\n",
    "        \n",
    "        return y\n",
    "    \n",
    "    def loss(self, x, t):\n",
    "        y = self.predict(x)\n",
    "        \n",
    "        return cross_entropy_error(y, t)\n",
    "    \n",
    "    def accuracy(self, x, t):\n",
    "        y = self.predict(x)\n",
    "        y = np.argmax(y, axis=1)\n",
    "        t = np.argmax(t, axis=1)\n",
    "        \n",
    "        accuracy = np.sum(y == t) / float(x.shape[0])\n",
    "        return accuracy\n",
    "        \n",
    "    def numerical_gradient(self, x, t):\n",
    "        loss_W = lambda W: self.loss(x, t)\n",
    "        \n",
    "        grads = {}\n",
    "        grads['W1'] = numerical_gradient(loss_W, self.params['W1'])\n",
    "        grads['b1'] = numerical_gradient(loss_W, self.params['b1'])\n",
    "        grads['W2'] = numerical_gradient(loss_W, self.params['W2'])\n",
    "        grads['b2'] = numerical_gradient(loss_W, self.params['b2'])\n",
    "        \n",
    "        return grads\n",
    "        \n",
    "    def gradient(self, x, t):\n",
    "        W1, W2 = self.params['W1'], self.params['W2']\n",
    "        b1, b2 = self.params['b1'], self.params['b2']\n",
    "        grads = {}\n",
    "        \n",
    "        batch_num = x.shape[0]\n",
    "        \n",
    "        # forward\n",
    "        a1 = np.dot(x, W1) + b1\n",
    "        z1 = sigmoid(a1)\n",
    "        a2 = np.dot(z1, W2) + b2\n",
    "        y = softmax(a2)\n",
    "        \n",
    "        # backward\n",
    "        dy = (y - t) / batch_num\n",
    "        grads['W2'] = np.dot(z1.T, dy)\n",
    "        grads['b2'] = np.sum(dy, axis=0)\n",
    "        \n",
    "        dz1 = np.dot(dy, W2.T)\n",
    "        da1 = sigmoid_grad(a1) * dz1\n",
    "        grads['W1'] = np.dot(x.T, da1)\n",
    "        grads['b1'] = np.sum(da1, axis=0)\n",
    "\n",
    "        return grads"
   ]
  },
  {
   "cell_type": "markdown",
   "metadata": {},
   "source": [
    "### 4.5.2 미니배치 학습 구현"
   ]
  },
  {
   "cell_type": "code",
   "execution_count": 28,
   "metadata": {},
   "outputs": [],
   "source": [
    "# 데이터 준비\n",
    "from dataset.mnist import load_mnist\n",
    "(x_train, t_train), (x_test, t_test) = load_mnist(normalize=True, one_hot_label = True)"
   ]
  },
  {
   "cell_type": "code",
   "execution_count": 29,
   "metadata": {},
   "outputs": [],
   "source": [
    "train_loss_list = []\n",
    "\n",
    "# 하이퍼 파라미터\n",
    "iters_num = 10000\n",
    "train_size = x_train.shape[0]\n",
    "batch_size = 100\n",
    "learning_rate = 0.1"
   ]
  },
  {
   "cell_type": "code",
   "execution_count": null,
   "metadata": {},
   "outputs": [],
   "source": [
    "network = TwoLayerNet(input_size=784, hidden_size=50, output_size=10)\n",
    "\n",
    "for i in range(iters_num):\n",
    "    # 미니배치 획득\n",
    "    batch_mask = np.random.choice(train_size, batch_size)\n",
    "    x_batch = x_train[batch_mask]\n",
    "    t_batch = t_train[batch_mask]\n",
    "    \n",
    "    # 기울기 계산\n",
    "    grad = network.numerical_gradient(x_batch, t_batch)\n",
    "    \n",
    "    # 매개변수 갱신\n",
    "    for key in ('W1', 'b1', 'W2', 'b2'):\n",
    "        network.params[key] -= learning_rate * grad[key]\n",
    "    \n",
    "    # 학습 경과 기록\n",
    "    loss = network.loss(x_batch, t_batch)\n",
    "    train_loss_list.append(loss)"
   ]
  },
  {
   "cell_type": "markdown",
   "metadata": {},
   "source": [
    "### 4.5.3. 시험 데이터로 평가하기"
   ]
  },
  {
   "cell_type": "code",
   "execution_count": null,
   "metadata": {},
   "outputs": [],
   "source": [
    "(x_train, t_train), (x_test, t_test) = load_mnist(normalize=True, one_hot_label = True)\n",
    "\n",
    "network = TwoLayerNet(input_size=784, hidden_size=50, output_size=10)\n",
    "\n",
    "train_loss_list = []\n",
    "\n",
    "# 하이퍼 파라미터\n",
    "iters_num = 10000\n",
    "train_size = x_train.shape[0]\n",
    "batch_size = 100\n",
    "learning_rate = 0.1\n",
    "\n",
    "train_loss_list = []\n",
    "train_acc_list = []\n",
    "test_acc_list []\n",
    "\n",
    "iter_per_epoch = max(train_size / batch_size, 1)\n",
    "\n",
    "for i in range(iters_num):\n",
    "    # 미니배치 획득\n",
    "    batch_mask = np.random.choice(train_size, batch_size)\n",
    "    x_batch = x_train[batch_mask]\n",
    "    t_batch = t_train[batch_mask]\n",
    "    \n",
    "    # 기울기 계산\n",
    "    grad = network.numerical_gradient(x_batch, t_batch)\n",
    "    \n",
    "    # 매개변수 갱신\n",
    "    for key in ('W1', 'b1', 'W2', 'b2'):\n",
    "        network.params[key] -= learning_rate * grad[key]\n",
    "    \n",
    "    # 학습 경과 기록\n",
    "    loss = network.loss(x_batch, t_batch)\n",
    "    train_loss_list.append(loss)\n",
    "    \n",
    "    # 1에폭당 정확도 계산\n",
    "    if i % iter_per_epoch == 0:\n",
    "        train_acc = network.accuracy(x_train, t_train)\n",
    "        test_acc = network.accuracy(x_test, t_test)\n",
    "        train_acc_list.append(train_acc)\n",
    "        test_acc_list.append(test_acc)\n",
    "        print(\"train acc, test acc | \" + str(train_acc) + \", \" + str(test_acc))\n",
    "\n",
    "# 그래프 시각화\n",
    "markers = {'train': 'o', 'test': 's'}\n",
    "x = np.arange(len(train_acc_list))\n",
    "plt.plot(x, train_acc_list, label='train acc')\n",
    "plt.plot(x, test_acc_list, label='test acc', linestyle='--')\n",
    "plt.xlabel(\"epochs\")\n",
    "plt.ylabel(\"accuracy\")\n",
    "plt.ylim(0, 1.0)\n",
    "plt.legend(loc='lower right')\n",
    "plt.show()"
   ]
  },
  {
   "cell_type": "code",
   "execution_count": null,
   "metadata": {},
   "outputs": [],
   "source": []
  }
 ],
 "metadata": {
  "kernelspec": {
   "display_name": "tutorial",
   "language": "python",
   "name": "tutorial"
  },
  "language_info": {
   "codemirror_mode": {
    "name": "ipython",
    "version": 3
   },
   "file_extension": ".py",
   "mimetype": "text/x-python",
   "name": "python",
   "nbconvert_exporter": "python",
   "pygments_lexer": "ipython3",
   "version": "3.7.5"
  }
 },
 "nbformat": 4,
 "nbformat_minor": 2
}
