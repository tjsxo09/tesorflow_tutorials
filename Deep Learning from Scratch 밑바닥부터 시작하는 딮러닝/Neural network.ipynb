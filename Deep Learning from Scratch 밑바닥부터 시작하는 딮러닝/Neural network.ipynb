{
 "cells": [
  {
   "cell_type": "markdown",
   "metadata": {},
   "source": [
    "# 왜 Neural Network를 사용하는가?\n",
    "- Perceptron은 가중치를 사람이 수동으로 해줘야한다는 문제점이 있다.\n",
    "- Neural network는 가중치의 적절한 값을 데이터로부터 자동으로 학습하여 perceptron의 문제점을 해결한다."
   ]
  },
  {
   "cell_type": "markdown",
   "metadata": {},
   "source": [
    "# 신경망의 예\n",
    "![신경망의_예](./images/NN.png)\n",
    "\n",
    "- 가장 왼쪽의 층 : 입력층\n",
    "- 가운데 층      : 은닉층\n",
    "- 가장 오른쪽 층 : 출력층"
   ]
  },
  {
   "cell_type": "markdown",
   "metadata": {},
   "source": [
    "# Perceptron수식을 변형\n",
    "\n",
    "- 원본\n",
    "$$\n",
    "y =\n",
    "\\cases{\n",
    "0 \\quad (b + w{_1}x{_1} + w{_2}x{_2}\\leq0) \\cr\n",
    "1 \\quad (b + w{_1}x{_1} + w{_2}x{_2}>0)\n",
    "}\n",
    "$$\n",
    "\n",
    "\n",
    "- 변형\n",
    "$$\n",
    "y = h(b + w_1  x_1 + w_2 x_2)\n",
    "$$\n",
    "\n",
    "\n",
    "$$\n",
    "h(x) = \n",
    "\\cases{\n",
    "0 \\quad (x\\leq0) \\cr\n",
    "1 \\quad (x>0)\n",
    "}\n",
    "$$\n",
    "\n",
    "함수 h(x)를 추가하여 변형하였지만 하는 일은 같다."
   ]
  },
  {
   "cell_type": "markdown",
   "metadata": {},
   "source": [
    "# 활성화 함수\n",
    "\n",
    "- 위 Perceptron 수식의 h(x)와 같이 입력 신호의 총합을 출력 신호로 변환하는 함수\n",
    "- 신호 총합이 흐를지(flow) 안흐를지를 결정하는 함수이다.\n",
    "\n",
    "\n",
    "- 활성화 함수(perceptron) 수식 표현\n",
    "$$\n",
    "a = b+ w_1 x_1 + w_2 x_2\n",
    "$$\n",
    "\n",
    "$$\n",
    "y = h(a)\n",
    "$$\n",
    "1. 이 때 a는 신호의 총합이다.\n",
    "2. Perceptron은 임계값을 넘으면 신호가 활성화되기 때문에 계단 함수를 사용하고 있다고 할 수 있다."
   ]
  },
  {
   "cell_type": "markdown",
   "metadata": {},
   "source": [
    "# 1.Sigmoid 함수\n",
    "## 1.1. Sigmoid 함수의 수식\n",
    "$$\n",
    "h(x) = \\frac{1}{1+exp(-x)}\n",
    "$$"
   ]
  },
  {
   "cell_type": "markdown",
   "metadata": {},
   "source": [
    "## 1.2. 계단 함수 구현"
   ]
  },
  {
   "cell_type": "code",
   "execution_count": 1,
   "metadata": {},
   "outputs": [],
   "source": [
    "# 구현 방법 1\n",
    "def step_function(x):\n",
    "    if x > 0:\n",
    "        return 1\n",
    "    else:\n",
    "        return 0"
   ]
  },
  {
   "cell_type": "code",
   "execution_count": 2,
   "metadata": {},
   "outputs": [],
   "source": [
    "# 구현 방법 2\n",
    "def step_function(x):\n",
    "    y = x > 0\n",
    "    return y.astype(np.int)"
   ]
  },
  {
   "cell_type": "markdown",
   "metadata": {},
   "source": [
    "- 구현 방법 1은 numpy 배열이 왔을때 작동하지 못한다.\n",
    "- 구현 방법 2는 numpy 배열이 입력으로 들어오면 y에 입력 배열이 0보다 크면 True 작으면 False를 저장하고 .astype를 사용하여 boolean형을 np.int로 변환한다."
   ]
  },
  {
   "cell_type": "code",
   "execution_count": 3,
   "metadata": {},
   "outputs": [
    {
     "name": "stdout",
     "output_type": "stream",
     "text": [
      "x array : [ 1.  2.  3. -1.]\n",
      "y : [ True  True  True False]\n",
      "new y : [1 1 1 0]\n"
     ]
    }
   ],
   "source": [
    "# 구현 방법 2의 동작원리 시각화\n",
    "import numpy as np\n",
    "x = np.array([1.0, 2.0, 3.0, -1.0])\n",
    "print(\"x array : {}\".format(x))\n",
    "\n",
    "y = x>0\n",
    "print(\"y : {}\".format(y))\n",
    "\n",
    "y = y.astype(np.int)\n",
    "print(\"new y : {}\".format(y))"
   ]
  },
  {
   "cell_type": "markdown",
   "metadata": {},
   "source": [
    "## 1.2. 계단 함수 그래프"
   ]
  },
  {
   "cell_type": "code",
   "execution_count": 4,
   "metadata": {},
   "outputs": [
    {
     "data": {
      "image/png": "[encoded data removed]",
      "text/plain": [
       "<Figure size 432x288 with 1 Axes>"
      ]
     },
     "metadata": {
      "needs_background": "light"
     },
     "output_type": "display_data"
    }
   ],
   "source": [
    "import matplotlib.pylab as plt\n",
    "\n",
    "x = np.arange(-5.0, 5.0, 0.1) # x에 -5.0 ~ 5.0까지 0.1 간격으로 생성하여 리스트형태로 저장\n",
    "y = step_function(x)\n",
    "\n",
    "plt.plot(x,y)\n",
    "plt.ylim(-0.1, 1.1)\n",
    "plt.show()"
   ]
  },
  {
   "cell_type": "markdown",
   "metadata": {},
   "source": [
    "## 1.3. Sigmoid 함수 구현"
   ]
  },
  {
   "cell_type": "code",
   "execution_count": 5,
   "metadata": {},
   "outputs": [],
   "source": [
    "def sigmoid(x):\n",
    "    return 1 / (1 + np.exp(-x))"
   ]
  },
  {
   "cell_type": "code",
   "execution_count": 6,
   "metadata": {},
   "outputs": [
    {
     "name": "stdout",
     "output_type": "stream",
     "text": [
      "[0.26894142 0.73105858 0.88079708]\n"
     ]
    }
   ],
   "source": [
    "x = np.array([-1.0, 1.0, 2.0])\n",
    "print(sigmoid(x))"
   ]
  },
  {
   "cell_type": "code",
   "execution_count": 7,
   "metadata": {},
   "outputs": [
    {
     "data": {
      "image/png": "[encoded data removed]",
      "text/plain": [
       "<Figure size 432x288 with 1 Axes>"
      ]
     },
     "metadata": {
      "needs_background": "light"
     },
     "output_type": "display_data"
    }
   ],
   "source": [
    "x = np.arange(-5.0, 5.0, 0.1)\n",
    "y = sigmoid(x)\n",
    "\n",
    "plt.plot(x,y)\n",
    "plt.ylim(-0.1, 1.1)\n",
    "plt.show()"
   ]
  },
  {
   "cell_type": "markdown",
   "metadata": {},
   "source": [
    "## 1.4 비선형 함수\n",
    "- 신경망에서 활성화 함수로 비선형 함수를 사용해야한다. 어째서?\n",
    "<ul> \n",
    "    층을 깊게하여도 은닉층이 없는 네트워크로 같은 기능을 할 수 있기 때문\n",
    "    ex) h(x) = ax인 활성화 함수가 있다고하자, 이 때 y = h(h(h(x))) = a<sup>3</sup>x이므로 z(x) = a<sup>3</sup>x인 활성화함수를 사용하는것과 같다."
   ]
  },
  {
   "cell_type": "markdown",
   "metadata": {},
   "source": [
    "## 1.5. Relu 함수\n",
    "\n",
    "- 과거에는 sigmoid가 많이 사용 되었지만, 최근에는 Relu 함수가 주로 사용된다.\n",
    "- 0을 넘으면 그 입력을 출력하고 0이하이면 0을 출력하는 함수이다.\n",
    "\n",
    "\n",
    "- Relu 함수의 수식\n",
    "$$\n",
    "h(x) =\n",
    "\\cases{\n",
    "x \\quad (x>0) \\cr\n",
    "0 \\quad (x\\leq0)\n",
    "}\n",
    "$$"
   ]
  },
  {
   "cell_type": "code",
   "execution_count": 8,
   "metadata": {},
   "outputs": [],
   "source": [
    "def relu(x):\n",
    "    return np.maximum(0,x)"
   ]
  },
  {
   "cell_type": "markdown",
   "metadata": {},
   "source": [
    "# 2. 다차원 배열의 계산\n",
    "\n",
    "## 2.1. 다차원 배열"
   ]
  },
  {
   "cell_type": "code",
   "execution_count": 9,
   "metadata": {},
   "outputs": [
    {
     "name": "stdout",
     "output_type": "stream",
     "text": [
      "A = [1 2 3 4]\n",
      "A의 차원 = 1\n",
      "A의 형상 = (4,)\n"
     ]
    }
   ],
   "source": [
    "# 1차원 배열\n",
    "A = np.array([1,2,3,4])\n",
    "print(\"A = {}\".format(A))\n",
    "print(\"A의 차원 = {}\".format(np.ndim(A)))\n",
    "print(\"A의 형상 = {}\".format(A.shape))"
   ]
  },
  {
   "cell_type": "code",
   "execution_count": 10,
   "metadata": {},
   "outputs": [
    {
     "name": "stdout",
     "output_type": "stream",
     "text": [
      "B = [[1 2]\n",
      " [3 4]\n",
      " [5 6]]\n",
      "B의 차원 = 2\n",
      "B의 형상 = (3, 2)\n"
     ]
    }
   ],
   "source": [
    "# 다차원 배열\n",
    "B = np.array([[1,2], [3,4], [5,6]])\n",
    "print(\"B = {}\".format(B))\n",
    "print(\"B의 차원 = {}\".format(np.ndim(B)))\n",
    "print(\"B의 형상 = {}\".format(B.shape))"
   ]
  },
  {
   "cell_type": "markdown",
   "metadata": {},
   "source": [
    "## 2.2. 신경망에서의 행렬 곱"
   ]
  },
  {
   "cell_type": "markdown",
   "metadata": {},
   "source": [
    "- 신경망은 보통 다차원 행렬의 곱을 사용한다.\n",
    "![신경망의_행렬곱_사용](./images/M_matrix.png)\n",
    "\n",
    "\n",
    "- X 입력 노드\n",
    "\n",
    "- W 가중치 행렬\n",
    "\n",
    "- Y 출력 노드 "
   ]
  },
  {
   "cell_type": "code",
   "execution_count": 11,
   "metadata": {},
   "outputs": [
    {
     "name": "stdout",
     "output_type": "stream",
     "text": [
      "Y = [ 5 11 17]\n",
      "Y의 형상= (3,)\n"
     ]
    }
   ],
   "source": [
    "# 위의 신경만 행렬 곱 구현\n",
    "\n",
    "X = np.array([1, 2])\n",
    "W = np.array([[1,3,5], [2,4,6]])\n",
    "Y = np.dot(X, W)\n",
    "\n",
    "print(\"Y = {}\".format(Y))\n",
    "print(\"Y의 형상= {}\".format(Y.shape))"
   ]
  },
  {
   "cell_type": "markdown",
   "metadata": {},
   "source": [
    "## 2.3. 신경망 구현\n",
    "\n",
    "- 순방향 처리의 구현\n",
    "- 사용 라이브러리 numpy\n",
    "\n",
    "![입력층에서 1층으로 신호 전달](./images/I_to_out.png)\n",
    "- 위 그림의 a<sub>1</sub><sup>(1)</sup>의 값을 수식으로 나타내면\n",
    "$$\n",
    "a^{(1)}_1 = w^{(1)}_{11} x_1 + w^{(1)}_{12} x_2 + b^{(1)}_{1}\n",
    "$$\n",
    "이고 가중치 부분을 간소화하면, 다음과 같이 나타낼 수 있다.\n",
    "$$\n",
    "A^{(1)} = W^{(1)} + B^{(1)}\n",
    "$$\n",
    "로 나타 낼 수 있다.\n",
    "\n",
    "\n",
    "이때 행렬 A<sup>(1)</sup>, X, B<sup>(1)</sup>, W<sup>(1)</sup>은 다음과 같다.\n",
    "$$\n",
    "A^{(1)} = \\matrix{(a^{(1)}_1 & a^{(1)}_2 & a^{(1)}_3)}, \n",
    "\\quad X = \\matrix{(x_1, x_2)}\n",
    "\\quad B^{(1)} = \\matrix{(b^{(1)}_1 & b^{(1)}_2 & b^{(1)}_3)} \\\\\n",
    "\\quad W^{(1)} = \\matrix{w^{(1)}_{11} & w^{(1)}_{21} & w^{(1)}_{31}\\\\\n",
    "                        w^{(1)}_{12} & w^{(1)}_{22} & w^{(1)}_{32}}\n",
    "$$\n",
    "로 표현할 수 있다."
   ]
  },
  {
   "cell_type": "code",
   "execution_count": 12,
   "metadata": {},
   "outputs": [
    {
     "name": "stdout",
     "output_type": "stream",
     "text": [
      "X의 형상= (2,)\n",
      "W1의 형상= (2, 3)\n",
      "B1의 형상= (3,)\n",
      "A1의 값= [0.3 0.7 1.1]\n"
     ]
    }
   ],
   "source": [
    "# 넘파이 배열을 사용하여 구현\n",
    "# 본래는 학습으로 적절한 값을 찾아야하나 여기서는 적당한 값을 넣는다.\n",
    "\n",
    "X = np.array([1.0, 0.5])\n",
    "W1 = np.array([[0.1, 0.3, 0.5], [0.2, 0.4, 0.6]])\n",
    "B1 = np.array([0.1, 0.2, 0.3])\n",
    "\n",
    "print(\"X의 형상= {}\".format(X.shape))\n",
    "print(\"W1의 형상= {}\".format(W1.shape))\n",
    "print(\"B1의 형상= {}\".format(B1.shape))\n",
    "\n",
    "A1 = np.dot(X,W1) + B1\n",
    "print(\"A1의 값= {}\".format(A1))"
   ]
  },
  {
   "cell_type": "code",
   "execution_count": 13,
   "metadata": {},
   "outputs": [
    {
     "name": "stdout",
     "output_type": "stream",
     "text": [
      "A1의 값= [0.3 0.7 1.1]\n",
      "Z1의 값= [0.57444252 0.66818777 0.75026011]\n"
     ]
    }
   ],
   "source": [
    "# A1 값을 활성화 함수 sigmoid를 통과시켜서 활성화 정도를 본다.\n",
    "# sigmoid를 통과한 값을 Z1이라고  칭한다.\n",
    "Z1 = sigmoid(A1)\n",
    "\n",
    "# simgoid는 0~1사이의 값을 갖는다.\n",
    "print(\"A1의 값= {}\".format(A1))\n",
    "print(\"Z1의 값= {}\".format(Z1))"
   ]
  },
  {
   "cell_type": "markdown",
   "metadata": {},
   "source": [
    "이런식으로 나머지 A2, A3, 밑 뒤의 층도 같은 방식으로 구해 나간다."
   ]
  },
  {
   "cell_type": "markdown",
   "metadata": {},
   "source": [
    "## 2.4. 구현 정리"
   ]
  },
  {
   "cell_type": "code",
   "execution_count": 14,
   "metadata": {},
   "outputs": [
    {
     "name": "stdout",
     "output_type": "stream",
     "text": [
      "y의 값= [[0.31682708 0.69627909]]\n"
     ]
    }
   ],
   "source": [
    "# 네트워크의 가중치 밑, 편향값 초기화\n",
    "def init_network():\n",
    "    network = {}\n",
    "    network['W1'] = np.array([[0.1, 0.3, 0.5], [0.2, 0.4, 0.6]])\n",
    "    network['b1'] = np.array([0.1, 0.2, 0.3])\n",
    "    network['W2'] = np.array([[0.1, 0.4], [0.2, 0.5], [0.3,0.6]])\n",
    "    network['b2'] = np.array([0.1, 0.2])\n",
    "    network['W3'] = np.array([[0.1, 0.3], [0.2, 0.4]])\n",
    "    network['b3'] = np.array([[0.1, 0.2]])\n",
    "    \n",
    "    return network\n",
    "\n",
    "# 순방향 처리 작업\n",
    "def forward(network, x):\n",
    "    W1, W2, W3 = network['W1'], network['W2'] ,network['W3']\n",
    "    b1, b2, b3 = network['b1'], network['b2'], network['b3']\n",
    "    \n",
    "    a1 = np.dot(x,W1) + b1\n",
    "    z1 = sigmoid(a1)\n",
    "    a2 = np.dot(z1,W2) + b2\n",
    "    z2 = sigmoid(a2)\n",
    "    a3 = np.dot(z2,W3) + b3\n",
    "    y = a3\n",
    "    \n",
    "    return y\n",
    "\n",
    "network = init_network()\n",
    "x = np.array([1.0, 0.5])\n",
    "y = forward(network, x)\n",
    "\n",
    "print(\"y의 값= {}\".format(y))"
   ]
  },
  {
   "cell_type": "markdown",
   "metadata": {},
   "source": [
    "## 2.5. 출력층 설계\n",
    "\n",
    "### 2.5.1 항등함수, 소프트 맥스 함수 구현\n",
    "\n",
    "- 항등함수는 입력 신호가 그대로 출력되는 함수를 의미\n",
    "- 소프트 맥스 함수\n",
    "$$\n",
    "y_k = \\frac{exp(a_k)}{\\sum^n _{i=1} exp(a_i)}\n",
    "$$"
   ]
  },
  {
   "cell_type": "code",
   "execution_count": 15,
   "metadata": {},
   "outputs": [],
   "source": [
    "# 소프트맥스 함수 구현 1\n",
    "# 이 구현 방법은 오버플로우 문제가 일어날 수 있다. - 지수가 커지면 수가 너무 커지기 때문에\n",
    "def softmax(a):\n",
    "    exp_a = np.exp(a)\n",
    "    sum_exp_a = np.sum(exp_a)\n",
    "    y = exp_a / sum_exp_a\n",
    "    \n",
    "    return y"
   ]
  },
  {
   "cell_type": "markdown",
   "metadata": {},
   "source": [
    "위의 오버플로우 문제를 해결하기 위해서 수식을 개선\n",
    "\n",
    "\n",
    "$$\n",
    "y_k = \\frac{exp(a_k)}{\\sum^n _{i=1} exp(a_i)} = \\frac{C exp(a_k)}{C\\sum^n_{i=1} exp(a_i)}\n",
    "$$\n",
    "\n",
    "\n",
    "$$\n",
    "= \\frac{exp(a_k + logC)}{\\sum^n_{i=1}exp(a_i + logC)}\n",
    "$$\n",
    "\n",
    "\n",
    "$$\n",
    "= \\frac{exp(a_k + C`)}{\\sum^n_{i=1}exp(a_i + C`)}\n",
    "$$\n",
    "\n",
    "이지수 함수를 계산할 때 어떤 정수를 빼거나 더해도 된다는 성질을 이용한다."
   ]
  },
  {
   "cell_type": "code",
   "execution_count": 16,
   "metadata": {},
   "outputs": [],
   "source": [
    "# C`를 입력 신호중 최대값으로 선택하여 빼주면 오버플로우를 해결 할 수 있다.\n",
    "\n",
    "# 소프트맥스 함수 구현2\n",
    "def softmax(a):\n",
    "    c = np.max(a)\n",
    "    exp_a = np.exp(a - c)\n",
    "    sum_exp_a = np.sum(exp_a)\n",
    "    y = exp_a / sum_exp_a\n",
    "    \n",
    "    return y"
   ]
  },
  {
   "cell_type": "markdown",
   "metadata": {},
   "source": [
    "## 2.5.2. 소프트맥스 함수의 특징\n",
    "\n",
    "1. 소프트맥스 함수 출력값들의 총합은 1이다.\n",
    "2. 함수의 출력은 0~1사의 값이다.\n",
    "\n",
    "이상 위의 2가지 성질에 의해서 소프트맥스 함수의 출력값은 '확률'로 해석할 수 있다."
   ]
  },
  {
   "cell_type": "code",
   "execution_count": 17,
   "metadata": {},
   "outputs": [
    {
     "name": "stdout",
     "output_type": "stream",
     "text": [
      "[0.01821127 0.24519181 0.73659691]\n",
      "1.0\n"
     ]
    }
   ],
   "source": [
    "# 소프트맥스 함수의 특징을 보여주는 예)\n",
    "a = np.array([0.3, 2.9, 4.0])\n",
    "y = softmax(a)\n",
    "print(y)\n",
    "print(np.sum(y))"
   ]
  },
  {
   "cell_type": "markdown",
   "metadata": {},
   "source": [
    "## 손글씨 숫자 인식 데이터셋 (mnist)\n",
    "\n",
    "- 이 구현은 순전파를 사용\n",
    "- 이미 학습된 매개변수를 사용"
   ]
  },
  {
   "cell_type": "markdown",
   "metadata": {},
   "source": [
    "### MNIST 데이터셋\n",
    "\n",
    "1. 0~9까지의 숫자 이미지로 구성\n",
    "2. 훈련 이미지 60,000장, 시험 이미지 10,000장으로 구성\n",
    "3. 28X28 크기의 회색조 이미지"
   ]
  },
  {
   "cell_type": "code",
   "execution_count": 18,
   "metadata": {},
   "outputs": [],
   "source": [
    "import tensorflow as tf\n",
    "\n",
    "mnist = tf.keras.datasets.mnist"
   ]
  },
  {
   "cell_type": "code",
   "execution_count": 19,
   "metadata": {},
   "outputs": [],
   "source": [
    "# mnist 데이터 로드\n",
    "(x_train, t_train), (x_test, t_test) = mnist.load_data()\n",
    "\n",
    "# \n",
    "x_train = x_train.reshape(60000, 28*28)\n",
    "x_test = x_test.reshape(10000, 28*28)"
   ]
  },
  {
   "cell_type": "code",
   "execution_count": 20,
   "metadata": {},
   "outputs": [
    {
     "name": "stdout",
     "output_type": "stream",
     "text": [
      "x_train 데이터 = (60000, 784)\n",
      "t_train 데이터 = (60000,)\n",
      "x_test 데이터 = (10000, 784)\n",
      "t_test 데이터 = (10000,)\n"
     ]
    }
   ],
   "source": [
    "# 각 데이터의 형상 출력\n",
    "print(\"x_train 데이터 = {}\".format(x_train.shape))\n",
    "print(\"t_train 데이터 = {}\".format(t_train.shape))\n",
    "print(\"x_test 데이터 = {}\".format(x_test.shape))\n",
    "print(\"t_test 데이터 = {}\".format(t_test.shape))"
   ]
  },
  {
   "cell_type": "code",
   "execution_count": 21,
   "metadata": {},
   "outputs": [
    {
     "name": "stdout",
     "output_type": "stream",
     "text": [
      "5\n",
      "(784,)\n",
      "(28, 28)\n"
     ]
    }
   ],
   "source": [
    "# 이미지 출력\n",
    "from PIL import Image\n",
    "\n",
    "def img_show(img):\n",
    "    pil_img = Image.fromarray(np.uint8(img))\n",
    "    pil_img.show()\n",
    "\n",
    "img = x_train[0]\n",
    "label = t_train[0]\n",
    "print(label) # 이 이미지가 어떤 숫자인지 보여준다.\n",
    "\n",
    "print(img.shape)\n",
    "img = img.reshape(28,28) # 일차원인 이미지 배열을 2차원으로 변경하여 볼 수 있게 만들어준다.\n",
    "print(img.shape)\n",
    "\n",
    "img_show(img)"
   ]
  },
  {
   "cell_type": "code",
   "execution_count": null,
   "metadata": {},
   "outputs": [],
   "source": []
  }
 ],
 "metadata": {
  "kernelspec": {
   "display_name": "tutorial",
   "language": "python",
   "name": "tutorial"
  },
  "language_info": {
   "codemirror_mode": {
    "name": "ipython",
    "version": 3
   },
   "file_extension": ".py",
   "mimetype": "text/x-python",
   "name": "python",
   "nbconvert_exporter": "python",
   "pygments_lexer": "ipython3",
   "version": "3.7.5"
  }
 },
 "nbformat": 4,
 "nbformat_minor": 2
}
