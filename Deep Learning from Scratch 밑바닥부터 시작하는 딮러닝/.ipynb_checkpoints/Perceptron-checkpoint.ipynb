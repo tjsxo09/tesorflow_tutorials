{
 "cells": [
  {
   "cell_type": "markdown",
   "metadata": {},
   "source": [
    "# Perceptron"
   ]
  },
  {
   "cell_type": "markdown",
   "metadata": {},
   "source": [
    "## 개요\n",
    "- 프랑크 로젠블라트가 1957년에 고안\n",
    "- 신경망의 기원이 되는 알고리즘"
   ]
  },
  {
   "cell_type": "markdown",
   "metadata": {},
   "source": [
    "## 퍼셉트론이란?\n",
    "- 다수의 신호를 입력 받아 하나의 신호를 출력한다.\n",
    "- 결과로 신호가 흐른다(1), 흐르지 않는다(0)으로 나올 수 있다.\n",
    "\n",
    "\n",
    "- 입력이 2개인 퍼셉트론\n",
    "![퍼셉트론_이미지](./images/perceptron.png)\n",
    "x는 입력 y는 출력신호, w는 가중치를 의미한다\n",
    "\n",
    "\n",
    "- 수식\n",
    "$$\n",
    "y =\n",
    "\\cases{\n",
    "0 \\quad (w{_1}x{_1} + w{_2}x{_2}\\leq\\theta) \\cr\n",
    "1 \\quad (w{_1}x{_1} + w{_2}x{_2}>\\theta)\n",
    "}\n",
    "$$\n",
    "θ는 임계값으로 이 값을 넘을 때 신호가 흐른다고 할 수 있다."
   ]
  },
  {
   "cell_type": "markdown",
   "metadata": {},
   "source": [
    "## Perceptron의 구현\n",
    "\n",
    "### AND_Gate 구현\n",
    "![AND_Gate_이미지](./images/AND_gate.jpg)"
   ]
  },
  {
   "cell_type": "code",
   "execution_count": 1,
   "metadata": {},
   "outputs": [
    {
     "name": "stdout",
     "output_type": "stream",
     "text": [
      "AND(0,0) = 0\n",
      "AND(0,1) = 0\n",
      "AND(1,0) = 0\n",
      "AND(1,1) = 1\n"
     ]
    }
   ],
   "source": [
    "# 논리회로 AND Gate의 구현\n",
    "\n",
    "def AND(x1, x2):\n",
    "    w1, w2, theta = 0.5, 0.5, 0.7 # 이 가중치와 임계값외에도 여러 값이 AND 게이트 구현이 가능하다.\n",
    "    \n",
    "    tmp = x1*w1 + x2*w2\n",
    "    if tmp <= theta:\n",
    "        return 0;\n",
    "    else :\n",
    "        return 1\n",
    "    \n",
    "# AND 게이트의 구현이 되었는지 확인\n",
    "print(\"AND(0,0) = {}\".format(AND(0,0)))\n",
    "print(\"AND(0,1) = {}\".format(AND(0,1)))\n",
    "print(\"AND(1,0) = {}\".format(AND(1,0)))\n",
    "print(\"AND(1,1) = {}\".format(AND(1,1)))"
   ]
  },
  {
   "cell_type": "markdown",
   "metadata": {},
   "source": [
    "### 가중치와 편향 도입\n",
    "- θ를 -b로 치환하여 식을 수정하면\n",
    "$$\n",
    "y =\n",
    "\\cases{\n",
    "0 \\quad (b + w{_1}x{_1} + w{_2}x{_2}\\leq0) \\cr\n",
    "1 \\quad (b + w{_1}x{_1} + w{_2}x{_2}>0)\n",
    "}\n",
    "$$\n",
    "로 바꿀 수 있고 이를 이용하여 AND GATE를 다시 설정하면"
   ]
  },
  {
   "cell_type": "code",
   "execution_count": 2,
   "metadata": {},
   "outputs": [
    {
     "name": "stdout",
     "output_type": "stream",
     "text": [
      "AND(0,0) = 0\n",
      "AND(0,1) = 0\n",
      "AND(1,0) = 0\n",
      "AND(1,1) = 1\n"
     ]
    }
   ],
   "source": [
    "import numpy as np\n",
    "\n",
    "def AND(x1, x2):\n",
    "    x = np.array([x1, x2])\n",
    "    w = np.array([0.5, 0.5])\n",
    "    b = -0.7\n",
    "    \n",
    "    tmp = np.sum(w*x) + b\n",
    "    if tmp <= 0:\n",
    "        return 0;\n",
    "    else :\n",
    "        return 1\n",
    "    \n",
    "# AND 게이트의 구현이 되었는지 확인\n",
    "print(\"AND(0,0) = {}\".format(AND(0,0)))\n",
    "print(\"AND(0,1) = {}\".format(AND(0,1)))\n",
    "print(\"AND(1,0) = {}\".format(AND(1,0)))\n",
    "print(\"AND(1,1) = {}\".format(AND(1,1)))"
   ]
  },
  {
   "cell_type": "markdown",
   "metadata": {},
   "source": [
    "가중치는 입력 신호의 중요도를 조절하는 매개변수이며\n",
    "\n",
    "\n",
    "편향은 뉴런이 얼마나 쉽게 활성화하는지를 조정하는 매개변수이다.\n",
    "\n",
    "AND와 같이 OR, NAND를 구현하자"
   ]
  },
  {
   "cell_type": "markdown",
   "metadata": {},
   "source": [
    "### NAND, OR Gate 구현\n",
    "![NAND_Gate_이미지](./images/NAND_gate.jpg)\n",
    "\n",
    "![OR_Gate_이미지](./images/OR_gate.jpg)"
   ]
  },
  {
   "cell_type": "code",
   "execution_count": 3,
   "metadata": {},
   "outputs": [
    {
     "name": "stdout",
     "output_type": "stream",
     "text": [
      "NAND(0,0) = 1\n",
      "NAND(0,1) = 1\n",
      "NAND(1,0) = 1\n",
      "NAND(1,1) = 0\n",
      "\n",
      "OR(0,0) = 0\n",
      "OR(0,1) = 1\n",
      "OR(1,0) = 1\n",
      "OR(1,1) = 1\n"
     ]
    }
   ],
   "source": [
    "def NAND(x1, x2):\n",
    "    x = np.array([x1, x2])\n",
    "    w = np.array([-0.5, -0.5])\n",
    "    b = 0.7\n",
    "    \n",
    "    tmp = np.sum(w*x) + b\n",
    "    if tmp <= 0:\n",
    "        return 0;\n",
    "    else :\n",
    "        return 1\n",
    "    \n",
    "def OR(x1, x2):\n",
    "    x = np.array([x1, x2])\n",
    "    w = np.array([0.5, 0.5])\n",
    "    b = -0.2\n",
    "    \n",
    "    tmp = np.sum(w*x) + b\n",
    "    if tmp <= 0:\n",
    "        return 0;\n",
    "    else :\n",
    "        return 1\n",
    "    \n",
    "# NAND 게이트의 구현이 되었는지 확인\n",
    "print(\"NAND(0,0) = {}\".format(NAND(0,0)))\n",
    "print(\"NAND(0,1) = {}\".format(NAND(0,1)))\n",
    "print(\"NAND(1,0) = {}\".format(NAND(1,0)))\n",
    "print(\"NAND(1,1) = {}\".format(NAND(1,1)),end=\"\\n\\n\")\n",
    "\n",
    "# OR 게이트의 구현이 되었는지 확인\n",
    "print(\"OR(0,0) = {}\".format(OR(0,0)))\n",
    "print(\"OR(0,1) = {}\".format(OR(0,1)))\n",
    "print(\"OR(1,0) = {}\".format(OR(1,0)))\n",
    "print(\"OR(1,1) = {}\".format(OR(1,1)))"
   ]
  },
  {
   "cell_type": "markdown",
   "metadata": {},
   "source": [
    "## XOR Gate를 단일 Perceptron으로 구현 할 수 있는가?"
   ]
  },
  {
   "cell_type": "markdown",
   "metadata": {},
   "source": [
    "Perceptron은 직선 방정식이다. 따라서 입력값과 가중치 편향값에 의해서 생성된 직선의 위, 아래로만 0과 1을 구별 할 수 있다.\n",
    "\n",
    "\n",
    "따라서 직선의 위 아래로 구분 할 수 없는 XOR 게이트는 단일 perceptron으로는 구현할 수 없다.\n",
    "\n",
    "- XOR를 구현하기 위해서는 비선형 방정식이 필요하다.\n",
    "![단일_퍼셉트론으로_구현_안됨](./images/XOR_perceptron.png)"
   ]
  },
  {
   "cell_type": "markdown",
   "metadata": {},
   "source": [
    "## 여러 Perceptron을 가지고 XOR 구현하기"
   ]
  },
  {
   "cell_type": "markdown",
   "metadata": {},
   "source": [
    "XOR 게이트는 AND, NAND, OR게이트를 조합하면 구현 할 수 있다. 이를 이용하여 XOR 게이트를 구현해 보자\n",
    "\n",
    "\n",
    "![XOR_Gate_이미지](./images/XOR_gate.png)"
   ]
  },
  {
   "cell_type": "code",
   "execution_count": 5,
   "metadata": {},
   "outputs": [
    {
     "name": "stdout",
     "output_type": "stream",
     "text": [
      "XOR(0,0) = 0\n",
      "XOR(0,1) = 1\n",
      "XOR(1,0) = 1\n",
      "XOR(1,1) = 0\n"
     ]
    }
   ],
   "source": [
    "def XOR(x1, x2):\n",
    "    s1 = NAND(x1, x2)\n",
    "    s2 = OR(x1, x2)\n",
    "    y = AND(s1, s2)\n",
    "    \n",
    "    return y\n",
    "\n",
    "# XOR 게이트의 구현이 되었는지 확인\n",
    "print(\"XOR(0,0) = {}\".format(XOR(0,0)))\n",
    "print(\"XOR(0,1) = {}\".format(XOR(0,1)))\n",
    "print(\"XOR(1,0) = {}\".format(XOR(1,0)))\n",
    "print(\"XOR(1,1) = {}\".format(XOR(1,1)))"
   ]
  },
  {
   "cell_type": "code",
   "execution_count": null,
   "metadata": {},
   "outputs": [],
   "source": []
  }
 ],
 "metadata": {
  "kernelspec": {
   "display_name": "tutorial",
   "language": "python",
   "name": "tutorial"
  },
  "language_info": {
   "codemirror_mode": {
    "name": "ipython",
    "version": 3
   },
   "file_extension": ".py",
   "mimetype": "text/x-python",
   "name": "python",
   "nbconvert_exporter": "python",
   "pygments_lexer": "ipython3",
   "version": "3.7.5"
  }
 },
 "nbformat": 4,
 "nbformat_minor": 2
}
