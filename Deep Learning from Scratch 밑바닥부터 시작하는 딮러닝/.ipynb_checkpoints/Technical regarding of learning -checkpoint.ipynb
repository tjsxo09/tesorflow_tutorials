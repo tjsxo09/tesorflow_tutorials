{
 "cells": [
  {
   "cell_type": "markdown",
   "metadata": {},
   "source": [
    "# 1. 학습 관련 기술들\n",
    "\n",
    "1. 최적화 방법\n",
    "2. 가중치 매개변수 초깃값,\n",
    "3. 하이퍼파라미터 설정 방법\n",
    "4. 오버피팅 대응책(가중치 감소, 드롭아웃)"
   ]
  },
  {
   "cell_type": "markdown",
   "metadata": {},
   "source": [
    "## 2.1. 매개변수 갱신\n",
    "\n",
    "- 신경망 학습 목적 \n",
    "  - 손실 함수 값을 가능한 낮추는 매개변수를 찾는 것"
   ]
  },
  {
   "cell_type": "markdown",
   "metadata": {},
   "source": [
    "### 2.1.1 확률적 경사 하강법(SGD)\n",
    "\n",
    "- 학습 데이터에서 배치 크기만큼 데이터를 뽑아서 손실 함수를 얻은다음 학습하는 방법\n",
    "- 수식\n",
    "$$\n",
    "W \\leftarrow W - \\eta \\frac{\\delta L}{\\delta W}\n",
    "$$\n",
    "\n",
    "\n",
    "해석 : W(가중치)를 W에 대한 손실 함수의 기울기방향으로 학습률 eta 만큼 이동시킨다. "
   ]
  },
  {
   "cell_type": "code",
   "execution_count": 1,
   "metadata": {},
   "outputs": [],
   "source": [
    "import numpy as np\n",
    "import matplotlib.pyplot as plt\n",
    "\n",
    "class SGD:\n",
    "    def __init__(self, lr=0.01):\n",
    "        self.lr = lr\n",
    "    \n",
    "    def update(self, params, grads):\n",
    "        for key in params.keys():\n",
    "            params[key] -= self.lr * grad[key] # 파라미터를 기울기 방향으로 lr 보폭으로 이동"
   ]
  },
  {
   "cell_type": "markdown",
   "metadata": {},
   "source": [
    "- 의사코드\n",
    "\n",
    "network = TwoLayerNet(인자) \n",
    "\n",
    "optimizer = SGD()\n",
    "\n",
    "for i in range(10000):\n",
    "    \n",
    "    x_batch, t_batch = get_mini_batch(인자)\n",
    "    grads = network.gradient(x_batch, t_batch)\n",
    "    params = network.params\n",
    "    optimizer.update(params, grads)\n",
    "    \n",
    "    \n",
    "1. 네트워크 설정\n",
    "2. 최적화 방법 설정\n",
    "3. 배치 데이터 생성\n",
    "4. 배치 데이터의 기울기 구하기\n",
    "5. 파라미터 갱신"
   ]
  },
  {
   "cell_type": "markdown",
   "metadata": {},
   "source": [
    "### 2.1.2 SGD의 단점\n",
    "\n",
    "- 문제에 따라서는 비효율적일 때가 존재\n",
    "    1. Local minima가 존재할 경우 학습이 제대로 완료 되지 않을 수 있음.\n",
    "    2. 기울기의 방향이 최소점으로 바로 향하지 않아 학습이 비효율적이게 될 수 있음.\n",
    "  "
   ]
  },
  {
   "cell_type": "markdown",
   "metadata": {},
   "source": [
    "### 2.1.3. 모멘텀\n",
    "\n",
    "- 공이 굴러가듯 학습에 관성의 요소를 넣어준 것\n",
    "- SGD에서의 지그재그로 움직이는 움직임이 줄어든다.\n",
    "\n",
    "- 수식\n",
    "$$\n",
    "v \\leftarrow \\alpha v - \\eta \\frac{\\delta L}{\\delta W} \\\\\n",
    "W \\leftarrow W - v\n",
    "$$"
   ]
  },
  {
   "cell_type": "code",
   "execution_count": 2,
   "metadata": {},
   "outputs": [],
   "source": [
    "# 모멘텀 구현\n",
    "class Momentum:\n",
    "    def __init__(self, lr=0.01, momentum=0.9):\n",
    "        self.lr = lr\n",
    "        self.momentum = momentum\n",
    "        self.v = None\n",
    "        \n",
    "    def update(self, params, grads):\n",
    "        if self.v is None:\n",
    "            self.v = {}\n",
    "            for key, val in params.items():\n",
    "                self.v[key] = np.zeros_like(val)\n",
    "                \n",
    "        for key in params.keys():\n",
    "            self.v[key] = self.momentum * self.v[key] - self.lr * grads[key]\n",
    "            params[key] += self.v[key]"
   ]
  },
  {
   "cell_type": "markdown",
   "metadata": {},
   "source": [
    "### 2.1.4 AdaGrad\n",
    "\n",
    "- 매개변수 전체의 학습률을 일괄적으로 낮추는 방법\n",
    "\n",
    "- 수식\n",
    "$$\n",
    "h \\leftarrow h + \\frac{\\delta L}{\\delta W} \\odot \\frac{\\delta L}{\\delta W} \\\\\n",
    "W \\leftarrow W - \\eta \\frac{1}{\\sqrt{h}} \\frac{\\delta L}{\\delta W}\n",
    "$$\n",
    "\n",
    "학습률을 root(h)만큼 계속해서 줄여준다."
   ]
  },
  {
   "cell_type": "code",
   "execution_count": 3,
   "metadata": {},
   "outputs": [],
   "source": [
    "# AdaGrade 구현\n",
    "class AdaGrad:\n",
    "    def __init__(self, lr=0.01):\n",
    "        self.lr = lr\n",
    "        self.h = None\n",
    "        \n",
    "    def update(self, paramas, grads):\n",
    "        if self.h == None:\n",
    "            self.h = {}\n",
    "            for key, val in paramas.item():\n",
    "                self.h[key] = np.zeros_like(val)\n",
    "            \n",
    "        for key in params.key():\n",
    "            self.h[key] +=  grads[key] * grads[key]\n",
    "            paramas[key] -= lr * grads[key] / (np.sqrt(self.h[key]) + 1e-7)"
   ]
  },
  {
   "cell_type": "markdown",
   "metadata": {},
   "source": [
    "### 2.1.5 Adam\n",
    " - AdaGrad와 Momentum을 합친 방법 구현은 생략 "
   ]
  },
  {
   "cell_type": "markdown",
   "metadata": {},
   "source": [
    "### 2.1.6. 어느 방법을 사용할까?\n",
    "\n",
    "- 각자 장단점이 있기에 정해진 좋은 방법은 없으며 여러 방법을 사용해봐야한다."
   ]
  },
  {
   "cell_type": "markdown",
   "metadata": {},
   "source": [
    "# 3. 가중치의 초깃값\n",
    "\n",
    "## 3.1. 초깃값을 0으로 하면?\n",
    "\n",
    "- 학습이 제대로 이루어지지 않는다.\n",
    "- 가중치의 값을 균일한 값으로 설정하면 역전파를 할 때 모든 가중치 값이 똑같이 갱신된다.\n",
    "- 따라서 가중치를 여러개 같게하는 의미가 없다."
   ]
  },
  {
   "cell_type": "markdown",
   "metadata": {},
   "source": [
    "## 3.2. 은닉층의 활성화값 분포\n",
    "\n",
    "- 가중치의 초깃값에 따라 은닉층 활성화값들이 어떻게 변화하는가?\n",
    "- Sigmoid 함수를 사용하는 5층 신경망으로 실험"
   ]
  },
  {
   "cell_type": "code",
   "execution_count": 4,
   "metadata": {},
   "outputs": [],
   "source": [
    "# 가중치를 정규분포를 그대로 할당할 경우\n",
    "def sigmoid(x):\n",
    "    return 1 / (1 + np.exp(-x))\n",
    "\n",
    "x = np.random.randn(1000, 100) # 1000개의 데이터 생성\n",
    "node_num = 100 # 은닉층 뉴런 수\n",
    "hidden_layer_size = 5\n",
    "activations = {} # 활성화 결과 저장\n",
    "\n",
    "for i in range(hidden_layer_size):\n",
    "    if i != 0:\n",
    "        x = activations[i-1]\n",
    "        \n",
    "    w = np.random.randn(node_num, node_num) * 1 # 표준편차가 1인 정규분포 가중치 생성\n",
    "    a = np.dot(x, w)\n",
    "    z = sigmoid(a)\n",
    "    activations[i] = z"
   ]
  },
  {
   "cell_type": "code",
   "execution_count": 5,
   "metadata": {},
   "outputs": [
    {
     "data": {
      "image/png": "[encoded data removed]",
      "text/plain": [
       "<Figure size 432x288 with 5 Axes>"
      ]
     },
     "metadata": {
      "needs_background": "light"
     },
     "output_type": "display_data"
    }
   ],
   "source": [
    "# 표준편차가 1인 히스토그램 그리기\n",
    "for i, a in activations.items():\n",
    "    plt.subplot(1, len(activations), i+1)\n",
    "    plt.title(str(i+1) + \"-layer\")\n",
    "    plt.hist(a.flatten(), 30, range=(0,1))\n",
    "plt.show()"
   ]
  },
  {
   "cell_type": "markdown",
   "metadata": {},
   "source": [
    "- 위의 그래프를 보게되면 각 가중치값이 0과 1에 치우쳐 분포되어 있다.\n",
    "- sigmoid 함수에서 출력이 0에 가까워지면 미분값도 0에 가까워져 결국 미분값이 사라지게 된다.\n",
    "- 위와 같이 가중치 값이 0과 1에 가까워져서 기울기가 사라지는것을 기울기 소실(Gradient vanishing)이라고 합니다."
   ]
  },
  {
   "cell_type": "code",
   "execution_count": 6,
   "metadata": {},
   "outputs": [],
   "source": [
    "x = np.random.randn(1000, 100) \n",
    "node_num = 100 \n",
    "hidden_layer_size = 5\n",
    "activations = {} \n",
    "w = np.random.randn(node_num, node_num) * 0.01 # 무작위값을 설정할때 푠준편차가 0.01인 정규분포 설정"
   ]
  },
  {
   "cell_type": "code",
   "execution_count": 7,
   "metadata": {},
   "outputs": [
    {
     "data": {
      "image/png": "[encoded data removed]",
      "text/plain": [
       "<Figure size 432x288 with 5 Axes>"
      ]
     },
     "metadata": {
      "needs_background": "light"
     },
     "output_type": "display_data"
    }
   ],
   "source": [
    "for i in range(hidden_layer_size):\n",
    "    if i != 0:\n",
    "        x = activations[i-1]\n",
    "        \n",
    "    a = np.dot(x, w)\n",
    "    z = sigmoid(a)\n",
    "    activations[i] = z\n",
    "    \n",
    "\n",
    "for i, a in activations.items():\n",
    "    plt.subplot(1, len(activations), i+1)\n",
    "    plt.title(str(i+1) + \"-layer\")\n",
    "    plt.hist(a.flatten(), 30, range=(0,1))\n",
    "plt.show()"
   ]
  },
  {
   "cell_type": "markdown",
   "metadata": {},
   "source": [
    "- 0.5 부근에 집중됨\n",
    "- 이는 기울기 소실 문제는 일어나지 않았지만 표현력에 문제가 생김\n",
    "- 뉴런을 여러개 만든 이유가 없음"
   ]
  },
  {
   "cell_type": "markdown",
   "metadata": {},
   "source": [
    "#### Xavier 초기값을 사용\n",
    "\n",
    "- 표준편차를 앞계층의 노드 개수가 n개라면 root(n)을 사용하는 초기값"
   ]
  },
  {
   "cell_type": "code",
   "execution_count": 8,
   "metadata": {},
   "outputs": [
    {
     "data": {
      "image/png": "[encoded data removed]",
      "text/plain": [
       "<Figure size 432x288 with 5 Axes>"
      ]
     },
     "metadata": {
      "needs_background": "light"
     },
     "output_type": "display_data"
    }
   ],
   "source": [
    "x = np.random.randn(1000, 100) \n",
    "node_num = 100 \n",
    "hidden_layer_size = 5\n",
    "activations = {} \n",
    "w = np.random.randn(node_num, node_num) / np.sqrt(node_num)\n",
    "\n",
    "for i in range(hidden_layer_size):\n",
    "    if i != 0:\n",
    "        x = activations[i-1]\n",
    "        \n",
    "    a = np.dot(x, w)\n",
    "    z = sigmoid(a)\n",
    "    activations[i] = z\n",
    "    \n",
    "\n",
    "for i, a in activations.items():\n",
    "    plt.subplot(1, len(activations), i+1)\n",
    "    plt.title(str(i+1) + \"-layer\")\n",
    "    plt.hist(a.flatten(), 30, range=(0,1))\n",
    "plt.show()"
   ]
  },
  {
   "cell_type": "markdown",
   "metadata": {},
   "source": [
    "## 3.3. ReLU를 사용할 때의 가중치 초기값\n",
    "\n",
    "- Xavier 초깃값은 활성화 함수가 선형인 것을 전제로 한다.\n",
    "- Sigmoid, ReLU는 비선형 함수이므로 다른 초기값을 추천한다.\n",
    "\n",
    "\n",
    "- ReLU의 경우 Kaiming He의 이름을 딴 He 초기값을 사용한다.\n",
    "- He 초기값은 앞 계층의 노드가 n개일 때, 표준편차가 root(2/n)인 정규분포를 사용\n",
    "\n",
    "\n",
    "#### ReLU 활성화 함수, He 초기값 사용"
   ]
  },
  {
   "cell_type": "code",
   "execution_count": 9,
   "metadata": {},
   "outputs": [
    {
     "data": {
      "image/png": "[encoded data removed]",
      "text/plain": [
       "<Figure size 432x288 with 5 Axes>"
      ]
     },
     "metadata": {
      "needs_background": "light"
     },
     "output_type": "display_data"
    }
   ],
   "source": [
    "def ReLU(x):\n",
    "    return np.maximum(0, x)\n",
    "        \n",
    "\n",
    "# He 초기값을 사용한 가중치 분포\n",
    "x = np.random.randn(1000, 100) \n",
    "node_num = 100 \n",
    "hidden_layer_size = 5\n",
    "activations = {} \n",
    "w = np.random.randn(node_num, node_num) * np.sqrt(2/node_num)\n",
    "\n",
    "for i in range(hidden_layer_size):\n",
    "    if i != 0:\n",
    "        x = activations[i-1]\n",
    "        \n",
    "    a = np.dot(x, w)\n",
    "    z = ReLU(a)\n",
    "    activations[i] = z\n",
    "    \n",
    "\n",
    "for i, a in activations.items():\n",
    "    plt.subplot(1, len(activations), i+1)\n",
    "    plt.title(str(i+1) + \"-layer\")\n",
    "    plt.hist(a.flatten(), 30, range=(0,1))\n",
    "plt.show()"
   ]
  },
  {
   "cell_type": "markdown",
   "metadata": {},
   "source": [
    "#### ReLU 활성화 함수, 표준분포가 0.01인   사용"
   ]
  },
  {
   "cell_type": "code",
   "execution_count": 10,
   "metadata": {},
   "outputs": [
    {
     "data": {
      "image/png": "[encoded data removed]",
      "text/plain": [
       "<Figure size 432x288 with 5 Axes>"
      ]
     },
     "metadata": {
      "needs_background": "light"
     },
     "output_type": "display_data"
    }
   ],
   "source": [
    "x = np.random.randn(1000, 100) \n",
    "node_num = 100 \n",
    "hidden_layer_size = 5\n",
    "activations = {} \n",
    "w = np.random.randn(node_num, node_num) * 0.01 # 무작위값을 설정할때 푠준편차가 0.01인 정규분포 설정\n",
    "\n",
    "for i in range(hidden_layer_size):\n",
    "    if i != 0:\n",
    "        x = activations[i-1]\n",
    "        \n",
    "    a = np.dot(x, w)\n",
    "    z = ReLU(a)\n",
    "    activations[i] = z\n",
    "    \n",
    "\n",
    "for i, a in activations.items():\n",
    "    plt.subplot(1, len(activations), i+1)\n",
    "    plt.title(str(i+1) + \"-layer\")\n",
    "    plt.hist(a.flatten(), 30, range=(0,1))\n",
    "plt.show()"
   ]
  },
  {
   "cell_type": "markdown",
   "metadata": {},
   "source": [
    "#### ReLU 활성화 함수, Xavier 초기값을 사용할 경우"
   ]
  },
  {
   "cell_type": "code",
   "execution_count": 12,
   "metadata": {},
   "outputs": [
    {
     "data": {
      "image/png": "[encoded data removed]",
      "text/plain": [
       "<Figure size 432x288 with 5 Axes>"
      ]
     },
     "metadata": {
      "needs_background": "light"
     },
     "output_type": "display_data"
    }
   ],
   "source": [
    "x = np.random.randn(1000, 100) \n",
    "node_num = 100 \n",
    "hidden_layer_size = 5\n",
    "activations = {} \n",
    "w = np.random.randn(node_num, node_num) / np.sqrt(node_num)\n",
    "\n",
    "for i in range(hidden_layer_size):\n",
    "    if i != 0:\n",
    "        x = activations[i-1]\n",
    "        \n",
    "    a = np.dot(x, w)\n",
    "    z = ReLU(a)\n",
    "    activations[i] = z\n",
    "    \n",
    "\n",
    "for i, a in activations.items():\n",
    "    plt.subplot(1, len(activations), i+1)\n",
    "    plt.title(str(i+1) + \"-layer\")\n",
    "    plt.hist(a.flatten(), 30, range=(0,1))\n",
    "plt.show()"
   ]
  },
  {
   "cell_type": "markdown",
   "metadata": {},
   "source": [
    "# 4. 배치 정규화\n",
    "\n",
    "## 4.1. 배치 정규화 알고리즘\n",
    "\n",
    "### 장점\n",
    "1. 학습을 빨리 진행할 수 있다.\n",
    "2. 초기값에 크게 의존하지 않는다.\n",
    "3. 오버피팅을 억제한다. \n",
    "\n",
    "- 배치 정규화의 그림 예시\n",
    "![배치_정규화를_사용한_신경망의_예](./images/batch_nor.png)\n"
   ]
  },
  {
   "cell_type": "markdown",
   "metadata": {},
   "source": [
    "- 데이터 분포가 평균이 0, 분산이 1이 되도록 정규화 한다.\n",
    "$$\n",
    "\\mu_B \\leftarrow \\frac{1}{m} \\sum^m_{i=1}x_i \\\\\n",
    "\\sigma^2_B \\leftarrow \\frac{1}{m} \\sum^m_{i=1}(x_i - \\mu_B)^2 \\\\ \n",
    "\\hat{x}_i \\leftarrow \\frac{x_i - \\mu_B}{\\sqrt{\\sigma^2_B+\\epsilon}}\n",
    "$$"
   ]
  },
  {
   "cell_type": "markdown",
   "metadata": {},
   "source": [
    "- 기호 의미\n",
    " 1. B -> 미니배치\n",
    " 2. m -> 미니배치의 m 번째의 입력데이터\n",
    " 3. μ -> 평균\n",
    " 4. σ -> 미니 배치에 대한 분산\n",
    " 5. ε -> 매우 작은 값"
   ]
  },
  {
   "cell_type": "markdown",
   "metadata": {},
   "source": [
    "- 배치 정규화를 하는 방법\n",
    "    1. 미니배치의 평균과 분산을 계산\n",
    "    2. 입력 데이터 평균이 0, 분산이 1이 되게 정규화\n",
    "    3. 배치 정규화 계층마다 정규화된 데이터에 확대와 이동변환 수행"
   ]
  },
  {
   "cell_type": "markdown",
   "metadata": {},
   "source": [
    "- 위 식의 3번째 식은 미니배치 입력 데이터 평균0, 분산 1인 데이터로 변환해준다."
   ]
  },
  {
   "cell_type": "markdown",
   "metadata": {},
   "source": [
    "- 확대와 이동 변환 수식\n",
    "$$\n",
    "y_i \\leftarrow \\gamma \\hat{x}_i + \\beta\n",
    "$$\n",
    "- γ = 1, β= 0부터 시작하고, 학습하면서 적절한 값으료로 조정한다.\n",
    "\n",
    "\n",
    "- 배치 정규화의 그래프 예시\n",
    "![배치_정규화_그래프](./images/batch_graph.png)"
   ]
  },
  {
   "cell_type": "markdown",
   "metadata": {},
   "source": [
    "# 5. 가중치 감소(weight decay)\n",
    "\n",
    "- 학습 과정에서 큰 가중치에 대해서는 상응하는 큰 페널티를 부과하는 방법\n",
    "- 오버피팅을 억제하는 방법 중 하나\n",
    "\n",
    "## 5.1. 가중치 감소 방법\n",
    "1. 가중치의 제곱 노름을 손실함수에 더함(L2)\n",
    "\n",
    "- L2 노름\n",
    "    - 모든 가중치 각각의 손실 함수에 (1/2)λW<sup>2</sup>을 더한다."
   ]
  },
  {
   "cell_type": "markdown",
   "metadata": {},
   "source": [
    "# 6. 드롭아웃(dropout)\n",
    "\n",
    "- 뉴런을 임의로 삭제하면서 학습하는 방법\n",
    "- 은닉층의 뉴련을 무작위로 골라 삭제\n",
    "\n",
    "\n",
    "- 드롭아웃의 예시 그림\n",
    "![드롭아웃](./images/dropout.png)"
   ]
  },
  {
   "cell_type": "markdown",
   "metadata": {},
   "source": [
    "## 장점\n",
    "\n",
    "1. 오버피팅 억제\n",
    "2. 표현력을 높힐 수 있음"
   ]
  },
  {
   "cell_type": "code",
   "execution_count": null,
   "metadata": {},
   "outputs": [],
   "source": []
  }
 ],
 "metadata": {
  "kernelspec": {
   "display_name": "tutorial",
   "language": "python",
   "name": "tutorial"
  },
  "language_info": {
   "codemirror_mode": {
    "name": "ipython",
    "version": 3
   },
   "file_extension": ".py",
   "mimetype": "text/x-python",
   "name": "python",
   "nbconvert_exporter": "python",
   "pygments_lexer": "ipython3",
   "version": "3.7.5"
  }
 },
 "nbformat": 4,
 "nbformat_minor": 2
}
